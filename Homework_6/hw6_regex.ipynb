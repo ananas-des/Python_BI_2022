{
 "cells": [
  {
   "cell_type": "code",
   "execution_count": 21,
   "metadata": {},
   "outputs": [],
   "source": [
    "import os\n",
    "import re\n",
    "import matplotlib.pyplot as plt"
   ]
  },
  {
   "cell_type": "markdown",
   "metadata": {},
   "source": [
    "# Task1. FTP links parsing"
   ]
  },
  {
   "cell_type": "code",
   "execution_count": 3,
   "metadata": {},
   "outputs": [],
   "source": [
    "# removing output file 'ftps' if it is pre-existed\n",
    "if os.path.isfile('ftps'):\n",
    "        os.remove('ftps')\n",
    "# parsing file 'references' for ftp links\n",
    "pattern = re.compile(r'[;\\s](ftp[^;\\s]+)')\n",
    "with open('references', 'r') as ref:\n",
    "        next(ref)                                        # for first line skipping\n",
    "        while True:  \n",
    "            line  = ref.readline()\n",
    "            for i in re.findall(pattern, line): # to find all ftp links in line\n",
    "                with open('ftps', 'a') as ftps_file: \n",
    "                    ftps_file.write(f'{i}\\n')            # writing ftp links in ftps file\n",
    "            if line == '':\n",
    "                break"
   ]
  },
  {
   "cell_type": "markdown",
   "metadata": {},
   "source": [
    "# Task2. Finding all numbers in '2430 A.D.'"
   ]
  },
  {
   "cell_type": "code",
   "execution_count": 4,
   "metadata": {},
   "outputs": [
    {
     "name": "stdout",
     "output_type": "stream",
     "text": [
      "['2430', '1969', '2430', '2430', '57', '57', '1970', '3.68', '35', '460', '2430']\n"
     ]
    }
   ],
   "source": [
    "with open('2430AD', 'r') as file:\n",
    "    pattern = re.compile(r'\\b\\d+\\.?\\d*\\b')\n",
    "    text  = file.read()\n",
    "    numbers = re.findall(pattern, text)\n",
    "print(numbers)"
   ]
  },
  {
   "cell_type": "markdown",
   "metadata": {},
   "source": [
    "# Task3. Finding all words with 'A' or 'a'"
   ]
  },
  {
   "cell_type": "code",
   "execution_count": 5,
   "metadata": {},
   "outputs": [
    {
     "data": {
      "text/plain": [
       "983"
      ]
     },
     "execution_count": 5,
     "metadata": {},
     "output_type": "execute_result"
    }
   ],
   "source": [
    "pattern = re.compile(r'(?i)\\b\\S*[a]\\S*\\b')\n",
    "Aa_words = re.findall(pattern, text)\n",
    "len(Aa_words)"
   ]
  },
  {
   "cell_type": "markdown",
   "metadata": {},
   "source": [
    "# Task4. Finding all exclamation sentences"
   ]
  },
  {
   "cell_type": "code",
   "execution_count": 6,
   "metadata": {},
   "outputs": [
    {
     "data": {
      "text/plain": [
       "['Yes!',\n",
       " 'Literally!',\n",
       " 'There was once a time!',\n",
       " 'Centuries ago!',\n",
       " 'Think, Cranwitz!',\n",
       " 'If we succeed!']"
      ]
     },
     "execution_count": 6,
     "metadata": {},
     "output_type": "execute_result"
    }
   ],
   "source": [
    "pattern = re.compile(r'[A-Z][^\\.?!]*!')\n",
    "excl_sentences = re.findall(pattern, text)\n",
    "excl_sentences"
   ]
  },
  {
   "cell_type": "markdown",
   "metadata": {},
   "source": [
    "# Task5. The unique words length distribution in text (case-insensetive)"
   ]
  },
  {
   "cell_type": "code",
   "execution_count": 40,
   "metadata": {},
   "outputs": [],
   "source": [
    "pattern = re.compile(r'''(?i)\\b[\\S]+\\b''')\n",
    "words = re.findall(pattern, text) # finding all words in the text\n",
    "words = set([word.lower() for word in all_words]) # all unique words to low case\n",
    "word_lengths = [len(word) for word in all_words] # length for each word\n",
    "unique_lengths = set(word_lengths) # length for all unique words\n",
    "# dictionary with word length as key and its share as value\n",
    "length_distr = dict((length, word_lengths.count(length)/len(words)) for length in unique_lengths)"
   ]
  },
  {
   "cell_type": "code",
   "execution_count": 41,
   "metadata": {
    "scrolled": true
   },
   "outputs": [
    {
     "data": {
      "text/plain": [
       "<BarContainer object of 20 artists>"
      ]
     },
     "execution_count": 41,
     "metadata": {},
     "output_type": "execute_result"
    },
    {
     "data": {
      "image/png": "[encoded data removed]",
      "text/plain": [
       "<Figure size 600x400 with 1 Axes>"
      ]
     },
     "metadata": {
      "needs_background": "light"
     },
     "output_type": "display_data"
    }
   ],
   "source": [
    "# Unique words length distribution bar plot\n",
    "plt.figure(dpi=100)\n",
    "plt.title('Unique words length distribution', fontweight='bold', size=14)\n",
    "plt.xlabel('word length')\n",
    "plt.ylabel('unique words length share')\n",
    "plt.xticks(range(1, 22, 2))\n",
    "plt.bar(length_distr.keys(), length_distr.values(), color='green')"
   ]
  },
  {
   "cell_type": "markdown",
   "metadata": {},
   "source": [
    "# Task6. From Russian to Brickish"
   ]
  },
  {
   "cell_type": "code",
   "execution_count": 23,
   "metadata": {},
   "outputs": [
    {
     "data": {
      "text/plain": [
       "('Я очень люблю картофель. Боже, дай мне больше картофеля и булок, и мяса!',\n",
       " 'Якя окочекень люкюблюкю какартокофекель. Бокожеке, дакай мнеке бокольшеке какартокофекелякя ики букулокок, ики мякясака!')"
      ]
     },
     "execution_count": 23,
     "metadata": {},
     "output_type": "execute_result"
    }
   ],
   "source": [
    "def brickish(phrase):\n",
    "    '''Function brickish() translates Russian to brick language:)\n",
    "    \n",
    "    Parameters:\n",
    "    phrase (str): word, phase, or sentence(s) to translate\n",
    "    \n",
    "    Returns:\n",
    "    bricks (str): translation result\n",
    "    '''\n",
    "    \n",
    "    def do_brick(sylab):\n",
    "        return sylab.group(0) + 'к' + sylab.group(0)[-1].lower() \n",
    "    \n",
    "    \n",
    "    vowels = 'аАоОыЫуУэЭяЯёЁеЕиИюЮ'\n",
    "    pattern = rf'[^\\s{vowels}]?[{vowels}]'    \n",
    "    bricks = re.sub(pattern, do_brick, phrase)\n",
    "    return bricks\n",
    "\n",
    "\n",
    "phrase = 'Я очень люблю картофель. Боже, дай мне больше картофеля и булок, и мяса!'\n",
    "phrase, brickish(phrase)"
   ]
  },
  {
   "cell_type": "markdown",
   "metadata": {},
   "source": [
    "# Task7. Function for searching sentences with given words number"
   ]
  },
  {
   "cell_type": "code",
   "execution_count": 20,
   "metadata": {},
   "outputs": [
    {
     "data": {
      "text/plain": [
       "[('А', 'здесь', 'три'),\n",
       " ('Here', 'three', 'words'),\n",
       " ('God', 'potato', 'duck'),\n",
       " ('Three', 'words', 'indeed')]"
      ]
     },
     "execution_count": 20,
     "metadata": {},
     "output_type": "execute_result"
    }
   ],
   "source": [
    "def n_words_sentences(text, n):\n",
    "    '''Function n_words_sentences() parses given text for sentences with n words\n",
    "    \n",
    "    Parameters:\n",
    "    text (str): given text for searching\n",
    "    n (int): number of words in sentence\n",
    "    \n",
    "    Returns:\n",
    "    n_words (list of tuples): resulted tuples of words\n",
    "    '''\n",
    "    \n",
    "    pattern = re.compile(r'(\\b[A-ZА-Я]\\w*\\b)[,:;]?' + r'\\s(\\w+\\b)[,:;]?'*(n-1) + r'(?:[\\.!\\?]|$)')\n",
    "    n_words = re.findall(pattern, text)\n",
    "    return n_words\n",
    "\n",
    "\n",
    "text = 'Two words. One. Здесь два А здесь три. Here three words. God, potato duck. Three words indeed?'\n",
    "n = 3\n",
    "n_words_sentences(text, n)"
   ]
  }
 ],
 "metadata": {
  "kernelspec": {
   "display_name": "Python 3",
   "language": "python",
   "name": "python3"
  },
  "language_info": {
   "codemirror_mode": {
    "name": "ipython",
    "version": 3
   },
   "file_extension": ".py",
   "mimetype": "text/x-python",
   "name": "python",
   "nbconvert_exporter": "python",
   "pygments_lexer": "ipython3",
   "version": "3.7.3"
  }
 },
 "nbformat": 4,
 "nbformat_minor": 2
}
