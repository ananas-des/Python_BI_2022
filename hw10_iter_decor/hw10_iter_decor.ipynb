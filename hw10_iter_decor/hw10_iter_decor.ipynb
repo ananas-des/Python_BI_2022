{
 "cells": [
  {
   "cell_type": "markdown",
   "id": "72f5013c-f4b9-4a1f-aed9-7e47623e7c8a",
   "metadata": {},
   "source": [
    "# Задание 1 (2 балла)"
   ]
  },
  {
   "cell_type": "markdown",
   "id": "0e818fc0-4716-45c6-8942-7b60da358200",
   "metadata": {},
   "source": [
    "Напишите класс `MyDict`, который будет полностью повторять поведение обычного словаря, за исключением того, что при итерации мы должны получать и ключи, и значения.\n",
    "\n",
    "**Модули использовать нельзя**"
   ]
  },
  {
   "cell_type": "code",
   "execution_count": 1,
   "id": "3dc27675-99fc-4040-a8f7-aa20be51c816",
   "metadata": {},
   "outputs": [],
   "source": [
    "class MyDict(dict):\n",
    "    '''A derivative class of a regular dictionary, with the exception of iteration giving both keys and values'''\n",
    "    \n",
    "    \n",
    "    def __iter__(self):\n",
    "        self.iterator = iter(self.items())\n",
    "        return self\n",
    "    \n",
    "    \n",
    "    def __next__(self):\n",
    "        return next(self.iterator)"
   ]
  },
  {
   "cell_type": "code",
   "execution_count": 2,
   "id": "a96e453e-2553-40b1-889f-cce04c6db771",
   "metadata": {},
   "outputs": [
    {
     "name": "stdout",
     "output_type": "stream",
     "text": [
      "a 1\n",
      "b 2\n",
      "c 3\n",
      "d 25\n"
     ]
    }
   ],
   "source": [
    "dct = MyDict({\"a\": 1, \"b\": 2, \"c\": 3, \"d\": 25})\n",
    "for key, value in dct:\n",
    "    print(key, value)   "
   ]
  },
  {
   "cell_type": "code",
   "execution_count": 3,
   "id": "d3b93507-d88a-4773-8d6f-31990e1effbc",
   "metadata": {},
   "outputs": [
    {
     "name": "stdout",
     "output_type": "stream",
     "text": [
      "a 1\n",
      "b 2\n",
      "c 3\n",
      "d 25\n"
     ]
    }
   ],
   "source": [
    "for key, value in dct.items():\n",
    "    print(key, value)"
   ]
  },
  {
   "cell_type": "code",
   "execution_count": 4,
   "id": "9be2de18-f963-4de0-afba-c183a9a56087",
   "metadata": {},
   "outputs": [
    {
     "name": "stdout",
     "output_type": "stream",
     "text": [
      "a\n",
      "b\n",
      "c\n",
      "d\n"
     ]
    }
   ],
   "source": [
    "for key in dct.keys():\n",
    "    print(key)"
   ]
  },
  {
   "cell_type": "code",
   "execution_count": 5,
   "id": "b7bfbf08-7253-4aab-a9a0-a8e8500c5a29",
   "metadata": {},
   "outputs": [
    {
     "data": {
      "text/plain": [
       "28"
      ]
     },
     "execution_count": 5,
     "metadata": {},
     "output_type": "execute_result"
    }
   ],
   "source": [
    "dct[\"c\"] + dct[\"d\"]"
   ]
  },
  {
   "cell_type": "markdown",
   "id": "4bde5544-afd0-408e-a03b-dad5096ee685",
   "metadata": {},
   "source": [
    "# Задание 2 (2 балла)"
   ]
  },
  {
   "cell_type": "markdown",
   "id": "36e85085-9990-4a2a-a005-f5ef3afd438d",
   "metadata": {},
   "source": [
    "Напишите функцию `iter_append`, которая \"добавляет\" новый элемент в конец итератора, возвращая итератор, который включает изначальные элементы и новый элемент. Итерироваться по итератору внутри функции нельзя, то есть вот такая штука не принимается\n",
    "```python\n",
    "def iter_append(iterator, item):\n",
    "    lst = list(iterator) + [item]\n",
    "    return iter(lst)\n",
    "```\n",
    "\n",
    "**Модули использовать нельзя**"
   ]
  },
  {
   "cell_type": "code",
   "execution_count": 6,
   "id": "d70f202a-0515-4f40-a9b1-4738572a837c",
   "metadata": {},
   "outputs": [],
   "source": [
    "def iter_append(iterator, item):\n",
    "    '''Apppends new element to the list iterator\n",
    "    \n",
    "    Parameters:\n",
    "        iterator (list_iterator): list iterator\n",
    "        item: any python object\n",
    "    Yields: generator\n",
    "    '''\n",
    "    \n",
    "    \n",
    "    yield from iterator\n",
    "    yield item"
   ]
  },
  {
   "cell_type": "code",
   "execution_count": 7,
   "id": "bd50a84b-1478-4cf5-bd21-434468f6bf7e",
   "metadata": {},
   "outputs": [
    {
     "name": "stdout",
     "output_type": "stream",
     "text": [
      "1\n",
      "2\n",
      "3\n",
      "4\n"
     ]
    }
   ],
   "source": [
    "my_iterator = iter([1, 2, 3])\n",
    "new_iterator = iter_append(my_iterator, 4)\n",
    "\n",
    "for element in new_iterator:\n",
    "    print(element)"
   ]
  },
  {
   "cell_type": "code",
   "execution_count": 8,
   "id": "7dc58cbe-4209-4dc7-a599-966cde9cf776",
   "metadata": {},
   "outputs": [
    {
     "data": {
      "text/plain": [
       "generator"
      ]
     },
     "execution_count": 8,
     "metadata": {},
     "output_type": "execute_result"
    }
   ],
   "source": [
    "# checking type\n",
    "type(new_iterator)"
   ]
  },
  {
   "cell_type": "markdown",
   "id": "72c35894-0caf-41ac-a584-56058b243f29",
   "metadata": {},
   "source": [
    "# Задание 3 (5 баллов)"
   ]
  },
  {
   "cell_type": "markdown",
   "id": "884be4ed-b388-4b36-ad7d-d6835a87425e",
   "metadata": {},
   "source": [
    "Представим, что мы установили себе некотурую библиотеку, которая содержит в себе два класса `MyString` и `MySet`, которые являются наследниками `str` и `set`, но также несут и дополнительные методы.\n",
    "\n",
    "Проблема заключается в том, что библиотеку писали не очень аккуратные люди, поэтому получилось так, что некоторые методы возвращают не тот тип данных, который мы ожидаем. Например, `MyString().reverse()` возвращает объект класса `str`, хотя логичнее было бы ожидать объект класса `MyString`.\n",
    "\n",
    "Найдите и реализуйте удобный способ сделать так, чтобы подобные методы возвращали экземпляр текущего класса, а не родительского. При этом **код методов изменять нельзя**\n",
    "\n",
    "**+3 дополнительных балла** за реализацию того, чтобы **унаследованные от `str` и `set` методы** также возвращали объект интересующего нас класса (то есть `MyString.replace(..., ...)` должен возвращать `MyString`). **Переопределять методы нельзя**\n",
    "\n",
    "**Модули использовать нельзя**"
   ]
  },
  {
   "cell_type": "code",
   "execution_count": 9,
   "id": "7973388e-c16f-437f-a1af-30ddd69f7671",
   "metadata": {
    "tags": []
   },
   "outputs": [],
   "source": [
    "def type_for_methods(cls):\n",
    "    '''Searches for public class methods and sets type for their output\n",
    "    \n",
    "    Parametes:\n",
    "        cls: class\n",
    "    Returns: class with new type for class methods outputs\n",
    "    '''\n",
    "    \n",
    "    \n",
    "    for attr in dir(cls):\n",
    "        if not attr.startswith('_') and callable(getattr(cls, attr)):\n",
    "            setattr(cls, attr, change_type(getattr(cls, attr), cls))\n",
    "    return cls\n",
    "\n",
    "\n",
    "def change_type(func, cls):\n",
    "    '''Function change_type() is a decorator for class and changes type of class method output \n",
    "    with MyString for strings and MySet for sets\n",
    "    \n",
    "    Parameters:\n",
    "        func: class method\n",
    "        cls: class\n",
    "    Returns: inner_function\n",
    "    '''\n",
    "    \n",
    "    \n",
    "    def inner_function(*args, **kwargs):\n",
    "        '''Determines the type of class method output and sets appropriate one\n",
    "        \n",
    "        Parameters:\n",
    "            *args\n",
    "            **kwargs\n",
    "        Returns: result (MyString or MySet object)\n",
    "        '''\n",
    "        \n",
    "        \n",
    "        result = func(*args, **kwargs)\n",
    "        if (cls == MyString and isinstance(result, str)) or ( # isinstance to strict str or set type output\n",
    "            cls == MySet and isinstance(result, set)):\n",
    "            return cls(result)\n",
    "        else:\n",
    "            return result\n",
    "    return inner_function\n",
    "\n",
    "\n",
    "@type_for_methods\n",
    "class MyString(str):\n",
    "    def reverse(self):\n",
    "        return self.__class__(self[::-1])\n",
    "    \n",
    "    def make_uppercase(self):\n",
    "        return \"\".join([chr(ord(char) - 32) if 97 <= ord(char) <= 122 else char for char in self])\n",
    "    \n",
    "    def make_lowercase(self):\n",
    "        return \"\".join([chr(ord(char) + 32) if 65 <= ord(char) <= 90 else char for char in self])\n",
    "    \n",
    "    def capitalize_words(self):\n",
    "        return \" \".join([word.capitalize() for word in self.split()])\n",
    "\n",
    "    \n",
    "@type_for_methods    \n",
    "class MySet(set):\n",
    "    def is_empty(self):\n",
    "        return len(self) == 0\n",
    "    \n",
    "    def has_duplicates(self):\n",
    "        return len(self) != len(set(self))\n",
    "    \n",
    "    def union_with(self, other):\n",
    "        return self.union(other)\n",
    "    \n",
    "    def intersection_with(self, other):\n",
    "        return self.intersection(other)\n",
    "    \n",
    "    def difference_with(self, other):\n",
    "        return self.difference(other)"
   ]
  },
  {
   "cell_type": "code",
   "execution_count": 10,
   "id": "8b985a7b-ddf2-47ce-8b76-a4dd921a2e06",
   "metadata": {},
   "outputs": [
    {
     "name": "stdout",
     "output_type": "stream",
     "text": [
      "<class '__main__.MyString'>\n",
      "<class '__main__.MyString'>\n",
      "<class '__main__.MyString'>\n",
      "<class '__main__.MyString'>\n",
      "\n",
      "<class 'bool'>\n",
      "<class 'bool'>\n",
      "<class '__main__.MySet'>\n",
      "<class '__main__.MySet'>\n"
     ]
    }
   ],
   "source": [
    "string_example = MyString(\"Aa Bb Cc\")\n",
    "set_example_1 = MySet({1, 2, 3, 4})\n",
    "set_example_2 = MySet({3, 4, 5, 6, 6})\n",
    "\n",
    "print(type(string_example.reverse()))\n",
    "print(type(string_example.make_uppercase()))\n",
    "print(type(string_example.make_lowercase()))\n",
    "print(type(string_example.capitalize_words()))\n",
    "print()\n",
    "print(type(set_example_1.is_empty()))\n",
    "print(type(set_example_2.has_duplicates()))\n",
    "print(type(set_example_1.union_with(set_example_2)))\n",
    "print(type(set_example_1.difference_with(set_example_2)))"
   ]
  },
  {
   "cell_type": "code",
   "execution_count": 11,
   "id": "f40aba56-fe70-4904-9a6f-59f3f78fa84e",
   "metadata": {},
   "outputs": [
    {
     "name": "stdout",
     "output_type": "stream",
     "text": [
      "Da Bb Cc\n",
      "<class '__main__.MyString'>\n"
     ]
    }
   ],
   "source": [
    "print(string_example.replace(\"A\", \"D\"))\n",
    "print(type(string_example.replace(\"A\", \"D\")))"
   ]
  },
  {
   "cell_type": "markdown",
   "id": "f246ecea-9aaa-45c6-98e4-996dc9cdce14",
   "metadata": {},
   "source": [
    "# Задание 4 (5 баллов)"
   ]
  },
  {
   "cell_type": "markdown",
   "id": "e66831d7-df9c-4778-9942-bbb8796fef1e",
   "metadata": {},
   "source": [
    "Напишите декоратор `switch_privacy`:\n",
    "1. Делает все публичные **методы** класса приватными\n",
    "2. Делает все приватные методы класса публичными\n",
    "3. Dunder методы и защищённые методы остаются без изменений\n",
    "4. Должен работать тестовый код ниже, в теле класса писать код нельзя\n",
    "\n",
    "**Модули использовать нельзя**"
   ]
  },
  {
   "cell_type": "code",
   "execution_count": 12,
   "id": "dcf9676b-a2e5-4160-baf8-857f57e0b7bf",
   "metadata": {},
   "outputs": [],
   "source": [
    "def switch_privacy(cls):\n",
    "    '''Switches privacy for class methods: \n",
    "    makes public methods to be private, and vice versa\n",
    "    \n",
    "    Parameters:\n",
    "        cls: class\n",
    "    Returns: class with switched public and private methods\n",
    "    '''\n",
    "    \n",
    "    \n",
    "    copy_attr_dict = cls.__dict__.copy()\n",
    "    for attr in copy_attr_dict:\n",
    "        if callable(getattr(cls, attr)):\n",
    "            if not attr.startswith('_'):\n",
    "                # private methods looks like \"_ExampleClass__private_method\" in dir\n",
    "                setattr(cls, f'_{cls.__name__}__{attr}', getattr(cls, attr))\n",
    "                delattr(cls, attr)\n",
    "            elif attr.startswith(f'_{cls.__name__}__') and not attr.endswith('__'):\n",
    "                setattr(cls, attr.split('__')[1], getattr(cls, attr))\n",
    "                delattr(cls, attr)\n",
    "    return cls"
   ]
  },
  {
   "cell_type": "code",
   "execution_count": 13,
   "id": "733db8d6-87b8-4797-97be-d3b901422ded",
   "metadata": {},
   "outputs": [],
   "source": [
    "@switch_privacy\n",
    "class ExampleClass:\n",
    "    # Но не здесь\n",
    "    def public_method(self):\n",
    "        return 1\n",
    "    \n",
    "    def _protected_method(self):\n",
    "        return 2\n",
    "    \n",
    "    def __private_method(self):\n",
    "        return 3\n",
    "    \n",
    "    def __dunder_method__(self):\n",
    "        pass"
   ]
  },
  {
   "cell_type": "code",
   "execution_count": 14,
   "id": "c936077d-e618-459c-bbcc-6ad1b22d0975",
   "metadata": {},
   "outputs": [
    {
     "data": {
      "text/plain": [
       "1"
      ]
     },
     "execution_count": 14,
     "metadata": {},
     "output_type": "execute_result"
    }
   ],
   "source": [
    "test_object = ExampleClass()\n",
    "\n",
    "test_object._ExampleClass__public_method()   # Публичный метод стал приватным"
   ]
  },
  {
   "cell_type": "code",
   "execution_count": 15,
   "id": "10603672-80cf-460c-9305-d0950094419d",
   "metadata": {},
   "outputs": [
    {
     "data": {
      "text/plain": [
       "3"
      ]
     },
     "execution_count": 15,
     "metadata": {},
     "output_type": "execute_result"
    }
   ],
   "source": [
    "test_object.private_method()   # Приватный метод стал публичным"
   ]
  },
  {
   "cell_type": "code",
   "execution_count": 16,
   "id": "f30b1ef8-0f80-482d-89f1-09caece61c88",
   "metadata": {},
   "outputs": [
    {
     "data": {
      "text/plain": [
       "2"
      ]
     },
     "execution_count": 16,
     "metadata": {},
     "output_type": "execute_result"
    }
   ],
   "source": [
    "test_object._protected_method()   # Защищённый метод остался защищённым"
   ]
  },
  {
   "cell_type": "code",
   "execution_count": 17,
   "id": "71d51e6e-62b5-4440-af3e-75088761b1bf",
   "metadata": {},
   "outputs": [],
   "source": [
    "test_object.__dunder_method__()   # Дандер метод не изменился"
   ]
  },
  {
   "cell_type": "code",
   "execution_count": 18,
   "id": "a97cf0c4-4881-441c-83b6-ef8955377585",
   "metadata": {},
   "outputs": [
    {
     "data": {
      "text/plain": [
       "(False, False)"
      ]
     },
     "execution_count": 18,
     "metadata": {},
     "output_type": "execute_result"
    }
   ],
   "source": [
    "hasattr(test_object, \"public_method\"), hasattr(test_object, \"__private_method\")   # Изначальные варианты изменённых методов не сохраняются"
   ]
  },
  {
   "cell_type": "markdown",
   "id": "31ad0bdd-9a24-4d6c-a499-e975b4b6acdd",
   "metadata": {},
   "source": [
    "# Задание 5 (7 баллов)"
   ]
  },
  {
   "cell_type": "markdown",
   "id": "68c75d25-37f7-491d-bcc0-ba74e8bdb364",
   "metadata": {},
   "source": [
    "Напишите [контекстный менеджер](https://docs.python.org/3/library/stdtypes.html#context-manager-types) `OpenFasta`\n",
    "\n",
    "Контекстные менеджеры это специальные объекты, которые могут работать с конструкцией `with ... as ...:`. В них нет ничего сложного, для их реализации как обычно нужно только определить только пару dunder методов. Изучите этот вопрос самостоятельно\n",
    "\n",
    "1. Объект должен работать как обычные файлы в питоне (наследоваться не надо, здесь лучше будет использовать **композицию**), но:\n",
    "    + При итерации по объекту мы должны будем получать не строку из файла, а специальный объект `FastaRecord`. Он будет хранить в себе информацию о последовательности. Важно, **не строки, а именно последовательности**, в fasta файлах последовательность часто разбивают на много строк\n",
    "    + Нужно написать методы `read_record` и `read_records`, которые по смыслу соответствуют `readline()` и `readlines()` в обычных файлах, но они должны выдавать не строки, а объект(ы) `FastaRecord`\n",
    "2. Конструктор должен принимать один аргумент - **путь к файлу**\n",
    "3. Класс должен эффективно распоряжаться памятью, с расчётом на работу с очень большими файлами\n",
    "    \n",
    "Объект `FastaRecord`. Это должен быть **датакласс** (см. про примеры декораторов в соответствующей лекции) с тремя полями:\n",
    "+ `seq` - последовательность\n",
    "+ `id_` - ID последовательности (это то, что в фаста файле в строке, которая начинается с `>` до первого пробела. Например, >**GTD326487.1** Species anonymous 24 chromosome) \n",
    "+ `description` - то, что осталось после ID (Например, >GTD326487.1 **Species anonymous 24 chromosome**)\n",
    "\n",
    "\n",
    "Напишите демонстрацию работы кода с использованием всех написанных методов, обязательно добавьте файл с тестовыми данными в репозиторий (не обязательно большой)\n",
    "\n",
    "**Можно использовать модули из стандартной библиотеки**"
   ]
  },
  {
   "cell_type": "code",
   "execution_count": 19,
   "id": "f4ffcbbd-1783-4180-84a3-d5c2967f9173",
   "metadata": {},
   "outputs": [],
   "source": [
    "import os\n",
    "from dataclasses import dataclass\n",
    "\n",
    "\n",
    "class OpenFasta:\n",
    "    '''A class for reading .fasta files with biological sequences\n",
    "    \n",
    "    Record example: >Seq_ID Description(optional)\n",
    "                    ATGTGGGAGGAAGGTGGGTGAAA\n",
    "             \n",
    "    Attributes:\n",
    "        path (str): path to .fasta file\n",
    "        \n",
    "    Methods:\n",
    "        read_record(): to read one record from .fasta file\n",
    "        read_records(): to read multiple records from .fasta file\n",
    "        \n",
    "    Raises: ValueError if .fasta file does not exist in path        \n",
    "    '''\n",
    "    \n",
    "    \n",
    "    def __init__(self, path):\n",
    "        '''Checks the existance of .fasta file and constructs all the necessary attributes\n",
    "\n",
    "        Parameters:\n",
    "            path (str): path to .fasta file\n",
    "        \n",
    "        Raises: ValueError if .fasta file does not exist in path\n",
    "        '''\n",
    "        \n",
    "        \n",
    "        if not os.path.isfile(path):\n",
    "            file_path = path.split(os.path.sep)\n",
    "            raise ValueError(f'No such {file_path[-1]}. Check path to file!')\n",
    "    \n",
    "        self.path = path\n",
    "        \n",
    "    \n",
    "    def __enter__(self):\n",
    "        self.f = open(self.path)\n",
    "        return self\n",
    "    \n",
    "    \n",
    "    def __iter__(self):\n",
    "        return self\n",
    "    \n",
    "    \n",
    "    def __next__(self):\n",
    "        self.seq = []\n",
    "        while True: \n",
    "            line = self.f.readline()\n",
    "            if not line:\n",
    "                if self.seq:\n",
    "                    self.seq = ''.join(self.seq)\n",
    "                    record = FastaRecord(id_=self.id_,\n",
    "                                         description=self.description,\n",
    "                                         seq=self.seq)\n",
    "                    return record\n",
    "                return ''\n",
    "            elif line.startswith('>'):\n",
    "                if self.seq:\n",
    "                    self.seq = ''.join(self.seq)\n",
    "                    record = FastaRecord(id_=self.id_,\n",
    "                                         description=self.description,\n",
    "                                         seq=self.seq)\n",
    "                    self.id_, self.description = self.__handle_id_descr(line)\n",
    "                    return record\n",
    "                self.id_, self.description = self.__handle_id_descr(line)\n",
    "            else:\n",
    "                self.seq.append(line.strip())\n",
    "                \n",
    "                \n",
    "    def __exit__(self, exc_type, exc_value, exc_tb):\n",
    "        self.f.close()\n",
    "        pass\n",
    "               \n",
    "            \n",
    "    def __handle_id_descr(self, line):\n",
    "        '''Handles the first record line with Seq_ID and Description (optional)\n",
    "        \n",
    "        Parameters:\n",
    "            line (str): record line\n",
    "        Returns:\n",
    "            id_ (str): record Seq_ID\n",
    "            description (str): record description (if exists)\n",
    "        '''\n",
    "        \n",
    "        \n",
    "        vals = line.strip().split(' ', maxsplit=1)\n",
    "        id_ = vals[0][1:]\n",
    "        if len(vals) == 1:\n",
    "            description = ''\n",
    "        else: \n",
    "            description = vals[1]\n",
    "        return id_, description\n",
    "            \n",
    "                \n",
    "    def read_record(self):\n",
    "        '''Reads fasta record\n",
    "        \n",
    "        Returns: FastaRecord\n",
    "        '''\n",
    "        \n",
    "        \n",
    "        return next(self)\n",
    "    \n",
    "    \n",
    "    def read_records(self):\n",
    "        '''Reads all fasta records in file and appends them to list\n",
    "        \n",
    "        Returns: records (list)\n",
    "        '''\n",
    "        \n",
    "        \n",
    "        records = []\n",
    "        record = self.read_record()\n",
    "        while record:\n",
    "            records.append(record)\n",
    "            record = self.read_record()\n",
    "        return records\n",
    "              \n",
    "\n",
    "@dataclass\n",
    "class FastaRecord:\n",
    "    '''A dataclass with information about fasta record\n",
    "    \n",
    "    Parameters:\n",
    "        id_ (str): record id (Seq_ID)\n",
    "        description (str): record description (if exists)\n",
    "        seq (str): biological sequences\n",
    "    '''\n",
    "    \n",
    "    \n",
    "    id_: str\n",
    "    description: str\n",
    "    seq: str"
   ]
  },
  {
   "cell_type": "markdown",
   "id": "685aec2b-145d-4e00-8cb5-a6e1357030d4",
   "metadata": {},
   "source": [
    "#### Example1. Reading one fasta record from file"
   ]
  },
  {
   "cell_type": "code",
   "execution_count": 20,
   "id": "9044ecd4-60e4-480d-81f5-6c2a5d7f4337",
   "metadata": {},
   "outputs": [
    {
     "name": "stdout",
     "output_type": "stream",
     "text": [
      "FastaRecord form file:\n",
      "FastaRecord(id_='SUP35_Kla_AB039749', description='', seq='ATGTCAGACCAACAAAATCAAGACCAAGGGCAAGGCCAAGGTTACAATCAGTATAACCAATATGGCCAGTACAACCAGTACTACAACCAACAGGGCTATCAAGGCTACAACGGCCAACAAGGTGCTCCTCAAGGCTACCAAGCATATCAAGCTTATGGACAGCAGCCTCAAGGAGCCTACCAGGGCTACAACCCTCAACAAGCTCAAGGC')\n",
      "Seq_ID: SUP35_Kla_AB039749\n",
      "Seq: ATGTCAGACCAACAAAATCAAGACCAAGGGCAAGGCCAAGGTTACAATCAGTATAACCAATATGGCCAGTACAACCAGTACTACAACCAACAGGGCTATCAAGGCTACAACGGCCAACAAGGTGCTCCTCAAGGCTACCAAGCATATCAAGCTTATGGACAGCAGCCTCAAGGAGCCTACCAGGGCTACAACCCTCAACAAGCTCAAGGC\n",
      "<class '__main__.FastaRecord'>\n"
     ]
    }
   ],
   "source": [
    "with OpenFasta(os.path.join(\"data\", \"example.fasta\")) as fasta:\n",
    "    record = fasta.read_record()\n",
    "    print(f'FastaRecord form file:\\n{record}')\n",
    "    print(f'Seq_ID: {record.id_}\\nSeq: {record.seq}')\n",
    "    print(type(record))"
   ]
  },
  {
   "cell_type": "markdown",
   "id": "80a59fb3-0230-4db0-bd41-7e80b44ca175",
   "metadata": {},
   "source": [
    "#### Example2. Reading all fasta records from file"
   ]
  },
  {
   "cell_type": "code",
   "execution_count": 21,
   "id": "f311bd61-3bab-4094-98d0-b0af997a3e03",
   "metadata": {},
   "outputs": [
    {
     "name": "stdout",
     "output_type": "stream",
     "text": [
      "All FastaRecords from file:\n",
      "FastaRecord(id_='SUP35_Kla_AB039749', description='', seq='ATGTCAGACCAACAAAATCAAGACCAAGGGCAAGGCCAAGGTTACAATCAGTATAACCAATATGGCCAGTACAACCAGTACTACAACCAACAGGGCTATCAAGGCTACAACGGCCAACAAGGTGCTCCTCAAGGCTACCAAGCATATCAAGCTTATGGACAGCAGCCTCAAGGAGCCTACCAGGGCTACAACCCTCAACAAGCTCAAGGC')\n",
      "FastaRecord(id_='SUP35_Agos_ATCC_10895_NM_211584', description='', seq='ATGTCGGAGGAAGATCAAATTCAATCGCAAGGCAACGACCAAGGCCAGTCGCAAGCCAAGGATCAAGGTCAAAATCAAGGTCAGGGGCAGCAAAATTTCGGCCAATACTACAACCCAAGTAACTTCCAGAATTACCAGGG')\n",
      "FastaRecord(id_='SUP35_Scer_74-D694_GCA_001578265.1', description='SUP35 gene, Saccharomyces cerevisiae', seq='ATGTCGGATTCAAACCAAGGCAACAATCAGCAAAACTACCAGCAATACAGCCAGAACGGTAACCAACAACAAGGTAACAACAGATACCAAGGTTATCAAGCTTACAATGCTCAAGCCCAACCTGCAGGTGGGTACTACCAAAATTACCAAGGTTATTCTGGGTACCAACAAGGTGGCTATCAACAGTACAATCCCGACGCCGGTTACCAG')\n"
     ]
    }
   ],
   "source": [
    "with OpenFasta(os.path.join(\"data\", \"example.fasta\")) as fasta:\n",
    "    print(f'All FastaRecords from file:')\n",
    "    for record in fasta.read_records():\n",
    "        print(record)"
   ]
  },
  {
   "cell_type": "markdown",
   "id": "3911e6c2-87c6-45a2-b211-88ff6c7cdf4b",
   "metadata": {},
   "source": [
    "#### Example3. At the end of the file acts like `readlines()`"
   ]
  },
  {
   "cell_type": "code",
   "execution_count": 22,
   "id": "d0cd0f01-3ffd-4446-bf1b-42c498e406e7",
   "metadata": {},
   "outputs": [
    {
     "name": "stdout",
     "output_type": "stream",
     "text": [
      "FastaRecord(id_='SUP35_Kla_AB039749', description='', seq='ATGTCAGACCAACAAAATCAAGACCAAGGGCAAGGCCAAGGTTACAATCAGTATAACCAATATGGCCAGTACAACCAGTACTACAACCAACAGGGCTATCAAGGCTACAACGGCCAACAAGGTGCTCCTCAAGGCTACCAAGCATATCAAGCTTATGGACAGCAGCCTCAAGGAGCCTACCAGGGCTACAACCCTCAACAAGCTCAAGGC')\n",
      "FastaRecord(id_='SUP35_Agos_ATCC_10895_NM_211584', description='', seq='ATGTCGGAGGAAGATCAAATTCAATCGCAAGGCAACGACCAAGGCCAGTCGCAAGCCAAGGATCAAGGTCAAAATCAAGGTCAGGGGCAGCAAAATTTCGGCCAATACTACAACCCAAGTAACTTCCAGAATTACCAGGG')\n",
      "FastaRecord(id_='SUP35_Scer_74-D694_GCA_001578265.1', description='SUP35 gene, Saccharomyces cerevisiae', seq='ATGTCGGATTCAAACCAAGGCAACAATCAGCAAAACTACCAGCAATACAGCCAGAACGGTAACCAACAACAAGGTAACAACAGATACCAAGGTTATCAAGCTTACAATGCTCAAGCCCAACCTGCAGGTGGGTACTACCAAAATTACCAAGGTTATTCTGGGTACCAACAAGGTGGCTATCAACAGTACAATCCCGACGCCGGTTACCAG')\n",
      "\n",
      "\n",
      "\n",
      "\n",
      "\n",
      "\n",
      "\n"
     ]
    }
   ],
   "source": [
    "with OpenFasta(os.path.join(\"data\", \"example.fasta\")) as fasta:\n",
    "    for _ in range(10):\n",
    "        print(fasta.read_record())    "
   ]
  },
  {
   "cell_type": "markdown",
   "id": "4db652e9-7697-4dd7-bcc3-649bdc18c1c4",
   "metadata": {},
   "source": [
    "# Задание 6 (7 баллов)"
   ]
  },
  {
   "cell_type": "markdown",
   "id": "a8ba05f3-29f0-48be-a477-c1f61a9e0537",
   "metadata": {},
   "source": [
    "1. Напишите код, который позволит получать все возможные (неуникальные) генотипы при скрещивании двух организмов. Это может быть функция или класс, что вам кажется более удобным.\n",
    "\n",
    "Например, все возможные исходы скрещивания \"Aabb\" и \"Aabb\" (неуникальные) это\n",
    "\n",
    "```\n",
    "AAbb\n",
    "AAbb\n",
    "AAbb\n",
    "AAbb\n",
    "Aabb\n",
    "Aabb\n",
    "Aabb\n",
    "Aabb\n",
    "Aabb\n",
    "Aabb\n",
    "Aabb\n",
    "Aabb\n",
    "aabb\n",
    "aabb\n",
    "aabb\n",
    "aabb\n",
    "```\n",
    "\n",
    "2. Напишите функцию, которая вычисляет вероятность появления определённого генотипа (его ожидаемую долю в потомстве).\n",
    "Например,\n",
    "\n",
    "```python\n",
    "get_offspting_genotype_probability(parent1=\"Aabb\", parent2=\"Aabb\", target_genotype=\"Аabb\")   # 0.5\n",
    "\n",
    "```\n",
    "\n",
    "3. Напишите код, который выводит все уникальные генотипы при скрещивании `'АаБбввГгДдЕеЖжЗзИиЙйккЛлМмНн'` и `'АаббВвГгДДЕеЖжЗзИиЙйКкЛлМмНН'`, которые содержат в себе следующую комбинацию аллелей `'АаБбВвГгДдЕеЖжЗзИиЙйКкЛл'`\n",
    "4. Напишите код, который расчитывает вероятность появления генотипа `'АаБбввГгДдЕеЖжЗзИиЙйккЛлМмНн'` при скрещивании `АаБбВвГгДдЕеЖжЗзИиЙйКкЛлМмНн` и `АаБбВвГгДдЕеЖжЗзИиЙйКкЛлМмНн`\n",
    "\n",
    "Важные замечания:\n",
    "1. Порядок следования аллелей в случае гетерозигот всегда должен быть следующим: сначала большая буква, затем маленькая (вариант `AaBb` допустим, но `aAbB` быть не должно)\n",
    "2. Подзадачи 3 и 4 могут потребовать много вычислительного времени (до 15+ минут в зависимости от железа), поэтому убедитесь, что вы хорошо протестировали написанный вами код на малых данных перед выполнением этих задач. Если ваш код работает **дольше 20 мин**, то скорее всего ваше решение не оптимально, попытайтесь что-нибудь оптимизировать. Если оптимальное решение совсем не получается, то попробуйте из входных данных во всех заданиях убрать последний ген (это должно уменьшить время выполнения примерно в 4 раза), но **за такое решение будет снято 2 балла**\n",
    "3. Несмотря на то, что подзадания 2, 3 и 4 возможно решить математически, не прибегая к непосредственному получению всех возможных генотипов, от вас требуется именно brute-force вариант алгоритма\n",
    "\n",
    "**Можно использовать модули из стандартной библиотеки питона**, но **за выполнение задания без использования модулей придусмотрено +3 дополнительных балла**"
   ]
  },
  {
   "cell_type": "code",
   "execution_count": 23,
   "id": "fb9b14f1",
   "metadata": {
    "tags": []
   },
   "outputs": [],
   "source": [
    "from functools import lru_cache\n",
    "from datetime import datetime\n",
    "\n",
    "\n",
    "# Ваш код здесь (1 и 2 подзадание)\n",
    "def calc_runtime(func):\n",
    "    '''Decorator for calculatinf function runtime'''\n",
    "    \n",
    "    \n",
    "    def inner_function(*args, **kwargs):\n",
    "        start = datetime.now()\n",
    "        result = func(*args, **kwargs)\n",
    "        stop = datetime.now()\n",
    "        print(stop - start)\n",
    "        return result\n",
    "    return inner_function  \n",
    "\n",
    "\n",
    "def parse_genotype(genotype):\n",
    "    '''Parses genotypes to obtain alleles\n",
    "    \n",
    "    Parameters:\n",
    "        genotype (str): genotype, example: 'Aabb'\n",
    "    \n",
    "    Returns: list of alleles\n",
    "    '''\n",
    "    \n",
    "    \n",
    "    return [genotype[i:i+2] for i in range(0, len(genotype), 2)]\n",
    "\n",
    "\n",
    "def calc_gamets(*args):\n",
    "    '''Creates sets with all possible gamets for genotype\n",
    "    \n",
    "    Parameters:\n",
    "        *args (alleles returned by parse_genotype())\n",
    "    Returns: generator with all possible gamets for genotype\n",
    "    '''\n",
    "    \n",
    "    \n",
    "    pools = [tuple(pool) for pool in args]\n",
    "    result = [[]]\n",
    "    for pool in pools:\n",
    "        result = [x+[y] for x in result for y in pool]\n",
    "    for prod in result:\n",
    "        yield tuple(prod)\n",
    "        \n",
    "\n",
    "@lru_cache(maxsize=None)\n",
    "def do_genotype(*gamets):\n",
    "    '''Makes genotype from gamets\n",
    "    \n",
    "    Parameters:\n",
    "        gamets (tuples): two sets of gamets\n",
    "    Returns: \n",
    "        genotype (str): resulted genotype\n",
    "    '''\n",
    "    \n",
    "    \n",
    "    genotype = ''.join([''.join(sorted(gene)) for gene in zip(*gamets)])\n",
    "    return genotype\n",
    "\n",
    "        \n",
    "def calc_genotypes(gamets1, gamets2, k=1):\n",
    "    '''Creates all possible genotypes from two sets of gamets\n",
    "    \n",
    "    Parameters:\n",
    "        gamets1 (tuple): set of gamets for the first genotype\n",
    "        gamets2 (tuple): set of gamets for the second genotype\n",
    "        k (int): number of genes devided by two\n",
    "    \n",
    "    Returns: generator with possible genotypes\n",
    "    '''\n",
    "    \n",
    "    \n",
    "    for gamet1 in gamets1:\n",
    "        for gamet2 in gamets2:\n",
    "            geno_l = do_genotype(gamet1[:k], gamet2[:k])\n",
    "            geno_r = do_genotype(gamet1[k:], gamet2[k:])\n",
    "            yield geno_l + geno_r   \n",
    "\n",
    "            \n",
    "def all_genotypes(p1, p2):\n",
    "    '''Creates all possible offspring genotypes for given parental genotypes\n",
    "    \n",
    "    Parameters:\n",
    "        p1 (str): parent1 genotype\n",
    "        p2 (str): parent2 genotype\n",
    "        \n",
    "    Returns: None\n",
    "    '''\n",
    "    \n",
    "    \n",
    "    gamets1 = tuple(calc_gamets(*parse_genotype(p1)))\n",
    "    gamets2 = tuple(calc_gamets(*parse_genotype(p2)))\n",
    "    [print(genotype) for genotype in calc_genotypes(gamets1, gamets2)]\n",
    "    \n",
    "\n",
    "@calc_runtime\n",
    "def genotype_prob(p1, p2, target):\n",
    "    '''Calculates the probability of a certain genotype (its expected share in the offspring)\n",
    "    \n",
    "    Parameters:\n",
    "        p1 (str): parent1 genotype\n",
    "        p2 (str): parent2 genotype\n",
    "        target (str): target offspring genotype for its probability calculation\n",
    "        \n",
    "    Returns: float (probability)\n",
    "    '''\n",
    "    \n",
    "    \n",
    "    gamets1 = tuple(calc_gamets(*parse_genotype(p1)))\n",
    "    gamets2 = tuple(calc_gamets(*parse_genotype(p2)))\n",
    "    \n",
    "    total_count = target_count = 0\n",
    "    k = len(p1) // 4\n",
    "    genotypes = calc_genotypes(gamets1, gamets2, k)\n",
    "    for genotype in genotypes:\n",
    "        total_count += 1\n",
    "        if target == genotype:\n",
    "            target_count +=1\n",
    "    return target_count/total_count"
   ]
  },
  {
   "cell_type": "code",
   "execution_count": 24,
   "id": "cb8197de-aea2-4b15-9f7c-69ea762b5f83",
   "metadata": {
    "tags": []
   },
   "outputs": [
    {
     "name": "stdout",
     "output_type": "stream",
     "text": [
      "AAbb\n",
      "AAbb\n",
      "Aabb\n",
      "Aabb\n",
      "AAbb\n",
      "AAbb\n",
      "Aabb\n",
      "Aabb\n",
      "Aabb\n",
      "Aabb\n",
      "aabb\n",
      "aabb\n",
      "Aabb\n",
      "Aabb\n",
      "aabb\n",
      "aabb\n"
     ]
    }
   ],
   "source": [
    "# example for Subtask1\n",
    "parent1 = 'Aabb'\n",
    "parent2 = 'Aabb'\n",
    "all_genotypes(parent1, parent2)"
   ]
  },
  {
   "cell_type": "code",
   "execution_count": 25,
   "id": "cc4cf786-9301-4529-b159-0daab33480d4",
   "metadata": {},
   "outputs": [
    {
     "name": "stdout",
     "output_type": "stream",
     "text": [
      "0:00:00.000024\n"
     ]
    },
    {
     "data": {
      "text/plain": [
       "0.5"
      ]
     },
     "execution_count": 25,
     "metadata": {},
     "output_type": "execute_result"
    }
   ],
   "source": [
    "# example for Subtask2\n",
    "parent1 = 'Aabb'\n",
    "parent2 = 'Aabb'\n",
    "target = 'Aabb'\n",
    "genotype_prob(parent1, parent2, target)"
   ]
  },
  {
   "cell_type": "code",
   "execution_count": 26,
   "id": "86d33147",
   "metadata": {
    "tags": []
   },
   "outputs": [],
   "source": [
    "# Ваш код здесь (3 подзадание)\n",
    "@calc_runtime\n",
    "def unique_with(p1, p2, target):\n",
    "    '''Finds all unique genotypes with certain alleles combination\n",
    "    \n",
    "    Parameters:\n",
    "        p1 (str): parent1 genotype\n",
    "        p2 (str): parent2 genotype\n",
    "        target (str): target offspring genotype\n",
    "        \n",
    "    Returns: None\n",
    "    '''\n",
    "    \n",
    "    \n",
    "    gamets1 = tuple(calc_gamets(*parse_genotype(p1)))\n",
    "    gamets2 = tuple(calc_gamets(*parse_genotype(p2)))\n",
    "    \n",
    "    unique = []\n",
    "    for genotype in calc_genotypes(gamets1, gamets2):\n",
    "        if (genotype.find(target) != -1) and (genotype not in unique):\n",
    "            unique += [genotype]\n",
    "            print(genotype)"
   ]
  },
  {
   "cell_type": "code",
   "execution_count": 27,
   "id": "0fbc9a6b-8ad6-410b-8868-93f8d8426b71",
   "metadata": {},
   "outputs": [
    {
     "name": "stdout",
     "output_type": "stream",
     "text": [
      "АаБбВвГгДдЕеЖжЗзИиЙйКкЛлММНН\n",
      "АаБбВвГгДдЕеЖжЗзИиЙйКкЛлМмНН\n",
      "АаБбВвГгДдЕеЖжЗзИиЙйКкЛлММНн\n",
      "АаБбВвГгДдЕеЖжЗзИиЙйКкЛлМмНн\n",
      "АаБбВвГгДдЕеЖжЗзИиЙйКкЛлммНН\n",
      "АаБбВвГгДдЕеЖжЗзИиЙйКкЛлммНн\n",
      "0:02:15.341380\n"
     ]
    }
   ],
   "source": [
    "# example for Subtask3\n",
    "parent1 = 'АаБбввГгДдЕеЖжЗзИиЙйккЛлМмНн'\n",
    "parent2 = 'АаббВвГгДДЕеЖжЗзИиЙйКкЛлМмНН'\n",
    "target = 'АаБбВвГгДдЕеЖжЗзИиЙйКкЛл'\n",
    "unique_with(parent1, parent2, target)"
   ]
  },
  {
   "cell_type": "code",
   "execution_count": 28,
   "id": "0750b282",
   "metadata": {},
   "outputs": [
    {
     "name": "stdout",
     "output_type": "stream",
     "text": [
      "0:01:47.510493\n"
     ]
    },
    {
     "data": {
      "text/plain": [
       "1.52587890625e-05"
      ]
     },
     "execution_count": 28,
     "metadata": {},
     "output_type": "execute_result"
    }
   ],
   "source": [
    "# Ваш код здесь (4 подзадание)\n",
    "# example for Subtask4\n",
    "parent1 = 'АаБбВвГгДдЕеЖжЗзИиЙйКкЛлМмНн'\n",
    "parent2 = 'АаБбВвГгДдЕеЖжЗзИиЙйКкЛлМмНн'\n",
    "target = 'АаБбввГгДдЕеЖжЗзИиЙйккЛлМмНн'\n",
    "genotype_prob(parent1, parent2, target)"
   ]
  }
 ],
 "metadata": {
  "kernelspec": {
   "display_name": "Python 3 (ipykernel)",
   "language": "python",
   "name": "python3"
  },
  "language_info": {
   "codemirror_mode": {
    "name": "ipython",
    "version": 3
   },
   "file_extension": ".py",
   "mimetype": "text/x-python",
   "name": "python",
   "nbconvert_exporter": "python",
   "pygments_lexer": "ipython3",
   "version": "3.9.13"
  }
 },
 "nbformat": 4,
 "nbformat_minor": 5
}
