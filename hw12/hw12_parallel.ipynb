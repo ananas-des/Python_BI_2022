{
 "cells": [
  {
   "cell_type": "markdown",
   "id": "807eeb67-c734-4bd7-87aa-573d1d55366d",
   "metadata": {
    "id": "807eeb67-c734-4bd7-87aa-573d1d55366d"
   },
   "source": [
    "В формулировке заданий будет использоваться понятие **worker**. Это слово обозначает какую-то единицу параллельного выполнения, в случае питона это может быть **поток** или **процесс**, выбирайте то, что лучше будет подходить к конкретной задаче"
   ]
  },
  {
   "cell_type": "markdown",
   "id": "6d3b4f3a-f226-4ea4-a39f-dfb6e45bd983",
   "metadata": {
    "id": "6d3b4f3a-f226-4ea4-a39f-dfb6e45bd983"
   },
   "source": [
    "# Задание 1 (7 баллов)"
   ]
  },
  {
   "cell_type": "markdown",
   "id": "ba5a5046-e619-4e55-8a36-f0e72f7f8d4a",
   "metadata": {
    "id": "ba5a5046-e619-4e55-8a36-f0e72f7f8d4a"
   },
   "source": [
    "В одном из заданий по ML от вас требовалось написать кастомную реализацию Random Forest. Её проблема состоит в том, что она работает медленно, так как использует всего один поток для работы. Добавление параллельного программирования в код позволит получить существенный прирост в скорости обучения и предсказаний.\n",
    "\n",
    "В данном задании от вас требуется добавить возможность обучать случайный лес параллельно и использовать параллелизм для предсказаний. Для этого вам понадобится:\n",
    "1. Добавить аргумент `n_jobs` в метод `fit`. `n_jobs` показывает количество worker'ов, используемых для распараллеливания\n",
    "2. Добавить аргумент `n_jobs` в методы `predict` и `predict_proba`\n",
    "3. Реализовать функционал по распараллеливанию в данных методах\n",
    "\n",
    "В результате код `random_forest.fit(X, y, n_jobs=2)` и `random_forest.predict(X, y, n_jobs=2)` должен работать в ~1.5-2 раза быстрее, чем `random_forest.fit(X, y, n_jobs=1)` и `random_forest.predict(X, y, n_jobs=1)` соответственно\n",
    "\n",
    "Если у вас по каким-то причинам нет кода случайного леса из ДЗ по ML, то вы можете написать его заново или попросить у однокурсника. *Детали* реализации ML части оцениваться не будут, НО, если вы поломаете логику работы алгоритма во время реализации параллелизма, то за это будут сниматься баллы\n",
    "\n",
    "В задании можно использовать только модули из **стандартной библиотеки** питона, а также функции и классы из **sklearn** при помощи которых вы изначально писали лес"
   ]
  },
  {
   "cell_type": "code",
   "execution_count": 1,
   "id": "ea74dc17-3268-4cb4-97d2-77c7ae3b6402",
   "metadata": {},
   "outputs": [],
   "source": [
    "import random\n",
    "from concurrent.futures import ThreadPoolExecutor\n",
    "import numpy as np\n",
    "from sklearn.base import BaseEstimator\n",
    "from sklearn.tree import DecisionTreeClassifier\n",
    "from sklearn.datasets import make_classification\n",
    "from typing import Tuple, Callable \n",
    "\n",
    "\n",
    "class RandomForestClassifierCustom(BaseEstimator):\n",
    "    '''A custom implementation of random forest classifier\n",
    "    (the most of the description is taken from `sklearn` source code)\n",
    "    \n",
    "    Attributes:\n",
    "        n_estimators (int): a number of decision tree classifiers in forest\n",
    "        max_depth (int): the maximum depth of the tree\n",
    "        max_features (int): the number of features to consider when looking for the best split\n",
    "        random_state (int): controls both the randomness of pseudosampling and feature selection\n",
    "        feat_ids_by_tree (list): selected features for each tree\n",
    "        trees (list): fitted trees for forest\n",
    "    '''\n",
    "    \n",
    "    \n",
    "    def __init__(\n",
    "        self, n_estimators: int = 10, max_depth: int = None, max_features: int = None, random_state: int = None\n",
    "    ) -> None:\n",
    "        '''Constructs all the necessary attributes for the RandomForestClassifierCustom object\n",
    "\n",
    "        Parameters:\n",
    "            n_estimators (int): a number of decision tree classifiers in forest\n",
    "            max_depth (int): the maximum depth of the tree\n",
    "            max_features (int): the number of features to consider when looking for the best split\n",
    "            random_state (int): controls both the randomness of pseudosampling and feature selection\n",
    "            feat_ids_by_tree (list): selected features for each tree\n",
    "            trees (list): fitted trees for forest       \n",
    "        \n",
    "        '''\n",
    "        \n",
    "        \n",
    "        self.n_estimators: int = n_estimators\n",
    "        self.max_depth: int = max_depth\n",
    "        self.max_features: int = max_features\n",
    "        self.random_state: int = random_state\n",
    "\n",
    "        self.trees: list = []\n",
    "        self.feat_ids_by_tree: list = []\n",
    "        \n",
    "           \n",
    "    def __check_jobs(self, n_jobs: int, n_estimators: int) -> int:\n",
    "        '''A private method for checking n_jobs. If n_jobs not defined, it is setted to 1\n",
    "        \n",
    "        Parameters:\n",
    "            n_jobs (int): the number of jobs to run in parallel\n",
    "            n_estimators (int): a number of trees in forest\n",
    "            \n",
    "        Returns: number of jobs (int)\n",
    "        '''\n",
    "        \n",
    "        \n",
    "        if n_jobs:\n",
    "            return min(n_jobs, n_estimators)\n",
    "        elif not n_jobs:\n",
    "            return 1\n",
    "        \n",
    "        \n",
    "    def __calc_estim_per_job(self, n_estimators: int, n_jobs: int) -> Tuple[np.ndarray, list]:\n",
    "        '''A private method to split n_estimators for n_jobs. Also calculates \"coordinates\" to keep seed regardless of n_jobs\n",
    "        \n",
    "        Parameters:\n",
    "            n_jobs (int): the number of jobs to run in parallel\n",
    "            n_estimators (int): a number of trees in forest\n",
    "            \n",
    "        Returns:\n",
    "            n_estimators_per_job (np.ndarray): array with splitted number of estimators per each job\n",
    "            seed_coords (list): list with tuples contained start and stop coordinate for building trees and their seeds    \n",
    "        '''\n",
    "        \n",
    "        \n",
    "        n_estimators_per_job = np.full(n_jobs, n_estimators // n_jobs, dtype=int)\n",
    "        n_estimators_per_job[: n_estimators % n_jobs] += 1\n",
    "        \n",
    "        # some calculations for building the same trees regardless n_jobs\n",
    "        lst_cumsum = np.insert(np.cumsum(n_estimators_per_job), 0, 0, axis=0)\n",
    "        # list for start and stop for calculating seeds\n",
    "        seed_coords = []\n",
    "        for i in range(1, len(lst_cumsum)):\n",
    "            seed_coords.append((lst_cumsum[i-1], lst_cumsum[i]))\n",
    "        return n_estimators_per_job, seed_coords\n",
    "            \n",
    "    \n",
    "    def _build_trees(self, seed_coords: tuple, X: np.ndarray, y: np.ndarray) -> Tuple[list, list]:\n",
    "        '''Private function used to build a single tree for forest\n",
    "        \n",
    "        Parameters:\n",
    "            seed_coords (tuple): start and stop coordinates for building trees and their seeds\n",
    "            X (np.ndarray): array with features\n",
    "            y (np.ndarray): target vector\n",
    "            \n",
    "        Returns: None\n",
    "        '''\n",
    "        \n",
    "        \n",
    "        start, stop = seed_coords\n",
    "        trees = []\n",
    "        feat_ids_by_tree = []\n",
    "        for i in range(start, stop):\n",
    "            # setting seed\n",
    "            np.random.seed(self.random_state + i)\n",
    "\n",
    "            # selecting n random features \n",
    "            feat_ids = np.random.choice(X.shape[1], size=self.max_features, replace=False)\n",
    "            feat_ids_by_tree.append(feat_ids)\n",
    "\n",
    "            # creating pseudosample using bootstrap\n",
    "            # random indices for pseudosample\n",
    "            pseudo_idx = np.random.choice(X.shape[0], size=X.shape[0], replace=True).reshape(X.shape[0], 1)\n",
    "            pseudo_X = X[pseudo_idx, feat_ids]\n",
    "            pseudo_y = y[pseudo_idx]\n",
    "\n",
    "            # creating and fitting model\n",
    "            dec_tree_class = DecisionTreeClassifier(max_depth=self.max_depth,\n",
    "                                                    max_features=self.max_features, \n",
    "                                                    random_state=self.random_state)\n",
    "            dec_tree_class.fit(pseudo_X, pseudo_y)\n",
    "            trees.append(dec_tree_class)\n",
    "        return feat_ids_by_tree, trees\n",
    "\n",
    "    \n",
    "    def __do_parallel(self, func: Callable, n_jobs: int, *args) -> list: # args may contain X or both X and y\n",
    "        '''Private method for running fit or predict_proba methods in parallel\n",
    "        \n",
    "        Parameters:\n",
    "            func (Callable): function for parallel execution\n",
    "            n_jobs (int): the number of jobs to run in parallel\n",
    "            *args may contain X or both X and y\n",
    "            \n",
    "        Returns: list with futures (list)            \n",
    "        '''\n",
    "        \n",
    "        \n",
    "        n_jobs = self.__check_jobs(n_jobs, self.n_estimators)\n",
    "        n_est_per_job, seed_coords = self.__calc_estim_per_job(self.n_estimators, n_jobs)\n",
    "        futures = []\n",
    "        with ThreadPoolExecutor() as pool:\n",
    "            for i, _ in enumerate(n_est_per_job):\n",
    "                futures.append(pool.submit(func, seed_coords[i], *args))\n",
    "        return futures\n",
    "\n",
    "\n",
    "    def fit(self, X: np.ndarray, y: np.ndarray, n_jobs: int = None) -> object:\n",
    "        '''Build a forest of trees from the training set (X, y)\n",
    "        \n",
    "        Parameters:\n",
    "            X (np.ndarray) of shape (n_samples, n_features): the training input samples\n",
    "            y (np.ndarray) of shape (n_samples): target values labels\n",
    "            n_jobs (int): the number of jobs to run in parallel\n",
    "        Returns: self object (RandomForestClassifierCustom)\n",
    "        '''\n",
    "        \n",
    "        \n",
    "        self.classes_ = sorted(np.unique(y))\n",
    "        futures = self.__do_parallel(self._build_trees, n_jobs, X, y)\n",
    "        for future in futures:\n",
    "            self.feat_ids_by_tree.extend(future.result()[0]) \n",
    "            self.trees.extend(future.result()[1])\n",
    "        return self\n",
    "            \n",
    "        \n",
    "    def _parallel_predict_proba(self, seed_coords: tuple, X: np.array) -> list:\n",
    "        '''Function for running predict_proba using n trees per job\n",
    "        \n",
    "        Parameters:\n",
    "            seed_coords (tuple): start and stop coordinates for using n trees\n",
    "            X (np.ndarray): array with features\n",
    "            \n",
    "        Returns:\n",
    "            probs (list): the class probabilities of the input samples based on n trees\n",
    "        '''\n",
    "        \n",
    "        \n",
    "        start, stop = seed_coords\n",
    "        probs = []\n",
    "        for i in range(start, stop):\n",
    "            proba = self.trees[i].predict_proba(X[:, self.feat_ids_by_tree[i]])\n",
    "            probs.append(proba)\n",
    "        return probs\n",
    "        \n",
    "    \n",
    "    def predict_proba(self, X: np.ndarray, n_jobs: int = None) -> list:\n",
    "        '''Predicts class probabilities for X. The predicted class probabilities of an input sample are computed as\n",
    "        the mean predicted class probabilities of the trees in the forest\n",
    "        \n",
    "        Parameters:\n",
    "            X (np.ndarray) of shape (n_samples, n_features): the testing input samples\n",
    "            n_jobs (int): the number of jobs to run in parallel\n",
    "        '''\n",
    "        \n",
    "        \n",
    "        futures = self.__do_parallel(self._parallel_predict_proba, n_jobs, X)\n",
    "        result = []\n",
    "        for future in futures:\n",
    "            result.extend(future.result())\n",
    "        return np.mean(result, axis=0)\n",
    "    \n",
    "    \n",
    "    def predict(self, X: np.ndarray, n_jobs: int = None) -> np.ndarray:\n",
    "        '''Predicts class for X. The predicted class of an input sample is a vote by the trees in the forest, \n",
    "        weighted by their probability estimates. That is, the predicted class is the one with highest mean probability\n",
    "        estimate across the trees\n",
    "        \n",
    "        Parameters:\n",
    "            X (np.ndarray) of shape (n_samples, n_features): the testing input samples\n",
    "            n_jobs (int): the number of jobs to run in parallel\n",
    "            \n",
    "        Returns:\n",
    "            predictions (np.ndarray) of shape (n_samples,): the predicted classes    \n",
    "        '''\n",
    "        \n",
    "        \n",
    "        probas = self.predict_proba(X, n_jobs)\n",
    "        predictions = np.argmax(probas, axis=1)\n",
    "        return predictions\n",
    "    \n",
    "    \n",
    "X, y = make_classification(n_samples=100000)"
   ]
  },
  {
   "cell_type": "code",
   "execution_count": 2,
   "id": "5eecd633-1ae5-49fb-8cd0-4fd4ec1d6c24",
   "metadata": {
    "id": "5eecd633-1ae5-49fb-8cd0-4fd4ec1d6c24"
   },
   "outputs": [],
   "source": [
    "random_forest1 = RandomForestClassifierCustom(max_depth=30, n_estimators=10, max_features=2, random_state=42)"
   ]
  },
  {
   "cell_type": "code",
   "execution_count": 3,
   "id": "85861ddf-1fdd-4dce-8e91-67e2a20e294d",
   "metadata": {
    "id": "85861ddf-1fdd-4dce-8e91-67e2a20e294d",
    "outputId": "998bf531-569e-4d2b-ded8-e2b5c5935c18"
   },
   "outputs": [
    {
     "name": "stdout",
     "output_type": "stream",
     "text": [
      "CPU times: user 5.14 s, sys: 1.35 ms, total: 5.15 s\n",
      "Wall time: 5.15 s\n"
     ]
    }
   ],
   "source": [
    "%%time\n",
    "\n",
    "_ = random_forest1.fit(X, y, n_jobs=1)"
   ]
  },
  {
   "cell_type": "code",
   "execution_count": 4,
   "id": "04e62ac4-91d0-4cac-9de9-b4be0b582e7b",
   "metadata": {
    "id": "04e62ac4-91d0-4cac-9de9-b4be0b582e7b",
    "outputId": "3676d6a4-9445-4158-ea6f-31ac8e8e57b3"
   },
   "outputs": [
    {
     "name": "stdout",
     "output_type": "stream",
     "text": [
      "CPU times: user 130 ms, sys: 9.63 ms, total: 140 ms\n",
      "Wall time: 142 ms\n"
     ]
    }
   ],
   "source": [
    "%%time\n",
    "\n",
    "preds_1 = random_forest1.predict(X, n_jobs=1)"
   ]
  },
  {
   "cell_type": "code",
   "execution_count": 5,
   "id": "a8bbe738-da4a-4806-b816-654ad250edb3",
   "metadata": {},
   "outputs": [
    {
     "data": {
      "text/plain": [
       "[array([ 0, 17]),\n",
       " array([9, 6]),\n",
       " array([15, 14]),\n",
       " array([12, 16]),\n",
       " array([1, 3]),\n",
       " array([10, 14]),\n",
       " array([1, 9]),\n",
       " array([14, 19]),\n",
       " array([15,  8]),\n",
       " array([ 1, 12])]"
      ]
     },
     "execution_count": 5,
     "metadata": {},
     "output_type": "execute_result"
    }
   ],
   "source": [
    "random_forest1.feat_ids_by_tree"
   ]
  },
  {
   "cell_type": "code",
   "execution_count": 6,
   "id": "a4696384-b02b-4195-8ca7-60ae55aed197",
   "metadata": {
    "id": "a4696384-b02b-4195-8ca7-60ae55aed197"
   },
   "outputs": [],
   "source": [
    "random_forest2 = RandomForestClassifierCustom(max_depth=30, n_estimators=10, max_features=2, random_state=42)"
   ]
  },
  {
   "cell_type": "code",
   "execution_count": 7,
   "id": "9f14517f-7a80-4219-aff6-90097b59b085",
   "metadata": {
    "id": "9f14517f-7a80-4219-aff6-90097b59b085",
    "outputId": "e788857d-9fba-4cbf-c5cc-4247c8d0d28e"
   },
   "outputs": [
    {
     "name": "stdout",
     "output_type": "stream",
     "text": [
      "CPU times: user 5.25 s, sys: 30.1 ms, total: 5.28 s\n",
      "Wall time: 2.81 s\n"
     ]
    }
   ],
   "source": [
    "%%time\n",
    "\n",
    "_ = random_forest2.fit(X, y, n_jobs=2)"
   ]
  },
  {
   "cell_type": "code",
   "execution_count": 8,
   "id": "c7f01f97-4ad4-4bed-a977-c8bd3ae962fd",
   "metadata": {
    "id": "c7f01f97-4ad4-4bed-a977-c8bd3ae962fd",
    "outputId": "9926ecbe-2d3b-40d4-a36d-a11dfb244043"
   },
   "outputs": [
    {
     "name": "stdout",
     "output_type": "stream",
     "text": [
      "CPU times: user 121 ms, sys: 9.9 ms, total: 131 ms\n",
      "Wall time: 78.1 ms\n"
     ]
    }
   ],
   "source": [
    "%%time\n",
    "\n",
    "preds_2 = random_forest2.predict(X, n_jobs=2)"
   ]
  },
  {
   "cell_type": "code",
   "execution_count": 9,
   "id": "3b8a3929-fb49-46eb-8dd2-7a4782bf2740",
   "metadata": {},
   "outputs": [
    {
     "data": {
      "text/plain": [
       "[array([ 0, 17]),\n",
       " array([9, 6]),\n",
       " array([15, 14]),\n",
       " array([12, 16]),\n",
       " array([1, 3]),\n",
       " array([10, 14]),\n",
       " array([1, 9]),\n",
       " array([14, 19]),\n",
       " array([15,  8]),\n",
       " array([ 1, 12])]"
      ]
     },
     "execution_count": 9,
     "metadata": {},
     "output_type": "execute_result"
    }
   ],
   "source": [
    "random_forest2.feat_ids_by_tree"
   ]
  },
  {
   "cell_type": "code",
   "execution_count": 10,
   "id": "547ba1fd-9535-4267-93f8-3cc927f71e03",
   "metadata": {
    "id": "547ba1fd-9535-4267-93f8-3cc927f71e03",
    "outputId": "6f5c6549-ebb3-45d6-edbd-f99855543082"
   },
   "outputs": [
    {
     "data": {
      "text/plain": [
       "True"
      ]
     },
     "execution_count": 10,
     "metadata": {},
     "output_type": "execute_result"
    }
   ],
   "source": [
    "(preds_1 == preds_2).all()   # Количество worker'ов не должно влиять на предсказания"
   ]
  },
  {
   "cell_type": "markdown",
   "id": "0a2ea6af-f73d-436a-94d9-f7310ac9a4e6",
   "metadata": {
    "id": "0a2ea6af-f73d-436a-94d9-f7310ac9a4e6"
   },
   "source": [
    "#### Какие есть недостатки у вашей реализации параллельного Random Forest (если они есть)? Как это можно исправить? Опишите словами, можно без кода (+1 дополнительный балл)"
   ]
  },
  {
   "cell_type": "markdown",
   "id": "19f2f04d-2c35-4d7d-a8fe-7f88d538fb79",
   "metadata": {
    "id": "19f2f04d-2c35-4d7d-a8fe-7f88d538fb79"
   },
   "source": [
    "В этом задании использовала `multiprocessing.ThreadPoolExecutor()`, хоть и задача выглядить абсолютно CPU-bound. Сначала написала для `fit` код на процессах, деревья начали строиться действительно в два раза быстрее. Но когда аналогично написала для `predict_proba`, всё это дело перестало ускоряться, поэтому перешла на потоки, проверила, что `fit` ускоряется так же, как и на процессах, даже чуть-чуть быстрее. Загадочно, честно говоря. Возможно, это тот самый случай, когда процессы стало создавать дороже, чем исполнять рассчёты. В целом, самый большой недостаток в том, что я возвращаю список futures как результат распараллеливания функций, не знаю, можно ли так, конечно, можно доработать, но эти деревья выпили из меня жизнь. Я постаралась, зафиксировать одинаковый seed для каждого дерева вне зависимости от количества workers, а сами деревья сделать разными со своим фиксированным seed. В ячейках выше видно, что деревья создавались по одинаковому набору фичей вне зависимости от количества worker (вывела аттрибут `feat_ids_by_tree`)."
   ]
  },
  {
   "cell_type": "markdown",
   "id": "f020bb22-a29e-4e39-aba9-d41e79a80732",
   "metadata": {
    "id": "f020bb22-a29e-4e39-aba9-d41e79a80732"
   },
   "source": [
    "# Задание 2 (9 баллов)"
   ]
  },
  {
   "cell_type": "markdown",
   "id": "e3a8a0d2-f35b-4edb-9fb3-61da119255e9",
   "metadata": {
    "id": "e3a8a0d2-f35b-4edb-9fb3-61da119255e9"
   },
   "source": [
    "Напишите декоратор `memory_limit`, который позволит ограничивать использование памяти декорируемой функцией.\n",
    "\n",
    "Декоратор должен принимать следующие аргументы:\n",
    "1. `soft_limit` - \"мягкий\" лимит использования памяти. При превышении функцией этого лимита должен будет отображён **warning**\n",
    "2. `hard_limit` - \"жёсткий\" лимит использования памяти. При превышении функцией этого лимита должно будет брошено исключение, а функция должна немедленно завершить свою работу\n",
    "3. `poll_interval` - интервал времени (в секундах) между проверками использования памяти\n",
    "\n",
    "Требования:\n",
    "1. Потребление функцией памяти должно отслеживаться **во время выполнения функции**, а не после её завершения\n",
    "2. **warning** при превышении `soft_limit` должен отображаться один раз, даже если функция переходила через этот лимит несколько раз\n",
    "3. Если задать `soft_limit` или `hard_limit` как `None`, то соответствующий лимит должен быть отключён\n",
    "4. Лимиты должны передаваться и отображаться в формате `<number>X`, где `X` - символ, обозначающий порядок единицы измерения памяти (\"B\", \"K\", \"M\", \"G\", \"T\", ...)\n",
    "5. В тексте warning'ов и исключений должен быть указан текщий объём используемой памяти и величина превышенного лимита\n",
    "\n",
    "В задании можно использовать только модули из **стандартной библиотеки** питона, можно писать вспомогательные функции и/или классы\n",
    "\n",
    "В коде ниже для вас предопределены некоторые полезные функции, вы можете ими пользоваться, а можете не пользоваться"
   ]
  },
  {
   "cell_type": "code",
   "execution_count": 11,
   "id": "78299479-f7e3-409c-b144-d9a14bb1715a",
   "metadata": {
    "id": "78299479-f7e3-409c-b144-d9a14bb1715a"
   },
   "outputs": [],
   "source": [
    "import os\n",
    "import sys\n",
    "import psutil\n",
    "import time\n",
    "import warnings\n",
    "import threading\n",
    "\n",
    "\n",
    "def get_memory_usage():    # Показывает текущее потребление памяти процессом\n",
    "    process = psutil.Process(os.getpid())\n",
    "    mem_info = process.memory_info()\n",
    "    return mem_info.rss\n",
    "\n",
    "\n",
    "def human_readble_to_bytes(limit):\n",
    "    symbols = ('K', 'M', 'G', 'T', 'P', 'E', 'Z', 'Y')\n",
    "    prefix = {}\n",
    "    for idx, s in enumerate(symbols):\n",
    "        prefix[s] = 1 << (idx + 1) * 10\n",
    "    for s in symbols:\n",
    "        if limit[-1] == s:\n",
    "            value = int(float(limit[:-1])*prefix[s])\n",
    "            return value\n",
    "    return int(limit)\n",
    "\n",
    "\n",
    "def bytes_to_human_readable(n_bytes):\n",
    "    symbols = ('K', 'M', 'G', 'T', 'P', 'E', 'Z', 'Y')\n",
    "    prefix = {}\n",
    "    for idx, s in enumerate(symbols):\n",
    "        prefix[s] = 1 << (idx + 1) * 10\n",
    "    for s in reversed(symbols):\n",
    "        if n_bytes >= prefix[s]:\n",
    "            value = float(n_bytes) / prefix[s]\n",
    "            return f\"{value:.2f}{s}\"\n",
    "    return f\"{n_bytes}B\"\n",
    "\n",
    "\n",
    "def memory_limit(softcap=None, hardcap=None, poll_interval=1):\n",
    "    # Ваш код здесь\n",
    "    pass"
   ]
  },
  {
   "cell_type": "code",
   "execution_count": 12,
   "id": "4b69f34b-8181-4863-95d5-7867bd828c83",
   "metadata": {},
   "outputs": [
    {
     "name": "stderr",
     "output_type": "stream",
     "text": [
      "Warning! Soft limit 512M is broken, current memory usage - 520.21M!"
     ]
    },
    {
     "ename": "MemLimitException",
     "evalue": "Hard limit 1.5G is broken, current memory usage - 1.50G!",
     "output_type": "error",
     "traceback": [
      "\u001b[0;31m---------------------------------------------------------------------------\u001b[0m",
      "\u001b[0;31mKeyboardInterrupt\u001b[0m                         Traceback (most recent call last)",
      "\u001b[0;32m/tmp/ipykernel_1756/780099709.py\u001b[0m in \u001b[0;36minner_func\u001b[0;34m(*args, **kwargs)\u001b[0m\n\u001b[1;32m    213\u001b[0m             \u001b[0;32mtry\u001b[0m\u001b[0;34m:\u001b[0m\u001b[0;34m\u001b[0m\u001b[0;34m\u001b[0m\u001b[0m\n\u001b[0;32m--> 214\u001b[0;31m                 \u001b[0mresult\u001b[0m \u001b[0;34m=\u001b[0m \u001b[0mfunc\u001b[0m\u001b[0;34m(\u001b[0m\u001b[0;34m*\u001b[0m\u001b[0margs\u001b[0m\u001b[0;34m,\u001b[0m \u001b[0;34m**\u001b[0m\u001b[0mkwargs\u001b[0m\u001b[0;34m)\u001b[0m\u001b[0;34m\u001b[0m\u001b[0;34m\u001b[0m\u001b[0m\n\u001b[0m\u001b[1;32m    215\u001b[0m                 \u001b[0;32mif\u001b[0m \u001b[0mthread_started\u001b[0m\u001b[0;34m:\u001b[0m\u001b[0;34m\u001b[0m\u001b[0;34m\u001b[0m\u001b[0m\n",
      "\u001b[0;32m/tmp/ipykernel_1756/780099709.py\u001b[0m in \u001b[0;36mmemory_increment\u001b[0;34m()\u001b[0m\n\u001b[1;32m    235\u001b[0m             \u001b[0mtime\u001b[0m\u001b[0;34m.\u001b[0m\u001b[0msleep\u001b[0m\u001b[0;34m(\u001b[0m\u001b[0;36m0.1\u001b[0m\u001b[0;34m)\u001b[0m\u001b[0;34m\u001b[0m\u001b[0;34m\u001b[0m\u001b[0m\n\u001b[0;32m--> 236\u001b[0;31m         \u001b[0mlst\u001b[0m\u001b[0;34m.\u001b[0m\u001b[0mappend\u001b[0m\u001b[0;34m(\u001b[0m\u001b[0mi\u001b[0m\u001b[0;34m)\u001b[0m\u001b[0;34m\u001b[0m\u001b[0;34m\u001b[0m\u001b[0m\n\u001b[0m\u001b[1;32m    237\u001b[0m     \u001b[0;32mreturn\u001b[0m \u001b[0mlst\u001b[0m\u001b[0;34m\u001b[0m\u001b[0;34m\u001b[0m\u001b[0m\n",
      "\u001b[0;31mKeyboardInterrupt\u001b[0m: ",
      "\nDuring handling of the above exception, another exception occurred:\n",
      "\u001b[0;31mMemLimitException\u001b[0m                         Traceback (most recent call last)",
      "\u001b[0;32m/tmp/ipykernel_1756/780099709.py\u001b[0m in \u001b[0;36m<module>\u001b[0;34m\u001b[0m\n\u001b[1;32m    237\u001b[0m     \u001b[0;32mreturn\u001b[0m \u001b[0mlst\u001b[0m\u001b[0;34m\u001b[0m\u001b[0;34m\u001b[0m\u001b[0m\n\u001b[1;32m    238\u001b[0m \u001b[0;34m\u001b[0m\u001b[0m\n\u001b[0;32m--> 239\u001b[0;31m \u001b[0mmemory_increment\u001b[0m\u001b[0;34m(\u001b[0m\u001b[0;34m)\u001b[0m\u001b[0;34m\u001b[0m\u001b[0;34m\u001b[0m\u001b[0m\n\u001b[0m",
      "\u001b[0;32m/tmp/ipykernel_1756/780099709.py\u001b[0m in \u001b[0;36minner_func\u001b[0;34m(*args, **kwargs)\u001b[0m\n\u001b[1;32m    216\u001b[0m                     \u001b[0mmem_check\u001b[0m\u001b[0;34m.\u001b[0m\u001b[0mevent\u001b[0m \u001b[0;34m=\u001b[0m \u001b[0;32mTrue\u001b[0m\u001b[0;34m\u001b[0m\u001b[0;34m\u001b[0m\u001b[0m\n\u001b[1;32m    217\u001b[0m             \u001b[0;32mexcept\u001b[0m \u001b[0mKeyboardInterrupt\u001b[0m \u001b[0;32mas\u001b[0m \u001b[0me\u001b[0m\u001b[0;34m:\u001b[0m \u001b[0;31m# error is not catched\u001b[0m\u001b[0;34m\u001b[0m\u001b[0;34m\u001b[0m\u001b[0m\n\u001b[0;32m--> 218\u001b[0;31m                 \u001b[0;32mraise\u001b[0m \u001b[0mMemLimitException\u001b[0m\u001b[0;34m(\u001b[0m\u001b[0mmem_check\u001b[0m\u001b[0;34m)\u001b[0m\u001b[0;34m\u001b[0m\u001b[0;34m\u001b[0m\u001b[0m\n\u001b[0m\u001b[1;32m    219\u001b[0m             \u001b[0;32mreturn\u001b[0m \u001b[0mresult\u001b[0m\u001b[0;34m\u001b[0m\u001b[0;34m\u001b[0m\u001b[0m\n\u001b[1;32m    220\u001b[0m         \u001b[0;32mreturn\u001b[0m \u001b[0minner_func\u001b[0m\u001b[0;34m\u001b[0m\u001b[0;34m\u001b[0m\u001b[0m\n",
      "\u001b[0;31mMemLimitException\u001b[0m: Hard limit 1.5G is broken, current memory usage - 1.50G!"
     ]
    }
   ],
   "source": [
    "import os\n",
    "import sys\n",
    "import psutil\n",
    "import time\n",
    "import warnings\n",
    "from threading import Thread\n",
    "import _thread\n",
    "from typing import Optional\n",
    "\n",
    "\n",
    "class MemoryThread(Thread):\n",
    "    '''A thread that monitors the memory usage of a process\n",
    "\n",
    "    Attributes:\n",
    "        soft_limit (str): the soft memory limit in a human-readable format (e.g., \"512M\")\n",
    "        hard_limit (str): the hard memory limit in a human-readable format (e.g., \"1.5G\")\n",
    "        poll_interval (float): the time interval (in seconds) for checking memory usage\n",
    "        _bytes_soft_limit (int): the soft memory limit in bytes\n",
    "        _bytes_hard_limit (int): the hard memory limit in bytes\n",
    "        broken_soft (bool): True if the soft memory limit has been exceeded\n",
    "        memory_usage (str): the current memory usage in a human-readable format (e.g., \"100M\")\n",
    "    '''\n",
    "    \n",
    "    \n",
    "    symbols = ('K', 'M', 'G', 'T', 'P', 'E', 'Z', 'Y')\n",
    "    prefix = {}\n",
    "    for idx, s in enumerate(symbols):\n",
    "        prefix[s] = 1 << (idx + 1) * 10\n",
    "    \n",
    "    \n",
    "    def __init__(self, soft_limit, hard_limit, poll_interval) -> None:\n",
    "        '''\n",
    "        Initializes a MemoryThread instance\n",
    "\n",
    "        Parameters:\n",
    "            soft_limit (str): the soft memory limit in a human-readable format (e.g., \"512M\").\n",
    "            hard_limit (str): the hard memory limit in a human-readable format (e.g., \"1.5G\").\n",
    "            poll_interval (float): the time interval (in seconds) for checking memory usage\n",
    "\n",
    "        Returns: None\n",
    "        '''\n",
    "        \n",
    "        \n",
    "        super().__init__()\n",
    "        self.soft_limit = soft_limit\n",
    "        self.hard_limit = hard_limit\n",
    "        self.poll_interval = poll_interval\n",
    "        self.broken_soft = False\n",
    "        if soft_limit:\n",
    "            self._bytes_soft_limit = self.human_readble_to_bytes(self.soft_limit)\n",
    "        if hard_limit:\n",
    "            self._bytes_hard_limit = self.human_readble_to_bytes(self.hard_limit)\n",
    "                   \n",
    "        \n",
    "    def get_memory_usage(self) -> int: # Показывает текущее потребление памяти процессом\n",
    "        '''Returns the current memory usage of the process in bytes'''\n",
    "        \n",
    "        \n",
    "        process = psutil.Process(os.getpid())\n",
    "        mem_info = process.memory_info()\n",
    "        return mem_info.rss\n",
    "\n",
    "\n",
    "    def human_readble_to_bytes(self, limit: str) -> int:\n",
    "        '''Converts a human-readable memory limit (e.g., \"512M\") to an integer in bytes\n",
    "        \n",
    "        Parameters:\n",
    "            limit (str): a human-readable memory limit to be converted\n",
    "            \n",
    "        Returns: memory limit in bytes (int)\n",
    "        '''\n",
    "        \n",
    "        \n",
    "        for s in MemoryThread.symbols:\n",
    "            if limit[-1] == s:\n",
    "                value = int(float(limit[:-1]) * MemoryThread.prefix[s])\n",
    "                return value\n",
    "        return int(limit)\n",
    "\n",
    "\n",
    "    def bytes_to_human_readable(self, n_bytes: int) -> str:\n",
    "        '''Converts a number of bytes to a human-readable memory size (e.g., \"100M\")\n",
    "\n",
    "        Parameters:\n",
    "            n_bytes (int): the number of bytes\n",
    "\n",
    "        Returns: a string representing the memory size in a human-readable format (str)\n",
    "        '''\n",
    "        \n",
    "        \n",
    "        for s in reversed(MemoryThread.symbols):\n",
    "            if n_bytes >= MemoryThread.prefix[s]:\n",
    "                value = float(n_bytes) / MemoryThread.prefix[s]\n",
    "                return f\"{value:.2f}{s}\"\n",
    "        return f\"{n_bytes}B\"\n",
    "\n",
    "        \n",
    "    def run(self) -> None:\n",
    "        '''The main run method of the thread'''\n",
    "        \n",
    "        \n",
    "        while True:\n",
    "            memory_usage = self.get_memory_usage()\n",
    "            self.memory_usage = self.bytes_to_human_readable(memory_usage)\n",
    "            if (not self.broken_soft) and self.soft_limit:\n",
    "                self.check_soft(memory_usage)\n",
    "            if self.hard_limit:\n",
    "                self.check_hard(memory_usage)\n",
    "            if hasattr(self, 'event'):\n",
    "                return\n",
    "            time.sleep(self.poll_interval)\n",
    "        return\n",
    "            \n",
    "                      \n",
    "    def check_soft(self, memory_usage: int) -> None:\n",
    "        '''Check if the soft limit has been exceeded\n",
    "\n",
    "        Parameters:\n",
    "            memory_usage (int): the current memory usage in bytes\n",
    "\n",
    "        Returns: None\n",
    "        '''\n",
    "        \n",
    "        \n",
    "        def custom_formatwarning(msg: str, *args, **kwargs) -> str:\n",
    "            '''Formats UserWarning message output\n",
    "            \n",
    "            Parameters:\n",
    "                msg (str): message to raise\n",
    "                *args, **kwargs contains other parameters of UserWarning\n",
    "                \n",
    "            Returns: UserWarning message (str)    \n",
    "            '''\n",
    "            \n",
    "            \n",
    "            # ignore everything except the message\n",
    "            return  f\"Warning! {str(msg)}\"\n",
    "        \n",
    "        if memory_usage >= self._bytes_soft_limit:\n",
    "            self.broken_soft = True\n",
    "            warnings.formatwarning = custom_formatwarning\n",
    "            warnings.warn(\n",
    "                f\"Soft limit {self.soft_limit} is broken, current memory usage - {self.memory_usage}!\", \n",
    "                UserWarning\n",
    "            )\n",
    "            \n",
    "            \n",
    "    def check_hard(self, memory_usage: int) -> None:\n",
    "        '''Check if the hard limit has been exceeded\n",
    "\n",
    "        Parameters:\n",
    "            memory_usage (int): The current memory usage in bytes.\n",
    "\n",
    "        Returns: None\n",
    "        '''\n",
    "        \n",
    "        \n",
    "        if memory_usage >= self._bytes_hard_limit:\n",
    "            _thread.interrupt_main() # I tried to catch KeybordInterrupt error here too\n",
    "            time.sleep(2)\n",
    "            # I used it here to restart kernel for cleaning memory\n",
    "            # for some reason, gc.collect() could not cope with this task \n",
    "            os._exit(0)\n",
    "            \n",
    "            \n",
    "class MemLimitException(BaseException):\n",
    "    '''A custom exception class for raising when memory limit is exceeded'''\n",
    "    \n",
    "    \n",
    "    def __init__(self, obj: MemoryThread) -> None:\n",
    "        '''Initializes a MemLimitException instance\n",
    "\n",
    "        Parameters:\n",
    "            obj (MemoryThread): the instance of MemoryThread where the exception occurred\n",
    "\n",
    "        Returns: None\n",
    "        '''\n",
    "        \n",
    "        \n",
    "        self.obj = obj\n",
    "    \n",
    "    \n",
    "    def __str__(self) -> str:\n",
    "        '''Returns a string representation of the MemLimitException'''\n",
    "        \n",
    "        \n",
    "        return f\"Hard limit {self.obj.hard_limit} is broken, current memory usage - {self.obj.memory_usage}!\"\n",
    "\n",
    "            \n",
    "def memory_limit(\n",
    "    soft_limit: Optional[str] = \"512M\",\n",
    "    hard_limit: Optional[str] = \"1.5G\",\n",
    "    poll_interval: float = 0.1\n",
    ") -> None:\n",
    "    '''Decorator function to limit the memory usage of a function\n",
    "\n",
    "    Parameters:\n",
    "        soft_limit (str): the soft memory limit in a human-readable format (e.g., \"512M\")\n",
    "        hard_limit (str): the hard memory limit in a human-readable format (e.g., \"1.5G\")\n",
    "        poll_interval (float): the time interval (in seconds) for checking memory usage\n",
    "\n",
    "    Returns: the decorated function\n",
    "    '''\n",
    "    \n",
    "    \n",
    "    def decor(func):\n",
    "        def inner_func(*args, **kwargs):\n",
    "            thread_started = False\n",
    "            if soft_limit or hard_limit:\n",
    "                thread_started = True\n",
    "                mem_check = MemoryThread(soft_limit, hard_limit, poll_interval)\n",
    "                mem_check.start()\n",
    "            try:\n",
    "                result = func(*args, **kwargs)\n",
    "                if thread_started:\n",
    "                    mem_check.event = True\n",
    "            except KeyboardInterrupt as e: # error is not catched\n",
    "                raise MemLimitException(mem_check)\n",
    "            return result\n",
    "        return inner_func\n",
    "    return decor\n",
    "\n",
    "\n",
    "@memory_limit(soft_limit=\"512M\", hard_limit=\"1.5G\", poll_interval=0.1)\n",
    "def memory_increment():\n",
    "    \"\"\"\n",
    "    Функция для тестирования\n",
    "    \n",
    "    В течение нескольких секунд достигает использования памяти 1.89G\n",
    "    Потребление памяти и скорость накопления можно варьировать, изменяя код\n",
    "    \"\"\"\n",
    "    lst = []\n",
    "    for i in range(50000000):\n",
    "        if i % 500000 == 0:\n",
    "            time.sleep(0.1)\n",
    "        lst.append(i)\n",
    "    return lst\n",
    "\n",
    "memory_increment()"
   ]
  },
  {
   "cell_type": "markdown",
   "id": "4bf0a185-3fd7-4d48-bfeb-cf6ce8b12893",
   "metadata": {
    "id": "4bf0a185-3fd7-4d48-bfeb-cf6ce8b12893"
   },
   "source": [
    "# Задание 3 (11 баллов)"
   ]
  },
  {
   "cell_type": "markdown",
   "id": "77eec6f5-3d52-43fc-b241-9114eb9c813c",
   "metadata": {
    "id": "77eec6f5-3d52-43fc-b241-9114eb9c813c"
   },
   "source": [
    "Напишите функцию `parallel_map`. Это должна быть **универсальная** функция для распараллеливания, которая эффективно работает в любых условиях.\n",
    "\n",
    "Функция должна принимать следующие аргументы:\n",
    "1. `target_func` - целевая функция (обязательный аргумент)\n",
    "2. `args_container` - контейнер с позиционными аргументами для `target_func` (по-умолчанию `None` - позиционные аргументы не передаются)\n",
    "3. `kwargs_container` - контейнер с именованными аргументами для `target_func` (по-умолчанию `None` - именованные аргументы не передаются)\n",
    "4. `n_jobs` - количество workers, которые будут использованы для выполнения (по-умолчанию `None` - количество логических ядер CPU в системе)\n",
    "\n",
    "Функция должна работать аналогично `***PoolExecutor.map`, применяя функцию к переданному набору аргументов, но с некоторыми дополнениями и улучшениями\n",
    "    \n",
    "Поскольку мы пишем **универсальную** функцию, то нам нужно будет выполнить ряд требований, чтобы она могла логично и эффективно работать в большинстве ситуаций\n",
    "\n",
    "1. `target_func` может принимать аргументы любого вида в любом количестве\n",
    "2. Любые типы данных в `args_container`, кроме `tuple`, передаются в `target_func` как единственный позиционный аргумент. `tuple` распаковываются в несколько аргументов\n",
    "3. Количество элементов в `args_container` должно совпадать с количеством элементов в `kwargs_container` и наоборот, также значение одного из них или обоих может быть равно `None`, в иных случаях должна кидаться ошибка (оба аргумента переданы, но размеры не совпадают)\n",
    "\n",
    "4. Функция должна выполнять определённое количество параллельных вызовов `target_func`, это количество зависит от числа переданных аргументов и значения `n_jobs`. Сценарии могут быть следующие\n",
    "    + `args_container=None`, `kwargs_container=None`, `n_jobs=None`. В таком случае функция `target_func` выполнится параллельно столько раз, сколько на вашем устройстве логических ядер CPU\n",
    "    + `args_container=None`, `kwargs_container=None`, `n_jobs=5`. В таком случае функция `target_func` выполнится параллельно **5** раз\n",
    "    + `args_container=[1, 2, 3]`, `kwargs_container=None`, `n_jobs=5`. В таком случае функция `target_func` выполнится параллельно **3** раза, несмотря на то, что `n_jobs=5` (так как есть всего 3 набора аргументов для которых нам нужно получить результат, а лишние worker'ы создавать не имеет смысла)\n",
    "    + `args_container=None`, `kwargs_container=[{\"s\": 1}, {\"s\": 2}, {\"s\": 3}]`, `n_jobs=5`. Данный случай аналогичен предыдущему, но здесь мы используем именованные аргументы\n",
    "    + `args_container=[1, 2, 3]`, `kwargs_container=[{\"s\": 1}, {\"s\": 2}, {\"s\": 3}]`, `n_jobs=5`. Данный случай аналогичен предыдущему, но здесь мы используем и позиционные, и именованные аргументы\n",
    "    + `args_container=[1, 2, 3, 4]`, `kwargs_container=None`, `n_jobs=2`. В таком случае в каждый момент времени параллельно будет выполняться **не более 2** функций `target_func`, так как нам нужно выполнить её 4 раза, но у нас есть только 2 worker'а.\n",
    "    + В подобных случаях (из примера выше) должно оптимизироваться время выполнения. Если эти 4 вызова выполняются за 5, 1, 2 и 1 секунды, то параллельное выполнение с `n_jobs=2` должно занять **5 секунд** (не 7 и тем более не 10)\n",
    "\n",
    "5. `parallel_map` возвращает результаты выполнения `target_func` **в том же порядке**, в котором были переданы соответствующие аргументы\n",
    "6. Работает с функциями, созданными внутри других функций\n",
    "\n",
    "Для базового решения от вас не ожидается **сверххорошая** оптимизация по времени и памяти для всех возможных случаев. Однако за хорошо оптимизированную логику работы можно получить до **+3 дополнительных баллов**\n",
    "\n",
    "Вы можете сделать класс вместо функции, если вам удобнее\n",
    "\n",
    "В задании можно использовать только модули из **стандартной библиотеки** питона\n",
    "\n",
    "Ниже приведены тестовые примеры по каждому из требований"
   ]
  },
  {
   "cell_type": "code",
   "execution_count": 1,
   "id": "52b613b4-8e29-47f2-81aa-d83230cdade3",
   "metadata": {},
   "outputs": [],
   "source": [
    "import multiprocessing\n",
    "from typing import Dict, List, Tuple, Any\n",
    "\n",
    "\n",
    "class ParallelMap:\n",
    "    '''A class that parallelizes the map function using multiprocessing\n",
    "\n",
    "    Attributes:\n",
    "        target_func (function): the function to be applied to the data\n",
    "        args_container (list): a list contained positional arguments for the target function\n",
    "        kwargs_container (list): a list of dictionaries containing keyword arguments for the target function\n",
    "        n_jobs (int): the number of CPUs used for multiprocessing\n",
    "        l (int): the length of the argument containers\n",
    "        _cont_mask (list): a list indicating the presence of argument containers\n",
    "    '''\n",
    "    \n",
    "    \n",
    "    \n",
    "    def __init__(\n",
    "        self,\n",
    "        target_func: callable,\n",
    "        args_container: List[Tuple] = None,\n",
    "        kwargs_container: List[Dict] = None,\n",
    "        n_jobs: int = None\n",
    "    ) -> None:        \n",
    "        '''Initializes the ParallelMap instance with the target function, positional and keyword arguments,\n",
    "        and the number of CPUs to be used\n",
    "\n",
    "        Parameters:\n",
    "            target_func (function): the function to be applied to the data\n",
    "            args_container (list): a list contained positional arguments for the target function\n",
    "            kwargs_container (list): a list of dictionaries containing keyword arguments for the target function\n",
    "            n_jobs (int): the number of CPUs used for multiprocessing\n",
    "\n",
    "        Raises:\n",
    "            ValueError: if the number of positional arguments does not match the number of keyword arguments\n",
    "\n",
    "        Returns: None\n",
    "        '''\n",
    "        \n",
    "        \n",
    "        self.target_func = target_func\n",
    "        self.args_container = args_container\n",
    "        self.kwargs_container = kwargs_container\n",
    "        if not n_jobs:\n",
    "            self.n_jobs = multiprocessing.cpu_count()\n",
    "        else:\n",
    "            self.n_jobs = n_jobs\n",
    "        self.__check_containers()\n",
    "        self.n_jobs = min(self.n_jobs, self.l)\n",
    "        \n",
    "    \n",
    "    def __check_containers(self) -> None:\n",
    "        '''Private method that verifies that the argument containers are passed,\n",
    "        sets the length of the containers, and adjusts the empy containers of required length as needed\n",
    "        '''\n",
    "        \n",
    "        \n",
    "        self._cont_mask = [bool(cont) for cont in [self.args_container, self.kwargs_container]]\n",
    "        if self._cont_mask == [True, True]:\n",
    "            arg_l, kwarg_l = len(self.args_container), len(self.kwargs_container)\n",
    "            if arg_l != kwarg_l:\n",
    "                raise ValueError(\n",
    "                    f\"Numbers of positional arguments and keyword arguments do not match: {arg_l} and {kwarg_l}\"\n",
    "                )\n",
    "            self.l = arg_l\n",
    "            self.args_container = self.__adj_args(self.args_container)\n",
    "        elif self._cont_mask == [True, False]:\n",
    "            self.l = len(self.args_container)\n",
    "            self.args_container = self.__adj_args(self.args_container)\n",
    "            self.kwargs_container = self.__adj_kwargs(self.l)\n",
    "        elif self._cont_mask == [False, True]:\n",
    "            self.l = len(self.kwargs_container)\n",
    "            self.args_container = self.__adj_args(cont_l = self.l)\n",
    "        else:\n",
    "            self.l = self.n_jobs\n",
    "            self.args_container = self.__adj_args(cont_l = self.l)\n",
    "            self.kwargs_container = self.__adj_kwargs(cont_l = self.l)\n",
    "\n",
    "\n",
    "    def __adj_args(self, cont: List[Any] = None, cont_l: int = None) -> List[Tuple]:\n",
    "        '''Private method that transforms elements of the positional argument container to tuples,\n",
    "        if the positional argument container is not passed, creates list of empty tuples with required length\n",
    "\n",
    "        Parameters:\n",
    "            cont (list): the positional argument container\n",
    "            cont_l (int): the length of the positional argument container\n",
    "\n",
    "        Returns: \n",
    "            cont (list):  a list of tuples with the correct format for positional arguments\n",
    "        '''\n",
    "        \n",
    "        \n",
    "        if not cont_l:\n",
    "            cont = [tuple([i]) if (type(i) is not tuple) else i for i in cont]\n",
    "        else:\n",
    "            cont = [()]*cont_l\n",
    "        return cont\n",
    "\n",
    "\n",
    "    def __adj_kwargs(self, cont_l: int) -> List[Dict]:\n",
    "        '''Private method that adjusts the list of empty dictionaries with required length\n",
    "\n",
    "        Parameters:\n",
    "            cont_l (int): the length of the keyword argument container\n",
    "\n",
    "        Returns: a list of empty dictionaries with the correct format for keyword arguments\n",
    "        '''\n",
    "        \n",
    "        \n",
    "        return [{}]*cont_l\n",
    "\n",
    "    \n",
    "    def process_tasks(\n",
    "        self,\n",
    "        task_queue: multiprocessing.Queue,\n",
    "        result_dict: dict\n",
    "    ) -> None:\n",
    "        '''Processes tasks from a multiprocessing queue\n",
    "\n",
    "        Parameters:\n",
    "            task_queue (multiprocessing.Queue): The queue of tasks to be processed\n",
    "            result_dict (multiprocessing.Manager.dict): a shared dictionary to store the results\n",
    "\n",
    "        Returns: None\n",
    "        '''\n",
    "        \n",
    "        \n",
    "        while not task_queue.empty():\n",
    "            i, args, kwargs = task_queue.get()\n",
    "            result = self.target_func(*args, **kwargs)\n",
    "            result_dict[i] = result\n",
    "        return \n",
    "\n",
    "\n",
    "    def parallel_map(self) -> list:\n",
    "        '''Runs the parallel map function using multiple CPUs\n",
    "\n",
    "        Returns: a list of results from the map function\n",
    "        '''\n",
    "        \n",
    "        \n",
    "        task_queue = multiprocessing.Queue()\n",
    "        for i in range(self.l):\n",
    "            task_queue.put((i, self.args_container[i], self.kwargs_container[i]))\n",
    "        manager = multiprocessing.Manager()\n",
    "        result_dict = manager.dict()\n",
    "        processes = []\n",
    "        for i in range(self.n_jobs):\n",
    "            p = multiprocessing.Process(target=self.process_tasks,\n",
    "                                        args=(task_queue, result_dict))\n",
    "            processes.append(p)\n",
    "            p.start()\n",
    "        for p in processes:\n",
    "            p.join()\n",
    "        return [result_dict[i] for i in sorted(result_dict)]"
   ]
  },
  {
   "cell_type": "code",
   "execution_count": 2,
   "id": "0f41b1c8-0d26-483e-8114-1e7638006e34",
   "metadata": {
    "id": "0f41b1c8-0d26-483e-8114-1e7638006e34"
   },
   "outputs": [],
   "source": [
    "import time\n",
    "\n",
    "\n",
    "# Это только один пример тестовой функции, ваша parallel_map должна уметь эффективно работать с ЛЮБЫМИ функциями\n",
    "# Поэтому обязательно протестируйте код на чём-нибудбь ещё\n",
    "def test_func(x=1, s=2, a=1, b=1, c=1):\n",
    "    time.sleep(s)\n",
    "    return a*x**2 + b*x + c"
   ]
  },
  {
   "cell_type": "code",
   "execution_count": null,
   "id": "54d48c99-6e8a-4990-8944-e5da424efdbd",
   "metadata": {
    "id": "54d48c99-6e8a-4990-8944-e5da424efdbd",
    "outputId": "368b6866-0ced-410a-810c-ad0c90f8a489"
   },
   "outputs": [
    {
     "name": "stdout",
     "output_type": "stream",
     "text": [
      "CPU times: user 395 µs, sys: 8.26 ms, total: 8.65 ms\n",
      "Wall time: 2.01 s\n"
     ]
    },
    {
     "data": {
      "text/plain": [
       "[3, 7.0, (-8-3j), 21]"
      ]
     },
     "execution_count": 157,
     "metadata": {},
     "output_type": "execute_result"
    }
   ],
   "source": [
    "%%time\n",
    "\n",
    "# Пример 2.1\n",
    "# Отдельные значения в args_container передаются в качестве позиционных аргументов\n",
    "parallel_map(test_func, args_container=[1, 2.0, 3j-1, 4])   # Здесь происходят параллельные вызовы: test_func(1) test_func(2.0) test_func(3j-1) test_func(4)"
   ]
  },
  {
   "cell_type": "code",
   "execution_count": 3,
   "id": "1c98345a-e380-4b29-9d2e-3f73a1f4cbc6",
   "metadata": {
    "id": "54d48c99-6e8a-4990-8944-e5da424efdbd",
    "outputId": "368b6866-0ced-410a-810c-ad0c90f8a489"
   },
   "outputs": [
    {
     "name": "stdout",
     "output_type": "stream",
     "text": [
      "CPU times: user 22.3 ms, sys: 1.1 ms, total: 23.4 ms\n",
      "Wall time: 2.06 s\n"
     ]
    },
    {
     "data": {
      "text/plain": [
       "[3, 7.0, (-8-3j), 21]"
      ]
     },
     "execution_count": 3,
     "metadata": {},
     "output_type": "execute_result"
    }
   ],
   "source": [
    "%%time\n",
    "\n",
    "parl_map = ParallelMap(test_func, args_container=[1, 2.0, 3j-1, 4])\n",
    "parl_map.parallel_map()"
   ]
  },
  {
   "cell_type": "code",
   "execution_count": null,
   "id": "dd0da716-5bbf-4925-b87a-7efe82c51cf9",
   "metadata": {
    "id": "dd0da716-5bbf-4925-b87a-7efe82c51cf9",
    "outputId": "629317ad-bead-4fa4-d1a2-c62c57b85c8d"
   },
   "outputs": [
    {
     "name": "stdout",
     "output_type": "stream",
     "text": [
      "CPU times: user 7.18 ms, sys: 7.73 ms, total: 14.9 ms\n",
      "Wall time: 3.01 s\n"
     ]
    },
    {
     "data": {
      "text/plain": [
       "[3, 7.0, (-8-3j), 21]"
      ]
     },
     "execution_count": 158,
     "metadata": {},
     "output_type": "execute_result"
    }
   ],
   "source": [
    "%%time\n",
    "\n",
    "# Пример 2.2\n",
    "# Элементы типа tuple в args_container распаковываются в качестве позиционных аргументов\n",
    "parallel_map(test_func, [(1, 1), (2.0, 2), (3j-1, 3), 4])    # Здесь происходят параллельные вызовы: test_func(1, 1) test_func(2.0, 2) test_func(3j-1, 3) test_func(4)"
   ]
  },
  {
   "cell_type": "code",
   "execution_count": 4,
   "id": "12b62360-6c93-4280-9d82-630d759e8913",
   "metadata": {
    "id": "54d48c99-6e8a-4990-8944-e5da424efdbd",
    "outputId": "368b6866-0ced-410a-810c-ad0c90f8a489"
   },
   "outputs": [
    {
     "name": "stdout",
     "output_type": "stream",
     "text": [
      "CPU times: user 0 ns, sys: 22.9 ms, total: 22.9 ms\n",
      "Wall time: 3.03 s\n"
     ]
    },
    {
     "data": {
      "text/plain": [
       "[3, 7.0, (-8-3j), 21]"
      ]
     },
     "execution_count": 4,
     "metadata": {},
     "output_type": "execute_result"
    }
   ],
   "source": [
    "%%time\n",
    "\n",
    "parl_map = ParallelMap(test_func, [(1, 1), (2.0, 2), (3j-1, 3), 4])\n",
    "parl_map.parallel_map()"
   ]
  },
  {
   "cell_type": "code",
   "execution_count": null,
   "id": "e2a0e6fd-1d92-4f06-9e4b-51290501c2da",
   "metadata": {
    "id": "e2a0e6fd-1d92-4f06-9e4b-51290501c2da",
    "outputId": "a7e942fc-c876-4f32-da30-36f08683f6b6"
   },
   "outputs": [
    {
     "name": "stdout",
     "output_type": "stream",
     "text": [
      "CPU times: user 5.89 ms, sys: 8.84 ms, total: 14.7 ms\n",
      "Wall time: 3.02 s\n"
     ]
    },
    {
     "data": {
      "text/plain": [
       "[3, 7, 13, 21]"
      ]
     },
     "execution_count": 159,
     "metadata": {},
     "output_type": "execute_result"
    }
   ],
   "source": [
    "%%time\n",
    "\n",
    "# Пример 3.1\n",
    "# Возможна одновременная передача args_container и kwargs_container, но количества элементов в них должны быть равны\n",
    "parallel_map(test_func,\n",
    "             args_container=[1, 2, 3, 4],\n",
    "             kwargs_container=[{\"s\": 3}, {\"s\": 3}, {\"s\": 3}, {\"s\": 3}])\n",
    "\n",
    "# Здесь происходят параллельные вызовы: test_func(1, s=3) test_func(2, s=3) test_func(3, s=3) test_func(4, s=3)"
   ]
  },
  {
   "cell_type": "code",
   "execution_count": 5,
   "id": "fa45f479-00b7-45db-b0c2-c31725444726",
   "metadata": {
    "id": "54d48c99-6e8a-4990-8944-e5da424efdbd",
    "outputId": "368b6866-0ced-410a-810c-ad0c90f8a489"
   },
   "outputs": [
    {
     "name": "stdout",
     "output_type": "stream",
     "text": [
      "CPU times: user 10.5 ms, sys: 13.2 ms, total: 23.7 ms\n",
      "Wall time: 3.04 s\n"
     ]
    },
    {
     "data": {
      "text/plain": [
       "[3, 7, 13, 21]"
      ]
     },
     "execution_count": 5,
     "metadata": {},
     "output_type": "execute_result"
    }
   ],
   "source": [
    "%%time\n",
    "\n",
    "parl_map = ParallelMap(test_func,\n",
    "                       args_container=[1, 2, 3, 4],\n",
    "                       kwargs_container=[{\"s\": 3}, {\"s\": 3}, {\"s\": 3}, {\"s\": 3}])\n",
    "parl_map.parallel_map()"
   ]
  },
  {
   "cell_type": "code",
   "execution_count": null,
   "id": "34cda7e6-b24a-4564-958f-c4cf20b7ed7c",
   "metadata": {
    "id": "34cda7e6-b24a-4564-958f-c4cf20b7ed7c",
    "outputId": "4a48b6b2-7a88-4f06-8af0-a544a393e4d9"
   },
   "outputs": [
    {
     "name": "stdout",
     "output_type": "stream",
     "text": [
      "CPU times: user 6.54 ms, sys: 6.06 ms, total: 12.6 ms\n",
      "Wall time: 3.02 s\n"
     ]
    },
    {
     "data": {
      "text/plain": [
       "[3, 3, 3, 3]"
      ]
     },
     "execution_count": 42,
     "metadata": {},
     "output_type": "execute_result"
    }
   ],
   "source": [
    "%%time\n",
    "\n",
    "# Пример 3.2\n",
    "# args_container может быть None, а kwargs_container задан явно\n",
    "parallel_map(test_func,\n",
    "             kwargs_container=[{\"s\": 3}, {\"s\": 3}, {\"s\": 3}, {\"s\": 3}])"
   ]
  },
  {
   "cell_type": "code",
   "execution_count": 6,
   "id": "278184c9-6b1b-474e-bd60-34da52c5415b",
   "metadata": {
    "id": "54d48c99-6e8a-4990-8944-e5da424efdbd",
    "outputId": "368b6866-0ced-410a-810c-ad0c90f8a489"
   },
   "outputs": [
    {
     "name": "stdout",
     "output_type": "stream",
     "text": [
      "CPU times: user 1.62 ms, sys: 21.6 ms, total: 23.3 ms\n",
      "Wall time: 3.03 s\n"
     ]
    },
    {
     "data": {
      "text/plain": [
       "[3, 3, 3, 3]"
      ]
     },
     "execution_count": 6,
     "metadata": {},
     "output_type": "execute_result"
    }
   ],
   "source": [
    "%%time\n",
    "\n",
    "parl_map = ParallelMap(test_func,\n",
    "                       kwargs_container=[{\"s\": 3}, {\"s\": 3}, {\"s\": 3}, {\"s\": 3}])\n",
    "parl_map.parallel_map()"
   ]
  },
  {
   "cell_type": "code",
   "execution_count": null,
   "id": "e75853e1-1ed8-43c5-b045-e30dd34a9f34",
   "metadata": {
    "id": "e75853e1-1ed8-43c5-b045-e30dd34a9f34",
    "outputId": "713f82ad-0f98-4920-ad30-387358960296"
   },
   "outputs": [
    {
     "name": "stdout",
     "output_type": "stream",
     "text": [
      "CPU times: user 4.11 ms, sys: 9.2 ms, total: 13.3 ms\n",
      "Wall time: 2.01 s\n"
     ]
    },
    {
     "data": {
      "text/plain": [
       "[3, 7, 13, 21]"
      ]
     },
     "execution_count": 43,
     "metadata": {},
     "output_type": "execute_result"
    }
   ],
   "source": [
    "%%time\n",
    "\n",
    "# Пример 3.3\n",
    "# kwargs_container может быть None, а args_container задан явно\n",
    "parallel_map(test_func,\n",
    "             args_container=[1, 2, 3, 4])"
   ]
  },
  {
   "cell_type": "code",
   "execution_count": 7,
   "id": "4736c8f6-2867-4cd4-b641-09fbfc9b5684",
   "metadata": {
    "id": "54d48c99-6e8a-4990-8944-e5da424efdbd",
    "outputId": "368b6866-0ced-410a-810c-ad0c90f8a489"
   },
   "outputs": [
    {
     "name": "stdout",
     "output_type": "stream",
     "text": [
      "CPU times: user 0 ns, sys: 23.2 ms, total: 23.2 ms\n",
      "Wall time: 2.03 s\n"
     ]
    },
    {
     "data": {
      "text/plain": [
       "[3, 7, 13, 21]"
      ]
     },
     "execution_count": 7,
     "metadata": {},
     "output_type": "execute_result"
    }
   ],
   "source": [
    "%%time\n",
    "\n",
    "parl_map = ParallelMap(test_func,\n",
    "                       args_container=[1, 2, 3, 4])\n",
    "parl_map.parallel_map()"
   ]
  },
  {
   "cell_type": "code",
   "execution_count": null,
   "id": "55bd628f-0456-4b3f-8cea-ccbfc0e0dd72",
   "metadata": {
    "id": "55bd628f-0456-4b3f-8cea-ccbfc0e0dd72",
    "outputId": "7f6c3ec4-a532-4e64-eafb-d70d63a90aaf"
   },
   "outputs": [
    {
     "name": "stdout",
     "output_type": "stream",
     "text": [
      "CPU times: user 500 µs, sys: 43.3 ms, total: 43.8 ms\n",
      "Wall time: 2.04 s\n"
     ]
    },
    {
     "data": {
      "text/plain": [
       "[3, 3, 3, 3, 3, 3, 3, 3, 3, 3, 3, 3, 3, 3, 3, 3, 3, 3, 3, 3, 3, 3, 3, 3]"
      ]
     },
     "execution_count": 44,
     "metadata": {},
     "output_type": "execute_result"
    }
   ],
   "source": [
    "%%time\n",
    "\n",
    "# Пример 3.4\n",
    "# И kwargs_container, и args_container могут быть не заданы\n",
    "parallel_map(test_func)"
   ]
  },
  {
   "cell_type": "code",
   "execution_count": 8,
   "id": "1e441453-313f-4630-a0bf-167fd36c4182",
   "metadata": {
    "id": "54d48c99-6e8a-4990-8944-e5da424efdbd",
    "outputId": "368b6866-0ced-410a-810c-ad0c90f8a489"
   },
   "outputs": [
    {
     "name": "stdout",
     "output_type": "stream",
     "text": [
      "CPU times: user 0 ns, sys: 69 ms, total: 69 ms\n",
      "Wall time: 2.08 s\n"
     ]
    },
    {
     "data": {
      "text/plain": [
       "[3, 3, 3, 3, 3, 3, 3, 3, 3, 3, 3, 3, 3, 3, 3, 3]"
      ]
     },
     "execution_count": 8,
     "metadata": {},
     "output_type": "execute_result"
    }
   ],
   "source": [
    "%%time\n",
    "\n",
    "parl_map = ParallelMap(test_func)\n",
    "parl_map.parallel_map()"
   ]
  },
  {
   "cell_type": "code",
   "execution_count": null,
   "id": "bcdf8016-8363-4876-b05d-d1b536261f01",
   "metadata": {
    "id": "bcdf8016-8363-4876-b05d-d1b536261f01",
    "outputId": "f1fcb05f-1ccc-40fb-a4b4-941ee0a0358f"
   },
   "outputs": [
    {
     "ename": "ValueError",
     "evalue": "Numbers of positional arguments and keyword arguments do not match: 4 and 3",
     "output_type": "error",
     "traceback": [
      "\u001b[0;31m---------------------------------------------------------------------------\u001b[0m",
      "\u001b[0;31mValueError\u001b[0m                                Traceback (most recent call last)",
      "File \u001b[0;32m<timed exec>:8\u001b[0m, in \u001b[0;36m<module>\u001b[0;34m\u001b[0m\n",
      "\u001b[0;31mValueError\u001b[0m: Numbers of positional arguments and keyword arguments do not match: 4 and 3"
     ]
    }
   ],
   "source": [
    "%%time\n",
    "\n",
    "# Пример 3.5\n",
    "# При несовпадении количеств позиционных и именованных аргументов кидается ошибка\n",
    "parallel_map(test_func,\n",
    "             args_container=[1, 2, 3, 4],\n",
    "             kwargs_container=[{\"s\": 3}, {\"s\": 3}, {\"s\": 3}])"
   ]
  },
  {
   "cell_type": "code",
   "execution_count": 9,
   "id": "9cf66886-ee52-4c22-acf0-5a3ecc3c637b",
   "metadata": {
    "id": "54d48c99-6e8a-4990-8944-e5da424efdbd",
    "outputId": "368b6866-0ced-410a-810c-ad0c90f8a489"
   },
   "outputs": [
    {
     "ename": "ValueError",
     "evalue": "Numbers of positional arguments and keyword arguments do not match: 4 and 3",
     "output_type": "error",
     "traceback": [
      "\u001b[0;31m---------------------------------------------------------------------------\u001b[0m",
      "\u001b[0;31mValueError\u001b[0m                                Traceback (most recent call last)",
      "\u001b[0;32m<timed exec>\u001b[0m in \u001b[0;36m<module>\u001b[0;34m\u001b[0m\n",
      "\u001b[0;32m/tmp/ipykernel_1208/125535190.py\u001b[0m in \u001b[0;36m__init__\u001b[0;34m(self, target_func, args_container, kwargs_container, n_jobs)\u001b[0m\n\u001b[1;32m     47\u001b[0m         \u001b[0;32melse\u001b[0m\u001b[0;34m:\u001b[0m\u001b[0;34m\u001b[0m\u001b[0;34m\u001b[0m\u001b[0m\n\u001b[1;32m     48\u001b[0m             \u001b[0mself\u001b[0m\u001b[0;34m.\u001b[0m\u001b[0mn_jobs\u001b[0m \u001b[0;34m=\u001b[0m \u001b[0mn_jobs\u001b[0m\u001b[0;34m\u001b[0m\u001b[0;34m\u001b[0m\u001b[0m\n\u001b[0;32m---> 49\u001b[0;31m         \u001b[0mself\u001b[0m\u001b[0;34m.\u001b[0m\u001b[0m__check_containers\u001b[0m\u001b[0;34m(\u001b[0m\u001b[0;34m)\u001b[0m\u001b[0;34m\u001b[0m\u001b[0;34m\u001b[0m\u001b[0m\n\u001b[0m\u001b[1;32m     50\u001b[0m         \u001b[0mself\u001b[0m\u001b[0;34m.\u001b[0m\u001b[0mn_jobs\u001b[0m \u001b[0;34m=\u001b[0m \u001b[0mmin\u001b[0m\u001b[0;34m(\u001b[0m\u001b[0mself\u001b[0m\u001b[0;34m.\u001b[0m\u001b[0mn_jobs\u001b[0m\u001b[0;34m,\u001b[0m \u001b[0mself\u001b[0m\u001b[0;34m.\u001b[0m\u001b[0ml\u001b[0m\u001b[0;34m)\u001b[0m\u001b[0;34m\u001b[0m\u001b[0;34m\u001b[0m\u001b[0m\n\u001b[1;32m     51\u001b[0m \u001b[0;34m\u001b[0m\u001b[0m\n",
      "\u001b[0;32m/tmp/ipykernel_1208/125535190.py\u001b[0m in \u001b[0;36m__check_containers\u001b[0;34m(self)\u001b[0m\n\u001b[1;32m     61\u001b[0m             \u001b[0marg_l\u001b[0m\u001b[0;34m,\u001b[0m \u001b[0mkwarg_l\u001b[0m \u001b[0;34m=\u001b[0m \u001b[0mlen\u001b[0m\u001b[0;34m(\u001b[0m\u001b[0mself\u001b[0m\u001b[0;34m.\u001b[0m\u001b[0margs_container\u001b[0m\u001b[0;34m)\u001b[0m\u001b[0;34m,\u001b[0m \u001b[0mlen\u001b[0m\u001b[0;34m(\u001b[0m\u001b[0mself\u001b[0m\u001b[0;34m.\u001b[0m\u001b[0mkwargs_container\u001b[0m\u001b[0;34m)\u001b[0m\u001b[0;34m\u001b[0m\u001b[0;34m\u001b[0m\u001b[0m\n\u001b[1;32m     62\u001b[0m             \u001b[0;32mif\u001b[0m \u001b[0marg_l\u001b[0m \u001b[0;34m!=\u001b[0m \u001b[0mkwarg_l\u001b[0m\u001b[0;34m:\u001b[0m\u001b[0;34m\u001b[0m\u001b[0;34m\u001b[0m\u001b[0m\n\u001b[0;32m---> 63\u001b[0;31m                 raise ValueError(\n\u001b[0m\u001b[1;32m     64\u001b[0m                     \u001b[0;34mf\"Numbers of positional arguments and keyword arguments do not match: {arg_l} and {kwarg_l}\"\u001b[0m\u001b[0;34m\u001b[0m\u001b[0;34m\u001b[0m\u001b[0m\n\u001b[1;32m     65\u001b[0m                 )\n",
      "\u001b[0;31mValueError\u001b[0m: Numbers of positional arguments and keyword arguments do not match: 4 and 3"
     ]
    }
   ],
   "source": [
    "%%time\n",
    "\n",
    "parl_map = ParallelMap(test_func,\n",
    "                       args_container=[1, 2, 3, 4],\n",
    "                       kwargs_container=[{\"s\": 3}, {\"s\": 3}, {\"s\": 3}])\n",
    "parl_map.parallel_map()"
   ]
  },
  {
   "cell_type": "code",
   "execution_count": null,
   "id": "115e5fea-0692-424e-acb5-e2d97391bad5",
   "metadata": {
    "id": "115e5fea-0692-424e-acb5-e2d97391bad5",
    "outputId": "74b08add-4214-4352-b055-093b0f414d2c"
   },
   "outputs": [
    {
     "name": "stdout",
     "output_type": "stream",
     "text": [
      "CPU times: user 9.3 ms, sys: 51.2 ms, total: 60.5 ms\n",
      "Wall time: 2.06 s\n"
     ]
    },
    {
     "data": {
      "text/plain": [
       "[3, 3, 3, 3, 3, 3, 3, 3, 3, 3, 3, 3, 3, 3, 3, 3, 3, 3, 3, 3, 3, 3, 3, 3]"
      ]
     },
     "execution_count": 45,
     "metadata": {},
     "output_type": "execute_result"
    }
   ],
   "source": [
    "%%time\n",
    "\n",
    "# Пример 4.1\n",
    "# Если функция не имеет обязательных аргументов и аргумент n_jobs не был передан, то она выполняется параллельно столько раз, сколько ваш CPU имеет логических ядер\n",
    "# В моём случае это 24, у вас может быть больше или меньше\n",
    "parallel_map(test_func)"
   ]
  },
  {
   "cell_type": "code",
   "execution_count": 10,
   "id": "2464a5bc-724d-4429-9426-a00bc2499f0c",
   "metadata": {},
   "outputs": [
    {
     "data": {
      "text/plain": [
       "16"
      ]
     },
     "execution_count": 10,
     "metadata": {},
     "output_type": "execute_result"
    }
   ],
   "source": [
    "multiprocessing.cpu_count()"
   ]
  },
  {
   "cell_type": "code",
   "execution_count": 11,
   "id": "247b9894-63b8-4078-948d-bde6db2bd9dc",
   "metadata": {
    "id": "54d48c99-6e8a-4990-8944-e5da424efdbd",
    "outputId": "368b6866-0ced-410a-810c-ad0c90f8a489"
   },
   "outputs": [
    {
     "name": "stdout",
     "output_type": "stream",
     "text": [
      "CPU times: user 21.5 ms, sys: 42.7 ms, total: 64.2 ms\n",
      "Wall time: 2.08 s\n"
     ]
    },
    {
     "data": {
      "text/plain": [
       "[3, 3, 3, 3, 3, 3, 3, 3, 3, 3, 3, 3, 3, 3, 3, 3]"
      ]
     },
     "execution_count": 11,
     "metadata": {},
     "output_type": "execute_result"
    }
   ],
   "source": [
    "%%time\n",
    "\n",
    "parl_map = ParallelMap(test_func)\n",
    "parl_map.parallel_map()"
   ]
  },
  {
   "cell_type": "code",
   "execution_count": 47,
   "id": "212fcdbe-a9f3-4eba-8d3f-7da0b853bffd",
   "metadata": {},
   "outputs": [
    {
     "name": "stdout",
     "output_type": "stream",
     "text": [
      "CPU times: user 2.06 ms, sys: 5.92 ms, total: 7.99 ms\n",
      "Wall time: 2.01 s\n"
     ]
    },
    {
     "data": {
      "text/plain": [
       "[3, 3]"
      ]
     },
     "execution_count": 47,
     "metadata": {},
     "output_type": "execute_result"
    }
   ],
   "source": [
    "%%time\n",
    "\n",
    "# Пример 4.2\n",
    "# Если функция не имеет обязательных аргументов и передан только аргумент n_jobs, то она выполняется параллельно n_jobs раз\n",
    "parallel_map(test_func, n_jobs=2)"
   ]
  },
  {
   "cell_type": "code",
   "execution_count": 13,
   "id": "feb9b8f9-89b6-44fe-b1a3-c9fe825f62f8",
   "metadata": {
    "id": "54d48c99-6e8a-4990-8944-e5da424efdbd",
    "outputId": "368b6866-0ced-410a-810c-ad0c90f8a489"
   },
   "outputs": [
    {
     "name": "stdout",
     "output_type": "stream",
     "text": [
      "CPU times: user 2.18 ms, sys: 11.9 ms, total: 14 ms\n",
      "Wall time: 2.03 s\n"
     ]
    },
    {
     "data": {
      "text/plain": [
       "[3, 3]"
      ]
     },
     "execution_count": 13,
     "metadata": {},
     "output_type": "execute_result"
    }
   ],
   "source": [
    "%%time\n",
    "\n",
    "parl_map = ParallelMap(test_func, n_jobs=2)\n",
    "parl_map.parallel_map()"
   ]
  },
  {
   "cell_type": "code",
   "execution_count": 48,
   "id": "202675af-11b9-485c-baa4-cc1ef8eb919d",
   "metadata": {},
   "outputs": [
    {
     "name": "stdout",
     "output_type": "stream",
     "text": [
      "CPU times: user 314 µs, sys: 8.69 ms, total: 9 ms\n",
      "Wall time: 2.01 s\n"
     ]
    },
    {
     "data": {
      "text/plain": [
       "[3, 7, 13]"
      ]
     },
     "execution_count": 48,
     "metadata": {},
     "output_type": "execute_result"
    }
   ],
   "source": [
    "%%time\n",
    "\n",
    "# Пример 4.3\n",
    "# Если аргументов для target_func указано МЕНЬШЕ, чем n_jobs, то используется такое же количество worker'ов, сколько было передано аргументов\n",
    "parallel_map(test_func,\n",
    "             args_container=[1, 2, 3],\n",
    "             n_jobs=5)   # Здесь используется 3 worker'a"
   ]
  },
  {
   "cell_type": "code",
   "execution_count": 14,
   "id": "6d2cf328-5cb3-4eac-b283-0b8cf6cc95d1",
   "metadata": {
    "id": "54d48c99-6e8a-4990-8944-e5da424efdbd",
    "outputId": "368b6866-0ced-410a-810c-ad0c90f8a489"
   },
   "outputs": [
    {
     "name": "stdout",
     "output_type": "stream",
     "text": [
      "CPU times: user 0 ns, sys: 17.8 ms, total: 17.8 ms\n",
      "Wall time: 2.03 s\n"
     ]
    },
    {
     "data": {
      "text/plain": [
       "[3, 7, 13]"
      ]
     },
     "execution_count": 14,
     "metadata": {},
     "output_type": "execute_result"
    }
   ],
   "source": [
    "%%time\n",
    "\n",
    "parl_map = ParallelMap(test_func,\n",
    "                       args_container=[1, 2, 3],\n",
    "                       n_jobs=5)\n",
    "parl_map.parallel_map()"
   ]
  },
  {
   "cell_type": "code",
   "execution_count": null,
   "id": "a0952cde-c347-438a-ad0b-15e1218e5b6f",
   "metadata": {
    "id": "a0952cde-c347-438a-ad0b-15e1218e5b6f",
    "outputId": "4d2a8d18-b440-4a39-abc3-08cafa133e34"
   },
   "outputs": [
    {
     "name": "stdout",
     "output_type": "stream",
     "text": [
      "CPU times: user 1.26 ms, sys: 9.47 ms, total: 10.7 ms\n",
      "Wall time: 3.01 s\n"
     ]
    },
    {
     "data": {
      "text/plain": [
       "[3, 3, 3]"
      ]
     },
     "execution_count": 49,
     "metadata": {},
     "output_type": "execute_result"
    }
   ],
   "source": [
    "%%time\n",
    "\n",
    "# Пример 4.4\n",
    "# Аналогичный предыдущему случай, но с именованными аргументами\n",
    "parallel_map(test_func,\n",
    "             kwargs_container=[{\"s\": 3}, {\"s\": 3}, {\"s\": 3}],\n",
    "             n_jobs=5)   # Здесь используется 3 worker'a"
   ]
  },
  {
   "cell_type": "code",
   "execution_count": 15,
   "id": "4291364b-1ff3-4477-8f0b-eee6801208c5",
   "metadata": {
    "id": "54d48c99-6e8a-4990-8944-e5da424efdbd",
    "outputId": "368b6866-0ced-410a-810c-ad0c90f8a489"
   },
   "outputs": [
    {
     "name": "stdout",
     "output_type": "stream",
     "text": [
      "CPU times: user 5.45 ms, sys: 13.9 ms, total: 19.4 ms\n",
      "Wall time: 3.03 s\n"
     ]
    },
    {
     "data": {
      "text/plain": [
       "[3, 3, 3]"
      ]
     },
     "execution_count": 15,
     "metadata": {},
     "output_type": "execute_result"
    }
   ],
   "source": [
    "%%time\n",
    "\n",
    "parl_map = ParallelMap(test_func,\n",
    "                       kwargs_container=[{\"s\": 3}, {\"s\": 3}, {\"s\": 3}],\n",
    "                       n_jobs=5)\n",
    "parl_map.parallel_map()"
   ]
  },
  {
   "cell_type": "code",
   "execution_count": null,
   "id": "b2c7d286-6036-44b4-9686-d941297e9598",
   "metadata": {
    "id": "b2c7d286-6036-44b4-9686-d941297e9598",
    "outputId": "f48ba7ff-d588-4a2c-ae4b-136ec1127871"
   },
   "outputs": [
    {
     "name": "stdout",
     "output_type": "stream",
     "text": [
      "CPU times: user 7.88 ms, sys: 0 ns, total: 7.88 ms\n",
      "Wall time: 3.01 s\n"
     ]
    },
    {
     "data": {
      "text/plain": [
       "[3, 7, 13]"
      ]
     },
     "execution_count": 50,
     "metadata": {},
     "output_type": "execute_result"
    }
   ],
   "source": [
    "%%time\n",
    "\n",
    "# Пример 4.5\n",
    "# Комбинация примеров 4.3 и 4.4 (переданы и позиционные и именованные аргументы)\n",
    "parallel_map(test_func,\n",
    "             args_container=[1, 2, 3],\n",
    "             kwargs_container=[{\"s\": 3}, {\"s\": 3}, {\"s\": 3}],\n",
    "             n_jobs=5)   # Здесь используется 3 worker'a"
   ]
  },
  {
   "cell_type": "code",
   "execution_count": 16,
   "id": "5610247f-d1ab-4833-83bb-efbeaa0096d8",
   "metadata": {
    "id": "54d48c99-6e8a-4990-8944-e5da424efdbd",
    "outputId": "368b6866-0ced-410a-810c-ad0c90f8a489"
   },
   "outputs": [
    {
     "name": "stdout",
     "output_type": "stream",
     "text": [
      "CPU times: user 17.1 ms, sys: 1.5 ms, total: 18.6 ms\n",
      "Wall time: 3.03 s\n"
     ]
    },
    {
     "data": {
      "text/plain": [
       "[3, 7, 13]"
      ]
     },
     "execution_count": 16,
     "metadata": {},
     "output_type": "execute_result"
    }
   ],
   "source": [
    "%%time\n",
    "\n",
    "parl_map = ParallelMap(test_func,\n",
    "                       args_container=[1, 2, 3],\n",
    "                       kwargs_container=[{\"s\": 3}, {\"s\": 3}, {\"s\": 3}],\n",
    "                       n_jobs=5)\n",
    "parl_map.parallel_map()"
   ]
  },
  {
   "cell_type": "code",
   "execution_count": null,
   "id": "8b4649e2-a75b-4ede-8a46-32a0139fe998",
   "metadata": {
    "id": "8b4649e2-a75b-4ede-8a46-32a0139fe998",
    "outputId": "e8358f8a-3133-4c5d-d9cc-c0e5d641417b"
   },
   "outputs": [
    {
     "name": "stdout",
     "output_type": "stream",
     "text": [
      "CPU times: user 7.88 ms, sys: 0 ns, total: 7.88 ms\n",
      "Wall time: 3.01 s\n"
     ]
    },
    {
     "data": {
      "text/plain": [
       "[3, 7, 13]"
      ]
     },
     "execution_count": 50,
     "metadata": {},
     "output_type": "execute_result"
    }
   ],
   "source": [
    "%%time\n",
    "\n",
    "# Пример 4.6\n",
    "# Если аргументов для target_func указано БОЛЬШЕ, чем n_jobs, то используется n_jobs worker'ов\n",
    "parallel_map(test_func,\n",
    "             args_container=[1, 2, 3, 4],\n",
    "             kwargs_container=None,\n",
    "             n_jobs=2)   # Здесь используется 2 worker'a"
   ]
  },
  {
   "cell_type": "code",
   "execution_count": 17,
   "id": "70518af4-0b5f-4296-b0e2-13d4ece1b1d7",
   "metadata": {
    "id": "54d48c99-6e8a-4990-8944-e5da424efdbd",
    "outputId": "368b6866-0ced-410a-810c-ad0c90f8a489"
   },
   "outputs": [
    {
     "name": "stdout",
     "output_type": "stream",
     "text": [
      "CPU times: user 3.25 ms, sys: 10.5 ms, total: 13.8 ms\n",
      "Wall time: 4.03 s\n"
     ]
    },
    {
     "data": {
      "text/plain": [
       "[3, 7, 13, 21]"
      ]
     },
     "execution_count": 17,
     "metadata": {},
     "output_type": "execute_result"
    }
   ],
   "source": [
    "%%time\n",
    "\n",
    "parl_map = ParallelMap(test_func,\n",
    "                       args_container=[1, 2, 3, 4],\n",
    "                       kwargs_container=None,\n",
    "                       n_jobs=2)\n",
    "parl_map.parallel_map()"
   ]
  },
  {
   "cell_type": "code",
   "execution_count": null,
   "id": "627aa784-15b5-41ca-b232-73c88c5ebed9",
   "metadata": {
    "id": "627aa784-15b5-41ca-b232-73c88c5ebed9",
    "outputId": "ec89318d-6f3d-4f59-bc73-377cc62583a4"
   },
   "outputs": [
    {
     "name": "stdout",
     "output_type": "stream",
     "text": [
      "CPU times: user 3.03 ms, sys: 11 ms, total: 14 ms\n",
      "Wall time: 5.01 s\n"
     ]
    },
    {
     "data": {
      "text/plain": [
       "[3, 3, 3, 3]"
      ]
     },
     "execution_count": 51,
     "metadata": {},
     "output_type": "execute_result"
    }
   ],
   "source": [
    "%%time\n",
    "\n",
    "# Пример 4.7\n",
    "# Время выполнения оптимизируется, данный код должен отрабатывать за 5 секунд\n",
    "parallel_map(test_func,\n",
    "             kwargs_container=[{\"s\": 5}, {\"s\": 1}, {\"s\": 2}, {\"s\": 1}],\n",
    "             n_jobs=2)"
   ]
  },
  {
   "cell_type": "code",
   "execution_count": 18,
   "id": "bb7b892d-f2ec-4d88-bfcd-41e6dfe6d46d",
   "metadata": {
    "id": "54d48c99-6e8a-4990-8944-e5da424efdbd",
    "outputId": "368b6866-0ced-410a-810c-ad0c90f8a489"
   },
   "outputs": [
    {
     "name": "stdout",
     "output_type": "stream",
     "text": [
      "CPU times: user 15.6 ms, sys: 1.11 ms, total: 16.7 ms\n",
      "Wall time: 5.03 s\n"
     ]
    },
    {
     "data": {
      "text/plain": [
       "[3, 3, 3, 3]"
      ]
     },
     "execution_count": 18,
     "metadata": {},
     "output_type": "execute_result"
    }
   ],
   "source": [
    "%%time\n",
    "\n",
    "parl_map = ParallelMap(test_func,\n",
    "                       kwargs_container=[{\"s\": 5}, {\"s\": 1}, {\"s\": 2}, {\"s\": 1}],\n",
    "                       n_jobs=2)\n",
    "parl_map.parallel_map()"
   ]
  },
  {
   "cell_type": "code",
   "execution_count": null,
   "id": "55bbfb49-4891-48c8-9cd7-782567b2a8fa",
   "metadata": {
    "id": "55bbfb49-4891-48c8-9cd7-782567b2a8fa",
    "outputId": "c0caab78-9287-462d-86e2-de7f5246a20a"
   },
   "outputs": [
    {
     "data": {
      "text/plain": [
       "['first', 'second', 'third', 'fourth', 'fifth']"
      ]
     },
     "execution_count": 57,
     "metadata": {},
     "output_type": "execute_result"
    }
   ],
   "source": [
    "def test_func2(string, sleep_time=1):\n",
    "    time.sleep(sleep_time)\n",
    "    return string\n",
    "\n",
    "# Пример 5\n",
    "# Результаты возвращаются в том же порядке, в котором были переданы соответствующие аргументы вне зависимости от того, когда завершился worker\n",
    "arguments = [\"first\", \"second\", \"third\", \"fourth\", \"fifth\"]\n",
    "parallel_map(test_func2,\n",
    "             args_container=arguments,\n",
    "             kwargs_container=[{\"sleep_time\": 5}, {\"sleep_time\": 4}, {\"sleep_time\": 3}, {\"sleep_time\": 2}, {\"sleep_time\": 1}])"
   ]
  },
  {
   "cell_type": "code",
   "execution_count": 19,
   "id": "2856dd29-f71a-4814-b910-6bc5ce7c4285",
   "metadata": {
    "id": "54d48c99-6e8a-4990-8944-e5da424efdbd",
    "outputId": "368b6866-0ced-410a-810c-ad0c90f8a489"
   },
   "outputs": [
    {
     "name": "stdout",
     "output_type": "stream",
     "text": [
      "['first', 'second', 'third', 'fourth', 'fifth']\n",
      "CPU times: user 6.65 ms, sys: 23.7 ms, total: 30.3 ms\n",
      "Wall time: 5.03 s\n"
     ]
    }
   ],
   "source": [
    "%%time\n",
    "\n",
    "def test_func2(string, sleep_time=1):\n",
    "    time.sleep(sleep_time)\n",
    "    return string\n",
    "\n",
    "\n",
    "arguments = [\"first\", \"second\", \"third\", \"fourth\", \"fifth\"]\n",
    "parl_map = ParallelMap(test_func2,\n",
    "                       args_container=arguments,\n",
    "                       kwargs_container=[{\"sleep_time\": 5}, {\"sleep_time\": 4}, {\"sleep_time\": 3}, {\"sleep_time\": 2}, {\"sleep_time\": 1}])\n",
    "print(parl_map.parallel_map())"
   ]
  },
  {
   "cell_type": "code",
   "execution_count": null,
   "id": "a5c2bcab-baa8-4f95-aceb-8cd6635844d6",
   "metadata": {
    "id": "a5c2bcab-baa8-4f95-aceb-8cd6635844d6",
    "outputId": "9ddeea23-68c7-4230-ae9d-73365115a5e7"
   },
   "outputs": [
    {
     "data": {
      "text/plain": [
       "[None, None, None]"
      ]
     },
     "execution_count": 58,
     "metadata": {},
     "output_type": "execute_result"
    }
   ],
   "source": [
    "%%time\n",
    "\n",
    "\n",
    "def test_func3():\n",
    "    def inner_test_func(sleep_time):\n",
    "        time.sleep(sleep_time)\n",
    "    return parallel_map(inner_test_func, args_container=[1, 2, 3])\n",
    "\n",
    "# Пример 6\n",
    "# Работает с функциями, созданными внутри других функций\n",
    "test_func3()"
   ]
  },
  {
   "cell_type": "code",
   "execution_count": 20,
   "id": "96603de6-195b-4b4c-a413-2b8738342a38",
   "metadata": {
    "id": "54d48c99-6e8a-4990-8944-e5da424efdbd",
    "outputId": "368b6866-0ced-410a-810c-ad0c90f8a489"
   },
   "outputs": [
    {
     "name": "stdout",
     "output_type": "stream",
     "text": [
      "CPU times: user 1.89 ms, sys: 16.6 ms, total: 18.5 ms\n",
      "Wall time: 3.03 s\n"
     ]
    },
    {
     "data": {
      "text/plain": [
       "[None, None, None]"
      ]
     },
     "execution_count": 20,
     "metadata": {},
     "output_type": "execute_result"
    }
   ],
   "source": [
    "%%time\n",
    "\n",
    "def test_func3():\n",
    "    def inner_test_func(sleep_time):\n",
    "        time.sleep(sleep_time)\n",
    "    parl_map = ParallelMap(inner_test_func, args_container=[1, 2, 3])\n",
    "    return parl_map.parallel_map()\n",
    "\n",
    "\n",
    "test_func3()"
   ]
  },
  {
   "cell_type": "code",
   "execution_count": 21,
   "id": "034d5a0d-b810-43d6-967f-f6bd3ea99cb8",
   "metadata": {},
   "outputs": [
    {
     "name": "stdout",
     "output_type": "stream",
     "text": [
      "CPU times: user 9.08 ms, sys: 3.9 ms, total: 13 ms\n",
      "Wall time: 17 s\n"
     ]
    },
    {
     "data": {
      "text/plain": [
       "[2.23606797749979, 7.211102550927978, 13.0]"
      ]
     },
     "execution_count": 21,
     "metadata": {},
     "output_type": "execute_result"
    }
   ],
   "source": [
    "%%time\n",
    "\n",
    "def calc_distance(x1=1, y1=1, x2=1, y2=1, s=1):\n",
    "    distance = ((x1 - x2)**2 + (y1 - y2)**2)**0.5\n",
    "    time.sleep(s)\n",
    "    return distance\n",
    "\n",
    "\n",
    "parl_map = ParallelMap(calc_distance, \n",
    "                       args_container=[(1, 5, 2, 3), (2, 2, 6, 8), (25, 11, 13, 16)],\n",
    "                       kwargs_container=[{\"s\": 6}, {\"s\": 1}, {\"s\": 10}], \n",
    "                       n_jobs=1)\n",
    "parl_map.parallel_map()"
   ]
  },
  {
   "cell_type": "code",
   "execution_count": 22,
   "id": "14e0aaf3-ed0d-42d6-8859-0f29a8a33744",
   "metadata": {},
   "outputs": [
    {
     "name": "stdout",
     "output_type": "stream",
     "text": [
      "CPU times: user 0 ns, sys: 19.2 ms, total: 19.2 ms\n",
      "Wall time: 10 s\n"
     ]
    },
    {
     "data": {
      "text/plain": [
       "[2.23606797749979, 7.211102550927978, 13.0]"
      ]
     },
     "execution_count": 22,
     "metadata": {},
     "output_type": "execute_result"
    }
   ],
   "source": [
    "%%time\n",
    "\n",
    "parl_map = ParallelMap(calc_distance, \n",
    "                       args_container=[(1, 5, 2, 3), (2, 2, 6, 8), (25, 11, 13, 16)],\n",
    "                       kwargs_container=[{\"s\": 6}, {\"s\": 1}, {\"s\": 10}], \n",
    "                       n_jobs=3)\n",
    "parl_map.parallel_map()"
   ]
  }
 ],
 "metadata": {
  "colab": {
   "provenance": []
  },
  "kernelspec": {
   "display_name": "Python 3 (ipykernel)",
   "language": "python",
   "name": "python3"
  },
  "language_info": {
   "codemirror_mode": {
    "name": "ipython",
    "version": 3
   },
   "file_extension": ".py",
   "mimetype": "text/x-python",
   "name": "python",
   "nbconvert_exporter": "python",
   "pygments_lexer": "ipython3",
   "version": "3.9.13"
  }
 },
 "nbformat": 4,
 "nbformat_minor": 5
}
