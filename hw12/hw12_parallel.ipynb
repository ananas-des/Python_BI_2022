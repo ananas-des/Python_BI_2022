{
 "cells": [
  {
   "cell_type": "markdown",
   "id": "807eeb67-c734-4bd7-87aa-573d1d55366d",
   "metadata": {
    "id": "807eeb67-c734-4bd7-87aa-573d1d55366d"
   },
   "source": [
    "В формулировке заданий будет использоваться понятие **worker**. Это слово обозначает какую-то единицу параллельного выполнения, в случае питона это может быть **поток** или **процесс**, выбирайте то, что лучше будет подходить к конкретной задаче"
   ]
  },
  {
   "cell_type": "markdown",
   "id": "6d3b4f3a-f226-4ea4-a39f-dfb6e45bd983",
   "metadata": {
    "id": "6d3b4f3a-f226-4ea4-a39f-dfb6e45bd983"
   },
   "source": [
    "# Задание 1 (7 баллов)"
   ]
  },
  {
   "cell_type": "markdown",
   "id": "ba5a5046-e619-4e55-8a36-f0e72f7f8d4a",
   "metadata": {
    "id": "ba5a5046-e619-4e55-8a36-f0e72f7f8d4a"
   },
   "source": [
    "В одном из заданий по ML от вас требовалось написать кастомную реализацию Random Forest. Её проблема состоит в том, что она работает медленно, так как использует всего один поток для работы. Добавление параллельного программирования в код позволит получить существенный прирост в скорости обучения и предсказаний.\n",
    "\n",
    "В данном задании от вас требуется добавить возможность обучать случайный лес параллельно и использовать параллелизм для предсказаний. Для этого вам понадобится:\n",
    "1. Добавить аргумент `n_jobs` в метод `fit`. `n_jobs` показывает количество worker'ов, используемых для распараллеливания\n",
    "2. Добавить аргумент `n_jobs` в методы `predict` и `predict_proba`\n",
    "3. Реализовать функционал по распараллеливанию в данных методах\n",
    "\n",
    "В результате код `random_forest.fit(X, y, n_jobs=2)` и `random_forest.predict(X, y, n_jobs=2)` должен работать в ~1.5-2 раза быстрее, чем `random_forest.fit(X, y, n_jobs=1)` и `random_forest.predict(X, y, n_jobs=1)` соответственно\n",
    "\n",
    "Если у вас по каким-то причинам нет кода случайного леса из ДЗ по ML, то вы можете написать его заново или попросить у однокурсника. *Детали* реализации ML части оцениваться не будут, НО, если вы поломаете логику работы алгоритма во время реализации параллелизма, то за это будут сниматься баллы\n",
    "\n",
    "В задании можно использовать только модули из **стандартной библиотеки** питона, а также функции и классы из **sklearn** при помощи которых вы изначально писали лес"
   ]
  },
  {
   "cell_type": "code",
   "execution_count": 13,
   "id": "ea74dc17-3268-4cb4-97d2-77c7ae3b6402",
   "metadata": {},
   "outputs": [],
   "source": [
    "import random\n",
    "from concurrent.futures import ThreadPoolExecutor\n",
    "import numpy as np\n",
    "from sklearn.base import BaseEstimator\n",
    "from sklearn.tree import DecisionTreeClassifier\n",
    "from sklearn.datasets import make_classification\n",
    "\n",
    "\n",
    "class RandomForestClassifierCustom(BaseEstimator):\n",
    "    def __init__(\n",
    "        self, n_estimators=10, max_depth=None, max_features=None, random_state=None\n",
    "    ):\n",
    "        self.n_estimators = n_estimators\n",
    "        self.max_depth = max_depth\n",
    "        self.max_features = max_features\n",
    "        self.random_state = random_state\n",
    "\n",
    "        self.trees = []\n",
    "        self.feat_ids_by_tree = []\n",
    "        \n",
    "        \n",
    "    @staticmethod    \n",
    "    def check_jobs(n_jobs, n_estimators):\n",
    "        if n_jobs:\n",
    "            return min(n_jobs, n_estimators)\n",
    "        elif not n_jobs:\n",
    "            return 1\n",
    "        \n",
    "        \n",
    "    @staticmethod\n",
    "    def calc_estim_per_job(n_estimators, n_jobs):\n",
    "        n_estimators_per_job = np.full(n_jobs, n_estimators // n_jobs, dtype=int)\n",
    "        n_estimators_per_job[: n_estimators % n_jobs] += 1\n",
    "        \n",
    "        # some calculations for building the same trees regardless n_jobs\n",
    "        lst_cumsum = np.insert(np.cumsum(n_estimators_per_job), 0, 0, axis=0)\n",
    "        # list for start and stop for calculating seeds\n",
    "        seed_coords = []\n",
    "        for i in range(1, len(lst_cumsum)):\n",
    "            seed_coords.append((lst_cumsum[i-1], lst_cumsum[i]))\n",
    "        return n_estimators_per_job, seed_coords\n",
    "            \n",
    "    \n",
    "    def build_trees(self, seed_coords, X, y):\n",
    "        start, stop = seed_coords\n",
    "        trees = []\n",
    "        feat_ids_by_tree = []\n",
    "        for i in range(start, stop):\n",
    "            # setting seed\n",
    "            np.random.seed(self.random_state + i)\n",
    "\n",
    "            # selecting n random features \n",
    "            feat_ids = np.random.choice(X.shape[1], size=self.max_features, replace=False)\n",
    "            feat_ids_by_tree.append(feat_ids)\n",
    "\n",
    "            # creating pseudosample using bootstrap\n",
    "            # random indices for pseudosample\n",
    "            pseudo_idx = np.random.choice(X.shape[0], size=X.shape[0], replace=True).reshape(X.shape[0], 1)\n",
    "            pseudo_X = X[pseudo_idx, feat_ids]\n",
    "            pseudo_y = y[pseudo_idx]\n",
    "\n",
    "            # creating and fitting model\n",
    "            dec_tree_class = DecisionTreeClassifier(max_depth=self.max_depth,\n",
    "                                                    max_features=self.max_features, \n",
    "                                                    random_state=self.random_state)\n",
    "            dec_tree_class.fit(pseudo_X, pseudo_y)\n",
    "            trees.append(dec_tree_class)\n",
    "        return feat_ids_by_tree, trees\n",
    "\n",
    "    \n",
    "    def __do_parallel(self, func, n_jobs, *args): # args may contain X or both X and y\n",
    "        n_jobs = RandomForestClassifierCustom.check_jobs(n_jobs, self.n_estimators)\n",
    "        n_est_per_job, seed_coords = RandomForestClassifierCustom.calc_estim_per_job(self.n_estimators, n_jobs)\n",
    "        futures = []\n",
    "        with ThreadPoolExecutor() as pool:\n",
    "            for i, _ in enumerate(n_est_per_job):\n",
    "                futures.append(pool.submit(func, seed_coords[i], *args))\n",
    "        return futures\n",
    "\n",
    "\n",
    "    def fit(self, X, y, n_jobs=None):\n",
    "        self.classes_ = sorted(np.unique(y))\n",
    "        futures = self.__do_parallel(self.build_trees, n_jobs, X, y)\n",
    "        for future in futures:\n",
    "            self.feat_ids_by_tree.extend(future.result()[0]) \n",
    "            self.trees.extend(future.result()[1])\n",
    "        return self\n",
    "            \n",
    "        \n",
    "    def parallel_predict_proba(self, seed_coords, X):\n",
    "        start, stop = seed_coords\n",
    "        probs = []\n",
    "        for i in range(start, stop):\n",
    "            proba = self.trees[i].predict_proba(X[:, self.feat_ids_by_tree[i]])\n",
    "            probs.append(proba)\n",
    "        return probs\n",
    "        \n",
    "    \n",
    "    def predict_proba(self, X, n_jobs=None):\n",
    "        futures = self.__do_parallel(self.parallel_predict_proba, n_jobs, X)\n",
    "        result = []\n",
    "        for future in futures:\n",
    "            result.extend(future.result())\n",
    "        return np.mean(result, axis=0)\n",
    "    \n",
    "    \n",
    "    def predict(self, X, n_jobs=None):\n",
    "        probas = self.predict_proba(X, n_jobs)\n",
    "        predictions = np.argmax(probas, axis=1)\n",
    "        return predictions\n",
    "    \n",
    "    \n",
    "X, y = make_classification(n_samples=100000)"
   ]
  },
  {
   "cell_type": "code",
   "execution_count": 27,
   "id": "5eecd633-1ae5-49fb-8cd0-4fd4ec1d6c24",
   "metadata": {
    "id": "5eecd633-1ae5-49fb-8cd0-4fd4ec1d6c24"
   },
   "outputs": [],
   "source": [
    "random_forest1 = RandomForestClassifierCustom(max_depth=30, n_estimators=10, max_features=2, random_state=42)"
   ]
  },
  {
   "cell_type": "code",
   "execution_count": 28,
   "id": "85861ddf-1fdd-4dce-8e91-67e2a20e294d",
   "metadata": {
    "id": "85861ddf-1fdd-4dce-8e91-67e2a20e294d",
    "outputId": "998bf531-569e-4d2b-ded8-e2b5c5935c18"
   },
   "outputs": [
    {
     "name": "stdout",
     "output_type": "stream",
     "text": [
      "CPU times: user 5.03 s, sys: 0 ns, total: 5.03 s\n",
      "Wall time: 5.04 s\n"
     ]
    }
   ],
   "source": [
    "%%time\n",
    "\n",
    "_ = random_forest1.fit(X, y, n_jobs=1)"
   ]
  },
  {
   "cell_type": "code",
   "execution_count": 29,
   "id": "04e62ac4-91d0-4cac-9de9-b4be0b582e7b",
   "metadata": {
    "id": "04e62ac4-91d0-4cac-9de9-b4be0b582e7b",
    "outputId": "3676d6a4-9445-4158-ea6f-31ac8e8e57b3"
   },
   "outputs": [
    {
     "name": "stdout",
     "output_type": "stream",
     "text": [
      "CPU times: user 135 ms, sys: 0 ns, total: 135 ms\n",
      "Wall time: 143 ms\n"
     ]
    }
   ],
   "source": [
    "%%time\n",
    "\n",
    "preds_1 = random_forest1.predict(X, n_jobs=1)"
   ]
  },
  {
   "cell_type": "code",
   "execution_count": 30,
   "id": "a8bbe738-da4a-4806-b816-654ad250edb3",
   "metadata": {},
   "outputs": [
    {
     "data": {
      "text/plain": [
       "[array([ 0, 17]),\n",
       " array([9, 6]),\n",
       " array([15, 14]),\n",
       " array([12, 16]),\n",
       " array([1, 3]),\n",
       " array([10, 14]),\n",
       " array([1, 9]),\n",
       " array([14, 19]),\n",
       " array([15,  8]),\n",
       " array([ 1, 12])]"
      ]
     },
     "execution_count": 30,
     "metadata": {},
     "output_type": "execute_result"
    }
   ],
   "source": [
    "random_forest1.feat_ids_by_tree"
   ]
  },
  {
   "cell_type": "code",
   "execution_count": 31,
   "id": "a4696384-b02b-4195-8ca7-60ae55aed197",
   "metadata": {
    "id": "a4696384-b02b-4195-8ca7-60ae55aed197"
   },
   "outputs": [],
   "source": [
    "random_forest2 = RandomForestClassifierCustom(max_depth=30, n_estimators=10, max_features=2, random_state=42)"
   ]
  },
  {
   "cell_type": "code",
   "execution_count": 32,
   "id": "9f14517f-7a80-4219-aff6-90097b59b085",
   "metadata": {
    "id": "9f14517f-7a80-4219-aff6-90097b59b085",
    "outputId": "e788857d-9fba-4cbf-c5cc-4247c8d0d28e"
   },
   "outputs": [
    {
     "name": "stdout",
     "output_type": "stream",
     "text": [
      "CPU times: user 5.09 s, sys: 0 ns, total: 5.09 s\n",
      "Wall time: 2.69 s\n"
     ]
    }
   ],
   "source": [
    "%%time\n",
    "\n",
    "_ = random_forest2.fit(X, y, n_jobs=2)"
   ]
  },
  {
   "cell_type": "code",
   "execution_count": 33,
   "id": "c7f01f97-4ad4-4bed-a977-c8bd3ae962fd",
   "metadata": {
    "id": "c7f01f97-4ad4-4bed-a977-c8bd3ae962fd",
    "outputId": "9926ecbe-2d3b-40d4-a36d-a11dfb244043"
   },
   "outputs": [
    {
     "name": "stdout",
     "output_type": "stream",
     "text": [
      "CPU times: user 136 ms, sys: 0 ns, total: 136 ms\n",
      "Wall time: 78.8 ms\n"
     ]
    }
   ],
   "source": [
    "%%time\n",
    "\n",
    "preds_2 = random_forest2.predict(X, n_jobs=2)"
   ]
  },
  {
   "cell_type": "code",
   "execution_count": 34,
   "id": "3b8a3929-fb49-46eb-8dd2-7a4782bf2740",
   "metadata": {},
   "outputs": [
    {
     "data": {
      "text/plain": [
       "[array([ 0, 17]),\n",
       " array([9, 6]),\n",
       " array([15, 14]),\n",
       " array([12, 16]),\n",
       " array([1, 3]),\n",
       " array([10, 14]),\n",
       " array([1, 9]),\n",
       " array([14, 19]),\n",
       " array([15,  8]),\n",
       " array([ 1, 12])]"
      ]
     },
     "execution_count": 34,
     "metadata": {},
     "output_type": "execute_result"
    }
   ],
   "source": [
    "random_forest2.feat_ids_by_tree"
   ]
  },
  {
   "cell_type": "code",
   "execution_count": 35,
   "id": "547ba1fd-9535-4267-93f8-3cc927f71e03",
   "metadata": {
    "id": "547ba1fd-9535-4267-93f8-3cc927f71e03",
    "outputId": "6f5c6549-ebb3-45d6-edbd-f99855543082"
   },
   "outputs": [
    {
     "data": {
      "text/plain": [
       "True"
      ]
     },
     "execution_count": 35,
     "metadata": {},
     "output_type": "execute_result"
    }
   ],
   "source": [
    "(preds_1 == preds_2).all()   # Количество worker'ов не должно влиять на предсказания"
   ]
  },
  {
   "cell_type": "markdown",
   "id": "0a2ea6af-f73d-436a-94d9-f7310ac9a4e6",
   "metadata": {
    "id": "0a2ea6af-f73d-436a-94d9-f7310ac9a4e6"
   },
   "source": [
    "#### Какие есть недостатки у вашей реализации параллельного Random Forest (если они есть)? Как это можно исправить? Опишите словами, можно без кода (+1 дополнительный балл)"
   ]
  },
  {
   "cell_type": "markdown",
   "id": "19f2f04d-2c35-4d7d-a8fe-7f88d538fb79",
   "metadata": {
    "id": "19f2f04d-2c35-4d7d-a8fe-7f88d538fb79"
   },
   "source": [
    "Често говоря, я путаюсь в типах методов, скорее всего, я неправильно применила `@staticmethod`, но пусть будет как есть, можно ругаться:) В целом, самый большой недостаток в том, что я возвращаю futures как результат распараллеливания функций, не знаю, можно ли так, конечно, можно доработать, но эти деревья выпили из меня жизнь. Я постаралась, чтобы зафиксировать одинаковый seed для каждого дерева вне зависимости от количества workers, а сами деревья сделать разными со своим фиксированным seed. В ячейках выше видно, что деревья создавались по одинаковому набору фичей вне зависимости от количества worker (вывела аттрибут `feat_ids_by_tree`)."
   ]
  },
  {
   "cell_type": "markdown",
   "id": "f020bb22-a29e-4e39-aba9-d41e79a80732",
   "metadata": {
    "id": "f020bb22-a29e-4e39-aba9-d41e79a80732"
   },
   "source": [
    "# Задание 2 (9 баллов)"
   ]
  },
  {
   "cell_type": "markdown",
   "id": "e3a8a0d2-f35b-4edb-9fb3-61da119255e9",
   "metadata": {
    "id": "e3a8a0d2-f35b-4edb-9fb3-61da119255e9"
   },
   "source": [
    "Напишите декоратор `memory_limit`, который позволит ограничивать использование памяти декорируемой функцией.\n",
    "\n",
    "Декоратор должен принимать следующие аргументы:\n",
    "1. `soft_limit` - \"мягкий\" лимит использования памяти. При превышении функцией этого лимита должен будет отображён **warning**\n",
    "2. `hard_limit` - \"жёсткий\" лимит использования памяти. При превышении функцией этого лимита должно будет брошено исключение, а функция должна немедленно завершить свою работу\n",
    "3. `poll_interval` - интервал времени (в секундах) между проверками использования памяти\n",
    "\n",
    "Требования:\n",
    "1. Потребление функцией памяти должно отслеживаться **во время выполнения функции**, а не после её завершения\n",
    "2. **warning** при превышении `soft_limit` должен отображаться один раз, даже если функция переходила через этот лимит несколько раз\n",
    "3. Если задать `soft_limit` или `hard_limit` как `None`, то соответствующий лимит должен быть отключён\n",
    "4. Лимиты должны передаваться и отображаться в формате `<number>X`, где `X` - символ, обозначающий порядок единицы измерения памяти (\"B\", \"K\", \"M\", \"G\", \"T\", ...)\n",
    "5. В тексте warning'ов и исключений должен быть указан текщий объём используемой памяти и величина превышенного лимита\n",
    "\n",
    "В задании можно использовать только модули из **стандартной библиотеки** питона, можно писать вспомогательные функции и/или классы\n",
    "\n",
    "В коде ниже для вас предопределены некоторые полезные функции, вы можете ими пользоваться, а можете не пользоваться"
   ]
  },
  {
   "cell_type": "code",
   "execution_count": 18,
   "id": "78299479-f7e3-409c-b144-d9a14bb1715a",
   "metadata": {
    "id": "78299479-f7e3-409c-b144-d9a14bb1715a"
   },
   "outputs": [],
   "source": [
    "import os\n",
    "import sys\n",
    "import psutil\n",
    "import time\n",
    "import warnings\n",
    "import threading\n",
    "\n",
    "\n",
    "def get_memory_usage():    # Показывает текущее потребление памяти процессом\n",
    "    process = psutil.Process(os.getpid())\n",
    "    mem_info = process.memory_info()\n",
    "    return mem_info.rss\n",
    "\n",
    "\n",
    "def human_readble_to_bytes(limit):\n",
    "    symbols = ('K', 'M', 'G', 'T', 'P', 'E', 'Z', 'Y')\n",
    "    prefix = {}\n",
    "    for idx, s in enumerate(symbols):\n",
    "        prefix[s] = 1 << (idx + 1) * 10\n",
    "    for s in symbols:\n",
    "        if limit[-1] == s:\n",
    "            value = int(float(limit[:-1])*prefix[s])\n",
    "            return value\n",
    "    return int(limit)\n",
    "\n",
    "\n",
    "def bytes_to_human_readable(n_bytes):\n",
    "    symbols = ('K', 'M', 'G', 'T', 'P', 'E', 'Z', 'Y')\n",
    "    prefix = {}\n",
    "    for idx, s in enumerate(symbols):\n",
    "        prefix[s] = 1 << (idx + 1) * 10\n",
    "    for s in reversed(symbols):\n",
    "        if n_bytes >= prefix[s]:\n",
    "            value = float(n_bytes) / prefix[s]\n",
    "            return f\"{value:.2f}{s}\"\n",
    "    return f\"{n_bytes}B\"\n",
    "\n",
    "\n",
    "def memory_limit(softcap=None, hardcap=None, poll_interval=1):\n",
    "    # Ваш код здесь\n",
    "    pass"
   ]
  },
  {
   "cell_type": "code",
   "execution_count": 36,
   "id": "4b69f34b-8181-4863-95d5-7867bd828c83",
   "metadata": {},
   "outputs": [
    {
     "name": "stderr",
     "output_type": "stream",
     "text": [
      "Warning! Soft limit 512M is broken, current memory usage - 524.98M!"
     ]
    },
    {
     "ename": "MemLimitException",
     "evalue": "Hard limit 1.5G is broken, current memory usage - 1.51G!",
     "output_type": "error",
     "traceback": [
      "\u001b[0;31m---------------------------------------------------------------------------\u001b[0m",
      "\u001b[0;31mKeyboardInterrupt\u001b[0m                         Traceback (most recent call last)",
      "\u001b[0;32m/tmp/ipykernel_532/2144673008.py\u001b[0m in \u001b[0;36minner_func\u001b[0;34m(*args, **kwargs)\u001b[0m\n\u001b[1;32m    105\u001b[0m             \u001b[0;32mtry\u001b[0m\u001b[0;34m:\u001b[0m\u001b[0;34m\u001b[0m\u001b[0;34m\u001b[0m\u001b[0m\n\u001b[0;32m--> 106\u001b[0;31m                 \u001b[0mresult\u001b[0m \u001b[0;34m=\u001b[0m \u001b[0mfunc\u001b[0m\u001b[0;34m(\u001b[0m\u001b[0;34m*\u001b[0m\u001b[0margs\u001b[0m\u001b[0;34m,\u001b[0m \u001b[0;34m**\u001b[0m\u001b[0mkwargs\u001b[0m\u001b[0;34m)\u001b[0m\u001b[0;34m\u001b[0m\u001b[0;34m\u001b[0m\u001b[0m\n\u001b[0m\u001b[1;32m    107\u001b[0m                 \u001b[0;32mif\u001b[0m \u001b[0mthread_started\u001b[0m\u001b[0;34m:\u001b[0m\u001b[0;34m\u001b[0m\u001b[0;34m\u001b[0m\u001b[0m\n",
      "\u001b[0;32m/tmp/ipykernel_532/2144673008.py\u001b[0m in \u001b[0;36mmemory_increment\u001b[0;34m()\u001b[0m\n\u001b[1;32m    126\u001b[0m         \u001b[0;32mif\u001b[0m \u001b[0mi\u001b[0m \u001b[0;34m%\u001b[0m \u001b[0;36m500000\u001b[0m \u001b[0;34m==\u001b[0m \u001b[0;36m0\u001b[0m\u001b[0;34m:\u001b[0m\u001b[0;34m\u001b[0m\u001b[0;34m\u001b[0m\u001b[0m\n\u001b[0;32m--> 127\u001b[0;31m             \u001b[0mtime\u001b[0m\u001b[0;34m.\u001b[0m\u001b[0msleep\u001b[0m\u001b[0;34m(\u001b[0m\u001b[0;36m0.1\u001b[0m\u001b[0;34m)\u001b[0m\u001b[0;34m\u001b[0m\u001b[0;34m\u001b[0m\u001b[0m\n\u001b[0m\u001b[1;32m    128\u001b[0m         \u001b[0mlst\u001b[0m\u001b[0;34m.\u001b[0m\u001b[0mappend\u001b[0m\u001b[0;34m(\u001b[0m\u001b[0mi\u001b[0m\u001b[0;34m)\u001b[0m\u001b[0;34m\u001b[0m\u001b[0;34m\u001b[0m\u001b[0m\n",
      "\u001b[0;31mKeyboardInterrupt\u001b[0m: ",
      "\nDuring handling of the above exception, another exception occurred:\n",
      "\u001b[0;31mMemLimitException\u001b[0m                         Traceback (most recent call last)",
      "\u001b[0;32m/tmp/ipykernel_532/2144673008.py\u001b[0m in \u001b[0;36m<module>\u001b[0;34m\u001b[0m\n\u001b[1;32m    129\u001b[0m     \u001b[0;32mreturn\u001b[0m \u001b[0mlst\u001b[0m\u001b[0;34m\u001b[0m\u001b[0;34m\u001b[0m\u001b[0m\n\u001b[1;32m    130\u001b[0m \u001b[0;34m\u001b[0m\u001b[0m\n\u001b[0;32m--> 131\u001b[0;31m \u001b[0mmemory_increment\u001b[0m\u001b[0;34m(\u001b[0m\u001b[0;34m)\u001b[0m\u001b[0;34m\u001b[0m\u001b[0;34m\u001b[0m\u001b[0m\n\u001b[0m",
      "\u001b[0;32m/tmp/ipykernel_532/2144673008.py\u001b[0m in \u001b[0;36minner_func\u001b[0;34m(*args, **kwargs)\u001b[0m\n\u001b[1;32m    108\u001b[0m                     \u001b[0mmem_check\u001b[0m\u001b[0;34m.\u001b[0m\u001b[0mevent\u001b[0m \u001b[0;34m=\u001b[0m \u001b[0;32mTrue\u001b[0m\u001b[0;34m\u001b[0m\u001b[0;34m\u001b[0m\u001b[0m\n\u001b[1;32m    109\u001b[0m             \u001b[0;32mexcept\u001b[0m \u001b[0mKeyboardInterrupt\u001b[0m \u001b[0;32mas\u001b[0m \u001b[0me\u001b[0m\u001b[0;34m:\u001b[0m \u001b[0;31m# error is not catched\u001b[0m\u001b[0;34m\u001b[0m\u001b[0;34m\u001b[0m\u001b[0m\n\u001b[0;32m--> 110\u001b[0;31m                 \u001b[0;32mraise\u001b[0m \u001b[0mMemLimitException\u001b[0m\u001b[0;34m(\u001b[0m\u001b[0mmem_check\u001b[0m\u001b[0;34m)\u001b[0m\u001b[0;34m\u001b[0m\u001b[0;34m\u001b[0m\u001b[0m\n\u001b[0m\u001b[1;32m    111\u001b[0m             \u001b[0;32mreturn\u001b[0m \u001b[0mresult\u001b[0m\u001b[0;34m\u001b[0m\u001b[0;34m\u001b[0m\u001b[0m\n\u001b[1;32m    112\u001b[0m         \u001b[0;32mreturn\u001b[0m \u001b[0minner_func\u001b[0m\u001b[0;34m\u001b[0m\u001b[0;34m\u001b[0m\u001b[0m\n",
      "\u001b[0;31mMemLimitException\u001b[0m: Hard limit 1.5G is broken, current memory usage - 1.51G!"
     ]
    }
   ],
   "source": [
    "import os\n",
    "import sys\n",
    "import psutil\n",
    "import time\n",
    "import warnings\n",
    "from threading import Thread\n",
    "import _thread\n",
    "\n",
    "class MemoryThread(Thread):\n",
    "    \n",
    "    symbols = ('K', 'M', 'G', 'T', 'P', 'E', 'Z', 'Y')\n",
    "    prefix = {}\n",
    "    for idx, s in enumerate(symbols):\n",
    "        prefix[s] = 1 << (idx + 1) * 10\n",
    "    \n",
    "    \n",
    "    def __init__(self, soft_limit, hard_limit, poll_interval):\n",
    "        super().__init__()\n",
    "        self.soft_limit = soft_limit\n",
    "        self.hard_limit = hard_limit\n",
    "        self.poll_interval = poll_interval\n",
    "        self.broken_soft = False\n",
    "        if soft_limit:\n",
    "            self._bytes_soft_limit = self.human_readble_to_bytes(self.soft_limit)\n",
    "        if hard_limit:\n",
    "            self._bytes_hard_limit = self.human_readble_to_bytes(self.hard_limit)\n",
    "                   \n",
    "        \n",
    "    def get_memory_usage(self):    # Показывает текущее потребление памяти процессом\n",
    "        process = psutil.Process(os.getpid())\n",
    "        mem_info = process.memory_info()\n",
    "        return mem_info.rss\n",
    "\n",
    "\n",
    "    def human_readble_to_bytes(self, limit):\n",
    "        for s in MemoryThread.symbols:\n",
    "            if limit[-1] == s:\n",
    "                value = int(float(limit[:-1]) * MemoryThread.prefix[s])\n",
    "                return value\n",
    "        return int(limit)\n",
    "\n",
    "\n",
    "    def bytes_to_human_readable(self, n_bytes):\n",
    "        for s in reversed(MemoryThread.symbols):\n",
    "            if n_bytes >= MemoryThread.prefix[s]:\n",
    "                value = float(n_bytes) / MemoryThread.prefix[s]\n",
    "                return f\"{value:.2f}{s}\"\n",
    "        return f\"{n_bytes}B\"\n",
    "\n",
    "        \n",
    "    def run(self):\n",
    "        while True:\n",
    "            memory_usage = self.get_memory_usage()\n",
    "            self.memory_usage = self.bytes_to_human_readable(memory_usage)\n",
    "            if (not self.broken_soft) and self.soft_limit:\n",
    "                self.check_soft(memory_usage)\n",
    "            if self.hard_limit:\n",
    "                self.check_hard(memory_usage)\n",
    "            if hasattr(self, 'event'):\n",
    "                return\n",
    "            time.sleep(self.poll_interval)\n",
    "        return\n",
    "            \n",
    "                      \n",
    "    def check_soft(self, memory_usage):\n",
    "        def custom_formatwarning(msg, *args, **kwargs):\n",
    "            # ignore everything except the message\n",
    "            return  f\"Warning! {str(msg)}\"\n",
    "        \n",
    "        if memory_usage >= self._bytes_soft_limit:\n",
    "            self.broken_soft = True\n",
    "            warnings.formatwarning = custom_formatwarning\n",
    "            warnings.warn(\n",
    "                f\"Soft limit {self.soft_limit} is broken, current memory usage - {self.memory_usage}!\", \n",
    "                UserWarning\n",
    "            )\n",
    "            \n",
    "            \n",
    "    def check_hard(self, memory_usage):\n",
    "        if memory_usage >= self._bytes_hard_limit:\n",
    "            _thread.interrupt_main() # I tried to catch KeybordInterrupt error here too\n",
    "            time.sleep(2)\n",
    "            # I used it here to restart kernel for cleaning memory\n",
    "            # for some reason, gc.collect() could not cope with this task \n",
    "            os._exit(0)\n",
    "            \n",
    "            \n",
    "class MemLimitException(BaseException):\n",
    "    def __init__(self, obj):\n",
    "        self.obj = obj\n",
    "    \n",
    "    \n",
    "    def __str__(self):\n",
    "        return f\"Hard limit {self.obj.hard_limit} is broken, current memory usage - {self.obj.memory_usage}!\"\n",
    "\n",
    "            \n",
    "def memory_limit(soft_limit=\"512M\", hard_limit=\"1.5G\", poll_interval=0.1):\n",
    "    def decor(func):\n",
    "        def inner_func(*args, **kwargs):\n",
    "            thread_started = False\n",
    "            if soft_limit or hard_limit:\n",
    "                thread_started = True\n",
    "                mem_check = MemoryThread(soft_limit, hard_limit, poll_interval)\n",
    "                mem_check.start()\n",
    "            try:\n",
    "                result = func(*args, **kwargs)\n",
    "                if thread_started:\n",
    "                    mem_check.event = True\n",
    "            except KeyboardInterrupt as e: # error is not catched\n",
    "                raise MemLimitException(mem_check)\n",
    "            return result\n",
    "        return inner_func\n",
    "    return decor\n",
    "\n",
    "\n",
    "@memory_limit(soft_limit=\"512M\", hard_limit=\"1.5G\", poll_interval=0.1)\n",
    "def memory_increment():\n",
    "    \"\"\"\n",
    "    Функция для тестирования\n",
    "    \n",
    "    В течение нескольких секунд достигает использования памяти 1.89G\n",
    "    Потребление памяти и скорость накопления можно варьировать, изменяя код\n",
    "    \"\"\"\n",
    "    lst = []\n",
    "    for i in range(50000000):\n",
    "        if i % 500000 == 0:\n",
    "            time.sleep(0.1)\n",
    "        lst.append(i)\n",
    "    return lst\n",
    "\n",
    "memory_increment()"
   ]
  },
  {
   "cell_type": "markdown",
   "id": "4bf0a185-3fd7-4d48-bfeb-cf6ce8b12893",
   "metadata": {
    "id": "4bf0a185-3fd7-4d48-bfeb-cf6ce8b12893"
   },
   "source": [
    "# Задание 3 (11 баллов)"
   ]
  },
  {
   "cell_type": "markdown",
   "id": "77eec6f5-3d52-43fc-b241-9114eb9c813c",
   "metadata": {
    "id": "77eec6f5-3d52-43fc-b241-9114eb9c813c"
   },
   "source": [
    "Напишите функцию `parallel_map`. Это должна быть **универсальная** функция для распараллеливания, которая эффективно работает в любых условиях.\n",
    "\n",
    "Функция должна принимать следующие аргументы:\n",
    "1. `target_func` - целевая функция (обязательный аргумент)\n",
    "2. `args_container` - контейнер с позиционными аргументами для `target_func` (по-умолчанию `None` - позиционные аргументы не передаются)\n",
    "3. `kwargs_container` - контейнер с именованными аргументами для `target_func` (по-умолчанию `None` - именованные аргументы не передаются)\n",
    "4. `n_jobs` - количество workers, которые будут использованы для выполнения (по-умолчанию `None` - количество логических ядер CPU в системе)\n",
    "\n",
    "Функция должна работать аналогично `***PoolExecutor.map`, применяя функцию к переданному набору аргументов, но с некоторыми дополнениями и улучшениями\n",
    "    \n",
    "Поскольку мы пишем **универсальную** функцию, то нам нужно будет выполнить ряд требований, чтобы она могла логично и эффективно работать в большинстве ситуаций\n",
    "\n",
    "1. `target_func` может принимать аргументы любого вида в любом количестве\n",
    "2. Любые типы данных в `args_container`, кроме `tuple`, передаются в `target_func` как единственный позиционный аргумент. `tuple` распаковываются в несколько аргументов\n",
    "3. Количество элементов в `args_container` должно совпадать с количеством элементов в `kwargs_container` и наоборот, также значение одного из них или обоих может быть равно `None`, в иных случаях должна кидаться ошибка (оба аргумента переданы, но размеры не совпадают)\n",
    "\n",
    "4. Функция должна выполнять определённое количество параллельных вызовов `target_func`, это количество зависит от числа переданных аргументов и значения `n_jobs`. Сценарии могут быть следующие\n",
    "    + `args_container=None`, `kwargs_container=None`, `n_jobs=None`. В таком случае функция `target_func` выполнится параллельно столько раз, сколько на вашем устройстве логических ядер CPU\n",
    "    + `args_container=None`, `kwargs_container=None`, `n_jobs=5`. В таком случае функция `target_func` выполнится параллельно **5** раз\n",
    "    + `args_container=[1, 2, 3]`, `kwargs_container=None`, `n_jobs=5`. В таком случае функция `target_func` выполнится параллельно **3** раза, несмотря на то, что `n_jobs=5` (так как есть всего 3 набора аргументов для которых нам нужно получить результат, а лишние worker'ы создавать не имеет смысла)\n",
    "    + `args_container=None`, `kwargs_container=[{\"s\": 1}, {\"s\": 2}, {\"s\": 3}]`, `n_jobs=5`. Данный случай аналогичен предыдущему, но здесь мы используем именованные аргументы\n",
    "    + `args_container=[1, 2, 3]`, `kwargs_container=[{\"s\": 1}, {\"s\": 2}, {\"s\": 3}]`, `n_jobs=5`. Данный случай аналогичен предыдущему, но здесь мы используем и позиционные, и именованные аргументы\n",
    "    + `args_container=[1, 2, 3, 4]`, `kwargs_container=None`, `n_jobs=2`. В таком случае в каждый момент времени параллельно будет выполняться **не более 2** функций `target_func`, так как нам нужно выполнить её 4 раза, но у нас есть только 2 worker'а.\n",
    "    + В подобных случаях (из примера выше) должно оптимизироваться время выполнения. Если эти 4 вызова выполняются за 5, 1, 2 и 1 секунды, то параллельное выполнение с `n_jobs=2` должно занять **5 секунд** (не 7 и тем более не 10)\n",
    "\n",
    "5. `parallel_map` возвращает результаты выполнения `target_func` **в том же порядке**, в котором были переданы соответствующие аргументы\n",
    "6. Работает с функциями, созданными внутри других функций\n",
    "\n",
    "Для базового решения от вас не ожидается **сверххорошая** оптимизация по времени и памяти для всех возможных случаев. Однако за хорошо оптимизированную логику работы можно получить до **+3 дополнительных баллов**\n",
    "\n",
    "Вы можете сделать класс вместо функции, если вам удобнее\n",
    "\n",
    "В задании можно использовать только модули из **стандартной библиотеки** питона\n",
    "\n",
    "Ниже приведены тестовые примеры по каждому из требований"
   ]
  },
  {
   "cell_type": "code",
   "execution_count": 72,
   "id": "a917005b-bc1e-4229-9eef-d33bfe7050c2",
   "metadata": {
    "id": "a917005b-bc1e-4229-9eef-d33bfe7050c2"
   },
   "outputs": [],
   "source": [
    "import multiprocessing\n",
    "\n",
    "\n",
    "# def parallel_map(target_func,\n",
    "#                  args_container=None,\n",
    "#                  kwargs_container=None,\n",
    "#                  n_jobs=None):\n",
    "    # Ваш код здесь\n",
    "    \n",
    "class ParallelMap:\n",
    "    def __init__(self, target_func, args_container=None,\n",
    "                 kwargs_container=None, n_jobs=None):\n",
    "        self.target_func = target_func\n",
    "        self.args_container = args_container\n",
    "        self.kwargs_container = kwargs_container\n",
    "        self.n_jobs = n_jobs\n",
    "        self.__return_dict = None\n",
    "        \n",
    "    \n",
    "    def set_manager(self):\n",
    "        manager = multiprocessing.Manager()\n",
    "        return_dict = manager.dict()\n",
    "        return self.__return_dict\n",
    "    \n",
    "    \n",
    "    def __check_jobs(self):\n",
    "        n_args = len(self.args_container)\n",
    "        if self.n_jobs:\n",
    "            return min(n_jobs, n_args)\n",
    "        elif not n_jobs:\n",
    "            return multiprocessing.cpu_count()\n",
    "        \n",
    "        \n",
    "    def __check_len_match(self):\n",
    "        if self.args_container and self.kwargs_container:\n",
    "            if len(self.args_container) != len(self.kwargs_container):\n",
    "                raise(TypeError,'Unmatched length of args and kwargs!')\n",
    "            self.target_func(*self.args_container, **self.kwargs_container)\n",
    "        elif self.args_container:\n",
    "            self.target_func(*self.args_container)\n",
    "        elif self.kwargs_container:\n",
    "            self.target_func(**self.kwargs_container)\n",
    "        else:\n",
    "            self.target_func()\n",
    "            \n",
    "            \n",
    "    def a(func, i, manager_dict):\n",
    "        def b(*args, **kwargs):\n",
    "            print('111111111')\n",
    "            result = func(*args, **kwargs)\n",
    "            print(result)\n",
    "            manager_dict[i] = result\n",
    "            print(manager_dict)\n",
    "            print('222222222')\n",
    "        return b"
   ]
  },
  {
   "cell_type": "code",
   "execution_count": 45,
   "id": "a3642bbf-a897-4de9-b9ec-c60d321f47dd",
   "metadata": {},
   "outputs": [
    {
     "name": "stdout",
     "output_type": "stream",
     "text": [
      "0 represent!\n",
      "1 represent!\n",
      "2 represent!\n",
      "3 represent!\n",
      "4 represent!\n",
      "[0, 1, 2, 3, 4]\n"
     ]
    }
   ],
   "source": [
    "def worker(procnum, return_dict):\n",
    "    \"\"\"worker function\"\"\"\n",
    "    print(str(procnum) + \" represent!\")\n",
    "    return_dict[procnum] = procnum\n",
    "\n",
    "\n",
    "manager = multiprocessing.Manager()\n",
    "return_dict = manager.dict()\n",
    "jobs = []\n",
    "for i in range(5):\n",
    "    p = multiprocessing.Process(target=worker, args=(i, return_dict))\n",
    "    jobs.append(p)\n",
    "    p.start()\n",
    "\n",
    "for proc in jobs:\n",
    "    proc.join()\n",
    "print(return_dict.values())"
   ]
  },
  {
   "cell_type": "code",
   "execution_count": 56,
   "id": "80e319ce-5e1a-4b28-b516-4d19a8282a20",
   "metadata": {},
   "outputs": [
    {
     "name": "stdout",
     "output_type": "stream",
     "text": [
      "111111111\n",
      "7\n",
      "{0: 7}\n",
      "222222222\n"
     ]
    },
    {
     "data": {
      "text/plain": [
       "[7]"
      ]
     },
     "execution_count": 56,
     "metadata": {},
     "output_type": "execute_result"
    }
   ],
   "source": [
    "manager = multiprocessing.Manager()\n",
    "manager_dict = manager.dict()\n",
    "def a(func, i, manager_dict):\n",
    "    def b(*args, **kwargs):\n",
    "        print('111111111')\n",
    "        result = func(*args, **kwargs)\n",
    "        print(result)\n",
    "        manager_dict[i] = result\n",
    "        print(manager_dict)\n",
    "        print('222222222')\n",
    "    return b\n",
    "\n",
    "args_container=2\n",
    "decord_func = a(test_func, 0, manager_dict)\n",
    "\n",
    "decord_func(args_container)\n",
    "manager_dict.values()"
   ]
  },
  {
   "cell_type": "code",
   "execution_count": 101,
   "id": "c298410f-cac3-49b0-bde0-230ee4abd9b9",
   "metadata": {},
   "outputs": [
    {
     "name": "stdout",
     "output_type": "stream",
     "text": [
      "<function test_func3.<locals>.inner_test_func at 0x7fe4c55bdb80>\n",
      "oooooooo\n"
     ]
    },
    {
     "ename": "NameError",
     "evalue": "name 'b' is not defined",
     "output_type": "error",
     "traceback": [
      "\u001b[0;31m---------------------------------------------------------------------------\u001b[0m",
      "\u001b[0;31mNameError\u001b[0m                                 Traceback (most recent call last)",
      "\u001b[0;32m/tmp/ipykernel_1962/2195300812.py\u001b[0m in \u001b[0;36m<module>\u001b[0;34m\u001b[0m\n\u001b[1;32m      6\u001b[0m         \u001b[0;32mreturn\u001b[0m \u001b[0;36m1\u001b[0m\u001b[0;34m\u001b[0m\u001b[0;34m\u001b[0m\u001b[0m\n\u001b[1;32m      7\u001b[0m     \u001b[0;32mreturn\u001b[0m \u001b[0mmain\u001b[0m\u001b[0;34m(\u001b[0m\u001b[0minner_test_func\u001b[0m\u001b[0;34m,\u001b[0m \u001b[0;36m3\u001b[0m\u001b[0;34m)\u001b[0m\u001b[0;34m\u001b[0m\u001b[0;34m\u001b[0m\u001b[0m\n\u001b[0;32m----> 8\u001b[0;31m \u001b[0mtest_func3\u001b[0m\u001b[0;34m(\u001b[0m\u001b[0;34m)\u001b[0m\u001b[0;34m\u001b[0m\u001b[0;34m\u001b[0m\u001b[0m\n\u001b[0m",
      "\u001b[0;32m/tmp/ipykernel_1962/2195300812.py\u001b[0m in \u001b[0;36mtest_func3\u001b[0;34m()\u001b[0m\n\u001b[1;32m      5\u001b[0m         \u001b[0mtime\u001b[0m\u001b[0;34m.\u001b[0m\u001b[0msleep\u001b[0m\u001b[0;34m(\u001b[0m\u001b[0msleep_time\u001b[0m\u001b[0;34m)\u001b[0m\u001b[0;34m\u001b[0m\u001b[0;34m\u001b[0m\u001b[0m\n\u001b[1;32m      6\u001b[0m         \u001b[0;32mreturn\u001b[0m \u001b[0;36m1\u001b[0m\u001b[0;34m\u001b[0m\u001b[0;34m\u001b[0m\u001b[0m\n\u001b[0;32m----> 7\u001b[0;31m     \u001b[0;32mreturn\u001b[0m \u001b[0mmain\u001b[0m\u001b[0;34m(\u001b[0m\u001b[0minner_test_func\u001b[0m\u001b[0;34m,\u001b[0m \u001b[0;36m3\u001b[0m\u001b[0;34m)\u001b[0m\u001b[0;34m\u001b[0m\u001b[0;34m\u001b[0m\u001b[0m\n\u001b[0m\u001b[1;32m      8\u001b[0m \u001b[0mtest_func3\u001b[0m\u001b[0;34m(\u001b[0m\u001b[0;34m)\u001b[0m\u001b[0;34m\u001b[0m\u001b[0;34m\u001b[0m\u001b[0m\n",
      "\u001b[0;32m/tmp/ipykernel_1962/4185002138.py\u001b[0m in \u001b[0;36mmain\u001b[0;34m(func, arg)\u001b[0m\n\u001b[1;32m     27\u001b[0m         \u001b[0mprint\u001b[0m\u001b[0;34m(\u001b[0m\u001b[0;34m'oooooooo'\u001b[0m\u001b[0;34m)\u001b[0m\u001b[0;34m\u001b[0m\u001b[0;34m\u001b[0m\u001b[0m\n\u001b[1;32m     28\u001b[0m         \u001b[0;32mfor\u001b[0m \u001b[0mi\u001b[0m \u001b[0;32min\u001b[0m \u001b[0mrange\u001b[0m\u001b[0;34m(\u001b[0m\u001b[0;36m5\u001b[0m\u001b[0;34m)\u001b[0m\u001b[0;34m:\u001b[0m\u001b[0;34m\u001b[0m\u001b[0;34m\u001b[0m\u001b[0m\n\u001b[0;32m---> 29\u001b[0;31m             \u001b[0mfuture\u001b[0m \u001b[0;34m=\u001b[0m \u001b[0mexecutor\u001b[0m\u001b[0;34m.\u001b[0m\u001b[0msubmit\u001b[0m\u001b[0;34m(\u001b[0m\u001b[0mb\u001b[0m\u001b[0;34m,\u001b[0m \u001b[0marg\u001b[0m\u001b[0;34m)\u001b[0m\u001b[0;34m\u001b[0m\u001b[0;34m\u001b[0m\u001b[0m\n\u001b[0m\u001b[1;32m     30\u001b[0m             \u001b[0mprint\u001b[0m\u001b[0;34m(\u001b[0m\u001b[0;34m'fffffffff'\u001b[0m\u001b[0;34m)\u001b[0m\u001b[0;34m\u001b[0m\u001b[0;34m\u001b[0m\u001b[0m\n\u001b[1;32m     31\u001b[0m     \u001b[0mprint\u001b[0m\u001b[0;34m(\u001b[0m\u001b[0mfuture\u001b[0m\u001b[0;34m.\u001b[0m\u001b[0mresult\u001b[0m\u001b[0;34m(\u001b[0m\u001b[0;34m)\u001b[0m\u001b[0;34m)\u001b[0m\u001b[0;34m\u001b[0m\u001b[0;34m\u001b[0m\u001b[0m\n",
      "\u001b[0;31mNameError\u001b[0m: name 'b' is not defined"
     ]
    }
   ],
   "source": [
    "# Пример 6\n",
    "# Работает с функциями, созданными внутри других функций\n",
    "def test_func3():\n",
    "    def inner_test_func(sleep_time):\n",
    "        time.sleep(sleep_time)\n",
    "        return 1\n",
    "    return main(inner_test_func, 3)\n",
    "test_func3()"
   ]
  },
  {
   "cell_type": "code",
   "execution_count": 3,
   "id": "f9e889bf-3137-4a3b-befc-f49827839eb0",
   "metadata": {},
   "outputs": [
    {
     "data": {
      "text/plain": [
       "(array([2, 2]), [(0, 2), (2, 4)])"
      ]
     },
     "execution_count": 3,
     "metadata": {},
     "output_type": "execute_result"
    }
   ],
   "source": [
    "import numpy as np\n",
    "\n",
    "\n",
    "n_jobs, n_args = 2, 4\n",
    "n_funcs_per_job = np.full(n_jobs, n_args // n_jobs, dtype=int)\n",
    "n_funcs_per_job[: n_args % n_jobs] += 1\n",
    "\n",
    "# some calculations for building the same trees regardless n_jobs\n",
    "lst_cumsum = np.insert(np.cumsum(n_funcs_per_job), 0, 0, axis=0)\n",
    "# list for start and stop for calculating seeds\n",
    "args_coords = []\n",
    "for i in range(1, len(lst_cumsum)):\n",
    "    args_coords.append((lst_cumsum[i-1], lst_cumsum[i]))\n",
    "    \n",
    "n_funcs_per_job, args_coords"
   ]
  },
  {
   "cell_type": "code",
   "execution_count": 47,
   "id": "0f41b1c8-0d26-483e-8114-1e7638006e34",
   "metadata": {
    "id": "0f41b1c8-0d26-483e-8114-1e7638006e34"
   },
   "outputs": [],
   "source": [
    "import time\n",
    "\n",
    "\n",
    "# Это только один пример тестовой функции, ваша parallel_map должна уметь эффективно работать с ЛЮБЫМИ функциями\n",
    "# Поэтому обязательно протестируйте код на чём-нибудбь ещё\n",
    "def test_func(x=1, s=2, a=1, b=1, c=1):\n",
    "    time.sleep(s)\n",
    "    return a*x**2 + b*x + c"
   ]
  },
  {
   "cell_type": "code",
   "execution_count": null,
   "id": "54d48c99-6e8a-4990-8944-e5da424efdbd",
   "metadata": {
    "id": "54d48c99-6e8a-4990-8944-e5da424efdbd",
    "outputId": "368b6866-0ced-410a-810c-ad0c90f8a489"
   },
   "outputs": [
    {
     "name": "stdout",
     "output_type": "stream",
     "text": [
      "CPU times: user 395 µs, sys: 8.26 ms, total: 8.65 ms\n",
      "Wall time: 2.01 s\n"
     ]
    },
    {
     "data": {
      "text/plain": [
       "[3, 7.0, (-8-3j), 21]"
      ]
     },
     "execution_count": 157,
     "metadata": {},
     "output_type": "execute_result"
    }
   ],
   "source": [
    "%%time\n",
    "\n",
    "# Пример 2.1\n",
    "# Отдельные значения в args_container передаются в качестве позиционных аргументов\n",
    "parallel_map(test_func, args_container=[1, 2.0, 3j-1, 4])   # Здесь происходят параллельные вызовы: test_func(1) test_func(2.0) test_func(3j-1) test_func(4)"
   ]
  },
  {
   "cell_type": "code",
   "execution_count": null,
   "id": "dd0da716-5bbf-4925-b87a-7efe82c51cf9",
   "metadata": {
    "id": "dd0da716-5bbf-4925-b87a-7efe82c51cf9",
    "outputId": "629317ad-bead-4fa4-d1a2-c62c57b85c8d"
   },
   "outputs": [
    {
     "name": "stdout",
     "output_type": "stream",
     "text": [
      "CPU times: user 7.18 ms, sys: 7.73 ms, total: 14.9 ms\n",
      "Wall time: 3.01 s\n"
     ]
    },
    {
     "data": {
      "text/plain": [
       "[3, 7.0, (-8-3j), 21]"
      ]
     },
     "execution_count": 158,
     "metadata": {},
     "output_type": "execute_result"
    }
   ],
   "source": [
    "%%time\n",
    "\n",
    "# Пример 2.2\n",
    "# Элементы типа tuple в args_container распаковываются в качестве позиционных аргументов\n",
    "parallel_map(test_func, [(1, 1), (2.0, 2), (3j-1, 3), 4])    # Здесь происходят параллельные вызовы: test_func(1, 1) test_func(2.0, 2) test_func(3j-1, 3) test_func(4)"
   ]
  },
  {
   "cell_type": "code",
   "execution_count": null,
   "id": "e2a0e6fd-1d92-4f06-9e4b-51290501c2da",
   "metadata": {
    "id": "e2a0e6fd-1d92-4f06-9e4b-51290501c2da",
    "outputId": "a7e942fc-c876-4f32-da30-36f08683f6b6"
   },
   "outputs": [
    {
     "name": "stdout",
     "output_type": "stream",
     "text": [
      "CPU times: user 5.89 ms, sys: 8.84 ms, total: 14.7 ms\n",
      "Wall time: 3.02 s\n"
     ]
    },
    {
     "data": {
      "text/plain": [
       "[3, 7, 13, 21]"
      ]
     },
     "execution_count": 159,
     "metadata": {},
     "output_type": "execute_result"
    }
   ],
   "source": [
    "%%time\n",
    "\n",
    "# Пример 3.1\n",
    "# Возможна одновременная передача args_container и kwargs_container, но количества элементов в них должны быть равны\n",
    "parallel_map(test_func,\n",
    "             args_container=[1, 2, 3, 4],\n",
    "             kwargs_container=[{\"s\": 3}, {\"s\": 3}, {\"s\": 3}, {\"s\": 3}])\n",
    "\n",
    "# Здесь происходят параллельные вызовы: test_func(1, s=3) test_func(2, s=3) test_func(3, s=3) test_func(4, s=3)"
   ]
  },
  {
   "cell_type": "code",
   "execution_count": null,
   "id": "34cda7e6-b24a-4564-958f-c4cf20b7ed7c",
   "metadata": {
    "id": "34cda7e6-b24a-4564-958f-c4cf20b7ed7c",
    "outputId": "4a48b6b2-7a88-4f06-8af0-a544a393e4d9"
   },
   "outputs": [
    {
     "name": "stdout",
     "output_type": "stream",
     "text": [
      "CPU times: user 6.54 ms, sys: 6.06 ms, total: 12.6 ms\n",
      "Wall time: 3.02 s\n"
     ]
    },
    {
     "data": {
      "text/plain": [
       "[3, 3, 3, 3]"
      ]
     },
     "execution_count": 42,
     "metadata": {},
     "output_type": "execute_result"
    }
   ],
   "source": [
    "%%time\n",
    "\n",
    "# Пример 3.2\n",
    "# args_container может быть None, а kwargs_container задан явно\n",
    "parallel_map(test_func,\n",
    "             kwargs_container=[{\"s\": 3}, {\"s\": 3}, {\"s\": 3}, {\"s\": 3}])"
   ]
  },
  {
   "cell_type": "code",
   "execution_count": null,
   "id": "e75853e1-1ed8-43c5-b045-e30dd34a9f34",
   "metadata": {
    "id": "e75853e1-1ed8-43c5-b045-e30dd34a9f34",
    "outputId": "713f82ad-0f98-4920-ad30-387358960296"
   },
   "outputs": [
    {
     "name": "stdout",
     "output_type": "stream",
     "text": [
      "CPU times: user 4.11 ms, sys: 9.2 ms, total: 13.3 ms\n",
      "Wall time: 2.01 s\n"
     ]
    },
    {
     "data": {
      "text/plain": [
       "[3, 7, 13, 21]"
      ]
     },
     "execution_count": 43,
     "metadata": {},
     "output_type": "execute_result"
    }
   ],
   "source": [
    "%%time\n",
    "\n",
    "# Пример 3.3\n",
    "# kwargs_container может быть None, а args_container задан явно\n",
    "parallel_map(test_func,\n",
    "             args_container=[1, 2, 3, 4])"
   ]
  },
  {
   "cell_type": "code",
   "execution_count": null,
   "id": "55bd628f-0456-4b3f-8cea-ccbfc0e0dd72",
   "metadata": {
    "id": "55bd628f-0456-4b3f-8cea-ccbfc0e0dd72",
    "outputId": "7f6c3ec4-a532-4e64-eafb-d70d63a90aaf"
   },
   "outputs": [
    {
     "name": "stdout",
     "output_type": "stream",
     "text": [
      "CPU times: user 500 µs, sys: 43.3 ms, total: 43.8 ms\n",
      "Wall time: 2.04 s\n"
     ]
    },
    {
     "data": {
      "text/plain": [
       "[3, 3, 3, 3, 3, 3, 3, 3, 3, 3, 3, 3, 3, 3, 3, 3, 3, 3, 3, 3, 3, 3, 3, 3]"
      ]
     },
     "execution_count": 44,
     "metadata": {},
     "output_type": "execute_result"
    }
   ],
   "source": [
    "%%time\n",
    "\n",
    "# Пример 3.4\n",
    "# И kwargs_container, и args_container могут быть не заданы\n",
    "parallel_map(test_func)"
   ]
  },
  {
   "cell_type": "code",
   "execution_count": null,
   "id": "2aa43efd-6628-46e3-970a-018be26fef3f",
   "metadata": {
    "id": "2aa43efd-6628-46e3-970a-018be26fef3f",
    "outputId": "eff31ede-b968-4c90-e6c9-24765957400c"
   },
   "outputs": [
    {
     "name": "stdout",
     "output_type": "stream",
     "text": [
      "CPU times: user 500 µs, sys: 43.3 ms, total: 43.8 ms\n",
      "Wall time: 2.04 s\n"
     ]
    },
    {
     "data": {
      "text/plain": [
       "[3, 3, 3, 3, 3, 3, 3, 3, 3, 3, 3, 3, 3, 3, 3, 3, 3, 3, 3, 3, 3, 3, 3, 3]"
      ]
     },
     "execution_count": 44,
     "metadata": {},
     "output_type": "execute_result"
    }
   ],
   "source": [
    "%%time\n",
    "\n",
    "# Пример 3.4\n",
    "# И kwargs_container, и args_container могут быть не заданы\n",
    "parallel_map(test_func)"
   ]
  },
  {
   "cell_type": "code",
   "execution_count": null,
   "id": "bcdf8016-8363-4876-b05d-d1b536261f01",
   "metadata": {
    "id": "bcdf8016-8363-4876-b05d-d1b536261f01",
    "outputId": "f1fcb05f-1ccc-40fb-a4b4-941ee0a0358f"
   },
   "outputs": [
    {
     "ename": "ValueError",
     "evalue": "Numbers of positional arguments and keyword arguments do not match: 4 and 3",
     "output_type": "error",
     "traceback": [
      "\u001b[0;31m---------------------------------------------------------------------------\u001b[0m",
      "\u001b[0;31mValueError\u001b[0m                                Traceback (most recent call last)",
      "File \u001b[0;32m<timed exec>:8\u001b[0m, in \u001b[0;36m<module>\u001b[0;34m\u001b[0m\n",
      "\u001b[0;31mValueError\u001b[0m: Numbers of positional arguments and keyword arguments do not match: 4 and 3"
     ]
    }
   ],
   "source": [
    "%%time\n",
    "\n",
    "# Пример 3.5\n",
    "# При несовпадении количеств позиционных и именованных аргументов кидается ошибка\n",
    "parallel_map(test_func,\n",
    "             args_container=[1, 2, 3, 4],\n",
    "             kwargs_container=[{\"s\": 3}, {\"s\": 3}, {\"s\": 3}])"
   ]
  },
  {
   "cell_type": "code",
   "execution_count": null,
   "id": "115e5fea-0692-424e-acb5-e2d97391bad5",
   "metadata": {
    "id": "115e5fea-0692-424e-acb5-e2d97391bad5",
    "outputId": "74b08add-4214-4352-b055-093b0f414d2c"
   },
   "outputs": [
    {
     "name": "stdout",
     "output_type": "stream",
     "text": [
      "CPU times: user 9.3 ms, sys: 51.2 ms, total: 60.5 ms\n",
      "Wall time: 2.06 s\n"
     ]
    },
    {
     "data": {
      "text/plain": [
       "[3, 3, 3, 3, 3, 3, 3, 3, 3, 3, 3, 3, 3, 3, 3, 3, 3, 3, 3, 3, 3, 3, 3, 3]"
      ]
     },
     "execution_count": 45,
     "metadata": {},
     "output_type": "execute_result"
    }
   ],
   "source": [
    "%%time\n",
    "\n",
    "# Пример 4.1\n",
    "# Если функция не имеет обязательных аргументов и аргумент n_jobs не был передан, то она выполняется параллельно столько раз, сколько ваш CPU имеет логических ядер\n",
    "# В моём случае это 24, у вас может быть больше или меньше\n",
    "parallel_map(test_func)"
   ]
  },
  {
   "cell_type": "code",
   "execution_count": null,
   "id": "212fcdbe-a9f3-4eba-8d3f-7da0b853bffd",
   "metadata": {
    "id": "212fcdbe-a9f3-4eba-8d3f-7da0b853bffd",
    "outputId": "4ca83c09-6478-4165-ae5c-8d157448f419"
   },
   "outputs": [
    {
     "name": "stdout",
     "output_type": "stream",
     "text": [
      "CPU times: user 2.06 ms, sys: 5.92 ms, total: 7.99 ms\n",
      "Wall time: 2.01 s\n"
     ]
    },
    {
     "data": {
      "text/plain": [
       "[3, 3]"
      ]
     },
     "execution_count": 47,
     "metadata": {},
     "output_type": "execute_result"
    }
   ],
   "source": [
    "%%time\n",
    "\n",
    "# Пример 4.2\n",
    "# Если функция не имеет обязательных аргументов и передан только аргумент n_jobs, то она выполняется параллельно n_jobs раз\n",
    "parallel_map(test_func, n_jobs=2)"
   ]
  },
  {
   "cell_type": "code",
   "execution_count": null,
   "id": "202675af-11b9-485c-baa4-cc1ef8eb919d",
   "metadata": {
    "id": "202675af-11b9-485c-baa4-cc1ef8eb919d",
    "outputId": "42b86d12-30ba-4eeb-f138-1c762a78e76c"
   },
   "outputs": [
    {
     "name": "stdout",
     "output_type": "stream",
     "text": [
      "CPU times: user 314 µs, sys: 8.69 ms, total: 9 ms\n",
      "Wall time: 2.01 s\n"
     ]
    },
    {
     "data": {
      "text/plain": [
       "[3, 7, 13]"
      ]
     },
     "execution_count": 48,
     "metadata": {},
     "output_type": "execute_result"
    }
   ],
   "source": [
    "%%time\n",
    "\n",
    "# Пример 4.3\n",
    "# Если аргументов для target_func указано МЕНЬШЕ, чем n_jobs, то используется такое же количество worker'ов, сколько было передано аргументов\n",
    "parallel_map(test_func,\n",
    "             args_container=[1, 2, 3],\n",
    "             n_jobs=5)   # Здесь используется 3 worker'a"
   ]
  },
  {
   "cell_type": "code",
   "execution_count": null,
   "id": "a0952cde-c347-438a-ad0b-15e1218e5b6f",
   "metadata": {
    "id": "a0952cde-c347-438a-ad0b-15e1218e5b6f",
    "outputId": "4d2a8d18-b440-4a39-abc3-08cafa133e34"
   },
   "outputs": [
    {
     "name": "stdout",
     "output_type": "stream",
     "text": [
      "CPU times: user 1.26 ms, sys: 9.47 ms, total: 10.7 ms\n",
      "Wall time: 3.01 s\n"
     ]
    },
    {
     "data": {
      "text/plain": [
       "[3, 3, 3]"
      ]
     },
     "execution_count": 49,
     "metadata": {},
     "output_type": "execute_result"
    }
   ],
   "source": [
    "%%time\n",
    "\n",
    "# Пример 4.4\n",
    "# Аналогичный предыдущему случай, но с именованными аргументами\n",
    "parallel_map(test_func,\n",
    "             kwargs_container=[{\"s\": 3}, {\"s\": 3}, {\"s\": 3}],\n",
    "             n_jobs=5)   # Здесь используется 3 worker'a"
   ]
  },
  {
   "cell_type": "code",
   "execution_count": null,
   "id": "b2c7d286-6036-44b4-9686-d941297e9598",
   "metadata": {
    "id": "b2c7d286-6036-44b4-9686-d941297e9598",
    "outputId": "f48ba7ff-d588-4a2c-ae4b-136ec1127871"
   },
   "outputs": [
    {
     "name": "stdout",
     "output_type": "stream",
     "text": [
      "CPU times: user 7.88 ms, sys: 0 ns, total: 7.88 ms\n",
      "Wall time: 3.01 s\n"
     ]
    },
    {
     "data": {
      "text/plain": [
       "[3, 7, 13]"
      ]
     },
     "execution_count": 50,
     "metadata": {},
     "output_type": "execute_result"
    }
   ],
   "source": [
    "%%time\n",
    "\n",
    "# Пример 4.5\n",
    "# Комбинация примеров 4.3 и 4.4 (переданы и позиционные и именованные аргументы)\n",
    "parallel_map(test_func,\n",
    "             args_container=[1, 2, 3],\n",
    "             kwargs_container=[{\"s\": 3}, {\"s\": 3}, {\"s\": 3}],\n",
    "             n_jobs=5)   # Здесь используется 3 worker'a"
   ]
  },
  {
   "cell_type": "code",
   "execution_count": null,
   "id": "8b4649e2-a75b-4ede-8a46-32a0139fe998",
   "metadata": {
    "id": "8b4649e2-a75b-4ede-8a46-32a0139fe998",
    "outputId": "e8358f8a-3133-4c5d-d9cc-c0e5d641417b"
   },
   "outputs": [
    {
     "name": "stdout",
     "output_type": "stream",
     "text": [
      "CPU times: user 7.88 ms, sys: 0 ns, total: 7.88 ms\n",
      "Wall time: 3.01 s\n"
     ]
    },
    {
     "data": {
      "text/plain": [
       "[3, 7, 13]"
      ]
     },
     "execution_count": 50,
     "metadata": {},
     "output_type": "execute_result"
    }
   ],
   "source": [
    "%%time\n",
    "\n",
    "# Пример 4.6\n",
    "# Если аргументов для target_func указано БОЛЬШЕ, чем n_jobs, то используется n_jobs worker'ов\n",
    "parallel_map(test_func,\n",
    "             args_container=[1, 2, 3, 4],\n",
    "             kwargs_container=None,\n",
    "             n_jobs=2)   # Здесь используется 2 worker'a"
   ]
  },
  {
   "cell_type": "code",
   "execution_count": null,
   "id": "627aa784-15b5-41ca-b232-73c88c5ebed9",
   "metadata": {
    "id": "627aa784-15b5-41ca-b232-73c88c5ebed9",
    "outputId": "ec89318d-6f3d-4f59-bc73-377cc62583a4"
   },
   "outputs": [
    {
     "name": "stdout",
     "output_type": "stream",
     "text": [
      "CPU times: user 3.03 ms, sys: 11 ms, total: 14 ms\n",
      "Wall time: 5.01 s\n"
     ]
    },
    {
     "data": {
      "text/plain": [
       "[3, 3, 3, 3]"
      ]
     },
     "execution_count": 51,
     "metadata": {},
     "output_type": "execute_result"
    }
   ],
   "source": [
    "%%time\n",
    "\n",
    "# Пример 4.7\n",
    "# Время выполнения оптимизируется, данный код должен отрабатывать за 5 секунд\n",
    "parallel_map(test_func,\n",
    "             kwargs_container=[{\"s\": 5}, {\"s\": 1}, {\"s\": 2}, {\"s\": 1}],\n",
    "             n_jobs=2)"
   ]
  },
  {
   "cell_type": "code",
   "execution_count": null,
   "id": "55bbfb49-4891-48c8-9cd7-782567b2a8fa",
   "metadata": {
    "id": "55bbfb49-4891-48c8-9cd7-782567b2a8fa",
    "outputId": "c0caab78-9287-462d-86e2-de7f5246a20a"
   },
   "outputs": [
    {
     "data": {
      "text/plain": [
       "['first', 'second', 'third', 'fourth', 'fifth']"
      ]
     },
     "execution_count": 57,
     "metadata": {},
     "output_type": "execute_result"
    }
   ],
   "source": [
    "def test_func2(string, sleep_time=1):\n",
    "    time.sleep(sleep_time)\n",
    "    return string\n",
    "\n",
    "# Пример 5\n",
    "# Результаты возвращаются в том же порядке, в котором были переданы соответствующие аргументы вне зависимости от того, когда завершился worker\n",
    "arguments = [\"first\", \"second\", \"third\", \"fourth\", \"fifth\"]\n",
    "parallel_map(test_func2,\n",
    "             args_container=arguments,\n",
    "             kwargs_container=[{\"sleep_time\": 5}, {\"sleep_time\": 4}, {\"sleep_time\": 3}, {\"sleep_time\": 2}, {\"sleep_time\": 1}])"
   ]
  },
  {
   "cell_type": "code",
   "execution_count": null,
   "id": "a5c2bcab-baa8-4f95-aceb-8cd6635844d6",
   "metadata": {
    "id": "a5c2bcab-baa8-4f95-aceb-8cd6635844d6",
    "outputId": "9ddeea23-68c7-4230-ae9d-73365115a5e7"
   },
   "outputs": [
    {
     "data": {
      "text/plain": [
       "[None, None, None]"
      ]
     },
     "execution_count": 58,
     "metadata": {},
     "output_type": "execute_result"
    }
   ],
   "source": [
    "%%time\n",
    "\n",
    "\n",
    "def test_func3():\n",
    "    def inner_test_func(sleep_time):\n",
    "        time.sleep(sleep_time)\n",
    "    return parallel_map(inner_test_func, args_container=[1, 2, 3])\n",
    "\n",
    "# Пример 6\n",
    "# Работает с функциями, созданными внутри других функций\n",
    "test_func3()"
   ]
  }
 ],
 "metadata": {
  "colab": {
   "provenance": []
  },
  "kernelspec": {
   "display_name": "Python 3 (ipykernel)",
   "language": "python",
   "name": "python3"
  },
  "language_info": {
   "codemirror_mode": {
    "name": "ipython",
    "version": 3
   },
   "file_extension": ".py",
   "mimetype": "text/x-python",
   "name": "python",
   "nbconvert_exporter": "python",
   "pygments_lexer": "ipython3",
   "version": "3.9.13"
  }
 },
 "nbformat": 4,
 "nbformat_minor": 5
}
