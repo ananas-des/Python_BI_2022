{
 "cells": [
  {
   "cell_type": "markdown",
   "id": "7c5a538f-2dbe-445c-9f46-cf0dc18867e4",
   "metadata": {},
   "source": [
    "# Задание 1 (5 баллов)"
   ]
  },
  {
   "cell_type": "markdown",
   "id": "1e8cc3b0-6f60-40da-8058-30d9eb434daf",
   "metadata": {},
   "source": [
    "Напишите классы **Chat**, **Message** и **User**. Они должны соответствовать следующим требованиям:\n",
    "\n",
    "**Chat**:\n",
    "+ Должен иметь атрибут `chat_history`, где будут храниться все сообщения (`Message`) в обратном хронологическом порядке (сначала новые, затем старые)\n",
    "+ Должен иметь метод `show_last_message`, выводящий на экран информацию о последнем сообщении\n",
    "+ Должен иметь метод `get_history_from_time_period`, который принимает два опциональных аргумента (даты с которой и по какую мы ищем сообщения и выдаём их). Метод также должен возвращать объект типа `Chat`\n",
    "+ Должен иметь метод `show_chat`, выводящий на экран все сообщения (каждое сообщение в таком же виде как и `show_last_message`, но с разделителем между ними)\n",
    "+ Должен иметь метод `recieve`, который будет принимать сообщение и добавлять его в чат\n",
    "\n",
    "**Message**:\n",
    "+ Должен иметь три обязательных атрибута\n",
    "    + `text` - текст сообщения\n",
    "    + `datetime` - дата и время сообщения (встроенный модуль datetime вам в помощь). Важно! Это должна быть не дата создания сообщения, а дата его попадания в чат! \n",
    "    + `user` - информация о пользователе, который оставил сообщение (какой тип данных использовать здесь, разберётесь сами)\n",
    "+ Должен иметь метод `show`, который печатает или возвращает информацию о сообщении с необходимой информацией (дата, время, юзер, текст)\n",
    "+ Должен иметь метод `send`, который будет отправлять сообщение в чат\n",
    "\n",
    "**User**:\n",
    "+ Класс с информацией о юзере, наполнение для этого класса придумайте сами\n",
    "\n",
    "Напишите несколько примеров использования кода, которое показывает взаимодействие между объектами.\n",
    "\n",
    "В тексте задания намерено не указано, какие аргументы должны принимать методы, пускай вам в этом поможет здравый смысл)\n",
    "\n",
    "В этом задании не стоит флексить всякими продвинутыми штуками, для этого есть последующие\n",
    "\n",
    "В этом задании можно использовать только модуль `datetime`"
   ]
  },
  {
   "cell_type": "code",
   "execution_count": 28,
   "id": "d2e71384-7cd1-4dc2-8a08-fcb4b89f801e",
   "metadata": {
    "scrolled": true,
    "tags": []
   },
   "outputs": [],
   "source": [
    "from datetime import datetime\n",
    "\n",
    "\n",
    "class Chat:\n",
    "    '''A class to create chat for conteining messages from user\n",
    "    \n",
    "    Methods:\n",
    "        recieve(): to add message to chat\n",
    "        show_last_message(): to obtain information about last message in chat\n",
    "        show_chat(): to show all messages and their information in chat from the newest to the oldest one\n",
    "        str_to_date(): to transform date in string format to datetime format\n",
    "        get_history_from_time_period(): to show all messages and their information for defined time period  \n",
    "    '''\n",
    "    \n",
    "    \n",
    "    def __init__(self, period_history=None):\n",
    "        '''Constructs all the necessary attributes for the Chat object\n",
    "\n",
    "        Parameters:\n",
    "            chat_history (list): contains all messages in the chat\n",
    "        '''\n",
    "        \n",
    "        \n",
    "        if period_history:\n",
    "            self.chat_history = period_history\n",
    "        else:\n",
    "            self.chat_history = []\n",
    "    \n",
    "    \n",
    "    def recieve(self, message):\n",
    "        '''Recieves message and adds it into chat_history\n",
    "        \n",
    "        Parameters:\n",
    "            messages (object, Message): message to add in chat_history\n",
    "        '''\n",
    "        \n",
    "        \n",
    "        self.chat_history.insert(0, message)\n",
    "        \n",
    "        \n",
    "    def show_last_message(self):\n",
    "        '''Shows the last message and its information from chat\n",
    "        \n",
    "        Returns: None\n",
    "        '''\n",
    "    \n",
    "        \n",
    "        last_message = self.chat_history[0]\n",
    "        return last_message.show()\n",
    "    \n",
    "    \n",
    "    def show_chat(self):\n",
    "        '''Shows all messages and their information in chat from the newest to the oldest one\n",
    "        \n",
    "        Returns: None\n",
    "        '''\n",
    "        \n",
    "        \n",
    "        for message in self.chat_history:\n",
    "            message.show()\n",
    "            print(\"--------------------\")\n",
    "            \n",
    "            \n",
    "    def str_to_date(self, strdate):\n",
    "        '''Transforms date from string format to datetime format using datetime module\n",
    "        Example: '2023/02/21' -> datetime.datetime(2023, 2, 21, 0, 0)\n",
    "        Note: this fuction is for module script, but you may use it in your purpose\n",
    "        \n",
    "        Parameters:\n",
    "            strdate (str): date in string format (i.e., datetime.datetime(2023, 2, 21, 0, 0))\n",
    "            \n",
    "        Returns: date in datetime format\n",
    "        '''\n",
    "        \n",
    "        \n",
    "        return datetime.strptime(strdate, \"%Y/%m/%d\")\n",
    "    \n",
    "    \n",
    "    def get_history_from_time_period(self, date_from='0001/01/01', \n",
    "                                     date_to='9999/12/31'):\n",
    "        '''Shows all messages and their information for defined time period\n",
    "        \n",
    "        Parameters:\n",
    "            date_from (str, optional): date to search from, use this format: YYYY/MM/DD\n",
    "            date_to (str, optional): date to search to, use this format: YYYY/MM/DD\n",
    "        Note: default values for date_from and date_to were set according to min and max dates in datetime module \n",
    "            \n",
    "        Returns: new_chat (Chat) - with messages and their information for given time period\n",
    "        '''\n",
    "        \n",
    "        \n",
    "        date_from = self.str_to_date(date_from)\n",
    "        date_to = self.str_to_date(date_to)\n",
    "        \n",
    "        period_history = []\n",
    "        for message in self.chat_history:\n",
    "            if date_from <= message.datetime <= date_to:\n",
    "                period_history.append(message)\n",
    "        new_chat = Chat(period_history)\n",
    "        new_chat.show_chat()\n",
    "        return new_chat\n",
    "    \n",
    "    \n",
    "class Message:\n",
    "    '''A class for creation of text message by user and sending it to chat\n",
    "    \n",
    "    Attributes:\n",
    "        user (dict): dictionary with all information for user created message\n",
    "        text (str): text of the message\n",
    "        \n",
    "    Methods:\n",
    "        user_info(): to create user's info in printable view\n",
    "        show(): to print all message's information\n",
    "        send(): to send message to chat\n",
    "    '''\n",
    "    \n",
    "    \n",
    "    def __init__(self, text, user):\n",
    "        '''Constructs all the necessary attributes for the Message object\n",
    "\n",
    "        Parameters:\n",
    "            user (dict): dictionary with all information for user created message\n",
    "            text (str): text of the message\n",
    "            datetime (datetime.datetime): date and time when message were sended to chat\n",
    "                                          (creats ONLY for messages that were sended to chat)\n",
    "        '''\n",
    "        \n",
    "        \n",
    "        self.user = user.__dict__\n",
    "        self.text = text\n",
    "        self.datetime = None\n",
    "                \n",
    "            \n",
    "    def user_info(self):\n",
    "        '''Creates user's info in printable view\n",
    "        \n",
    "        Returns:\n",
    "            info (str): all user's information as string\n",
    "        '''\n",
    "        \n",
    "        \n",
    "        info = []\n",
    "        for key, value in self.user.items():\n",
    "            info.append(f'{key}: {value}  ')\n",
    "        return info\n",
    "    \n",
    "    \n",
    "    def show(self):\n",
    "        '''Shows text of the message and all information about user created it\n",
    "        \n",
    "        Returns: None\n",
    "        '''\n",
    "        \n",
    "        \n",
    "        for key, value in self.__dict__.items():\n",
    "            if key == \"user\":\n",
    "                print(f'user ... ', *self.user_info())\n",
    "            # elif key == \"datetime\":\n",
    "            elif key == \"datetime\" and value:\n",
    "                print(f'datetime ... {datetime.strftime(value, \"%Y/%m/%d %I:%M%p\")}')\n",
    "            else:\n",
    "                print(f'{key} ... {value}')\n",
    "    \n",
    "\n",
    "    def send(self, chat):\n",
    "        '''Sends message to chat and puts sending date and time in new attribute \"datetime\"\n",
    "        \n",
    "        Parameters:\n",
    "            chat (object, Chat): Chat object to send in message\n",
    "            \n",
    "        Returns: None\n",
    "        '''\n",
    "        \n",
    "        \n",
    "        # date_time = datetime.now()\n",
    "        # setattr(self, \"datetime\", date_time)\n",
    "        self.datetime = datetime.now()\n",
    "        chat.recieve(self)\n",
    "        \n",
    "        \n",
    "class User():\n",
    "    '''A class to represent a user\n",
    "    \n",
    "    Attributes:\n",
    "        name (str): first name of the user\n",
    "        surname (str): family name of the user\n",
    "        nickname (str): nickname of the user\n",
    "        email (str): email of the user\n",
    "    '''\n",
    "    \n",
    "    \n",
    "    def __init__(self, user_dict):\n",
    "        '''Constructs all the necessary attributes for the User object\n",
    "\n",
    "        Parameters:\n",
    "            user_dict (dict): dictionary with all user's information\n",
    "        '''\n",
    "        \n",
    "        \n",
    "        for key, value in user_dict.items():\n",
    "            setattr(self, key, value)"
   ]
  },
  {
   "cell_type": "markdown",
   "id": "6b0cb1f3-f079-4459-bac4-16385a7325b9",
   "metadata": {},
   "source": [
    "## Example 1. Basic usage"
   ]
  },
  {
   "cell_type": "code",
   "execution_count": 3,
   "id": "ff258173-d97d-4b7e-97ca-dc1f69c3b4f6",
   "metadata": {},
   "outputs": [],
   "source": [
    "# the first user\n",
    "user_dict1 = {\"name\": \"Nick\", \n",
    "             \"surname\": \"Goward\", \n",
    "             \"nickname\": \"@ngow\", \n",
    "             \"email\": \"nick_goward@gmail.com\"}\n",
    "user1 = User(user_dict1)\n",
    "mes1 =  Message(\"Hello!\", user1)\n",
    "\n",
    "#the second user\n",
    "user_dict2 = {\"name\": \"Gorge\",\n",
    "             \"surname\": \"Green\",\n",
    "             \"nickname\": \"@ggreen\",\n",
    "             \"email\": \"g_green@gmail.com\"}\n",
    "user2 = User(user_dict2)\n",
    "mes2 = Message(\"My name is Gorge!\", user2)\n",
    "\n",
    "# Chat initiation\n",
    "chat1 = Chat()"
   ]
  },
  {
   "cell_type": "code",
   "execution_count": 4,
   "id": "458e41a4-647a-49c8-be37-495b8cd0c1ce",
   "metadata": {},
   "outputs": [
    {
     "data": {
      "text/plain": [
       "('Nick', 'g_green@gmail.com')"
      ]
     },
     "execution_count": 4,
     "metadata": {},
     "output_type": "execute_result"
    }
   ],
   "source": [
    "# calling attributes for user1 and user2\n",
    "user1.name, user2.email"
   ]
  },
  {
   "cell_type": "code",
   "execution_count": 5,
   "id": "22da99f0-b93f-47e1-bf14-3784547b2091",
   "metadata": {},
   "outputs": [
    {
     "name": "stdout",
     "output_type": "stream",
     "text": [
      "user ...  name: Nick   surname: Goward   nickname: @ngow   email: nick_goward@gmail.com  \n",
      "text ... Hello!\n",
      "datetime ... None\n"
     ]
    }
   ],
   "source": [
    "# user1's message information\n",
    "mes1.show()"
   ]
  },
  {
   "cell_type": "code",
   "execution_count": 6,
   "id": "3cdf5a00-b002-4aa1-8a18-7fd4f129fb1f",
   "metadata": {},
   "outputs": [],
   "source": [
    "# sending mes1 and mes2 to chat1\n",
    "mes1.send(chat1)\n",
    "mes2.send(chat1)"
   ]
  },
  {
   "cell_type": "code",
   "execution_count": 7,
   "id": "ddaaf344-aa91-43be-9c2a-15008eecd0c4",
   "metadata": {},
   "outputs": [
    {
     "name": "stdout",
     "output_type": "stream",
     "text": [
      "user ...  name: Nick   surname: Goward   nickname: @ngow   email: nick_goward@gmail.com  \n",
      "text ... Hello!\n",
      "datetime ... 2023/02/24 11:33AM\n"
     ]
    }
   ],
   "source": [
    "# after sending mes1 to chat it gained datetime\n",
    "mes1.show()"
   ]
  },
  {
   "cell_type": "code",
   "execution_count": 8,
   "id": "28a6d96d-b691-4d8c-89d6-beba7c7a28e9",
   "metadata": {},
   "outputs": [
    {
     "name": "stdout",
     "output_type": "stream",
     "text": [
      "user ...  name: Gorge   surname: Green   nickname: @ggreen   email: g_green@gmail.com  \n",
      "text ... My name is Gorge!\n",
      "datetime ... 2023/02/24 11:33AM\n",
      "--------------------\n",
      "user ...  name: Nick   surname: Goward   nickname: @ngow   email: nick_goward@gmail.com  \n",
      "text ... Hello!\n",
      "datetime ... 2023/02/24 11:33AM\n",
      "--------------------\n"
     ]
    }
   ],
   "source": [
    "# retrieving messages from chat history\n",
    "chat1.show_chat()"
   ]
  },
  {
   "cell_type": "code",
   "execution_count": 9,
   "id": "061b5dde-3f33-4a77-87fc-3714bb7bf765",
   "metadata": {},
   "outputs": [
    {
     "name": "stdout",
     "output_type": "stream",
     "text": [
      "user ...  name: Gorge   surname: Green   nickname: @ggreen   email: g_green@gmail.com  \n",
      "text ... My name is Gorge!\n",
      "datetime ... 2023/02/24 11:33AM\n"
     ]
    }
   ],
   "source": [
    "# obtaining last message in chat\n",
    "chat1.show_last_message()"
   ]
  },
  {
   "cell_type": "markdown",
   "id": "cb86d02e-0010-4d4c-a018-4bb3e23a1d86",
   "metadata": {},
   "source": [
    "## Example2. Obtaining messages for time period\n",
    "\n",
    "To show this method I need to create dataset with different dates for messages."
   ]
  },
  {
   "cell_type": "code",
   "execution_count": 29,
   "id": "b8ac5e6e-ca0e-486a-91a5-9bbed009c114",
   "metadata": {},
   "outputs": [
    {
     "name": "stdout",
     "output_type": "stream",
     "text": [
      "user ...  name: Nick   surname: Goward   nickname: @ngow   email: nick_goward@gmail.com  \n",
      "text ... Hello!\n",
      "datetime ... 2023/02/16 03:15PM\n",
      "--------------------\n",
      "user ...  name: Nick   surname: Goward   nickname: @ngow   email: nick_goward@gmail.com  \n",
      "text ... Hello!\n",
      "datetime ... 2023/02/09 02:45PM\n",
      "--------------------\n"
     ]
    },
    {
     "data": {
      "text/plain": [
       "__main__.Chat"
      ]
     },
     "execution_count": 29,
     "metadata": {},
     "output_type": "execute_result"
    }
   ],
   "source": [
    "messages_list = []\n",
    "dates = [\"2023/02/21 03:15PM\", \"2023/02/16 03:15PM\",\n",
    "         \"2023/02/09 02:45PM\", \"2023/01/02 05:25PM\"]\n",
    "for i in range(len(dates)):\n",
    "    mes = Message(\"Hello!\", user1)\n",
    "    # creating attribute datetime for this Example\n",
    "    mes.datetime = datetime.strptime(dates[i], \"%Y/%m/%d %I:%M%p\")\n",
    "    messages_list.append(mes)\n",
    "\n",
    "chat14 = Chat(messages_list)\n",
    "mes_from_period = chat14.get_history_from_time_period('2023/02/09', '2023/02/17')\n",
    "# type for chat with messages from defined time period\n",
    "type(mes_from_period)"
   ]
  },
  {
   "cell_type": "markdown",
   "id": "a59aa1b3-4c93-480e-a09f-e57df34eb60a",
   "metadata": {},
   "source": [
    "# Задание 2 (3 балла)"
   ]
  },
  {
   "cell_type": "markdown",
   "id": "ab07eb69-877f-4c38-8c7d-88beae20071b",
   "metadata": {},
   "source": [
    "В питоне как-то слишком типично и неинтересно происходят вызовы функций. Напишите класс `Args`, который будет хранить в себе аргументы, а функции можно будет вызывать при помощи следующего синтаксиса.\n",
    "\n",
    "Использовать любые модули **нельзя**, да и вряд-ли это как-то поможет)"
   ]
  },
  {
   "cell_type": "code",
   "execution_count": 31,
   "id": "dc483c33-4379-435c-b58f-9a6a1d9d0108",
   "metadata": {},
   "outputs": [],
   "source": [
    "class Args:\n",
    "    '''A class for calling functions in custom way\n",
    "    Example: sum << Args([1, 2])\n",
    "    \n",
    "    Parameters:\n",
    "        args\n",
    "        kwargs      \n",
    "    '''\n",
    "    \n",
    "    \n",
    "    def __init__(self, *args, **kwargs):\n",
    "        '''Constructs all the necessary attributes for the Args object\n",
    "\n",
    "        Parameters:\n",
    "            args (list)\n",
    "            kwargs (dict)\n",
    "        '''\n",
    "        \n",
    "        \n",
    "        self.args = args\n",
    "        self.kwargs = kwargs\n",
    "    \n",
    "    \n",
    "    def __rlshift__(self, function):\n",
    "        '''Adds the left-shift functionality to a class and\n",
    "        implements the reverse bitwise left-shift operation with reflected, swapped operands\n",
    "        \n",
    "        Parameters:\n",
    "            function (object): function to use on args and kwargs\n",
    "        '''\n",
    "        \n",
    "        \n",
    "        return function(*self.args, **self.kwargs)"
   ]
  },
  {
   "cell_type": "code",
   "execution_count": 12,
   "id": "09e1bbdd-b0f7-4712-a7f5-443db95ecb36",
   "metadata": {},
   "outputs": [
    {
     "data": {
      "text/plain": [
       "3"
      ]
     },
     "execution_count": 12,
     "metadata": {},
     "output_type": "execute_result"
    }
   ],
   "source": [
    "sum << Args([1, 2])"
   ]
  },
  {
   "cell_type": "code",
   "execution_count": 13,
   "id": "c37f0728-9bdc-469e-a5b8-3ab5aa43a731",
   "metadata": {},
   "outputs": [
    {
     "data": {
      "text/plain": [
       "53"
      ]
     },
     "execution_count": 13,
     "metadata": {},
     "output_type": "execute_result"
    }
   ],
   "source": [
    "(lambda a, b, c: a**2 + b + c) << Args(1, 2, c=50)"
   ]
  },
  {
   "cell_type": "markdown",
   "id": "d6915eaf-92fe-460b-bf9b-06ccf55b093f",
   "metadata": {},
   "source": [
    "# Задание 3 (5 баллов)"
   ]
  },
  {
   "cell_type": "markdown",
   "id": "5a588ef8-8af6-42b6-972b-3c716a604c34",
   "metadata": {},
   "source": [
    "Сделайте класс наследник `float`. Он должен вести себя как `float`, но также должен обладать некоторыми особенностями:\n",
    "+ При получении атрибутов формата `<действие>_<число>` мы получаем результат такого действия над нашим числом\n",
    "+ Создавать данные атрибуты в явном виде, очевидно, не стоит\n",
    "\n",
    "Подсказка: если в процессе гуглёжки, вы выйдете на такую тему как **\"Дескрипторы\", то это НЕ то, что вам сейчас нужно**\n",
    "\n",
    "Примеры использования ниже"
   ]
  },
  {
   "cell_type": "code",
   "execution_count": 32,
   "id": "61cb63a2-90ac-4b79-97a5-bb0496262e32",
   "metadata": {},
   "outputs": [],
   "source": [
    "class StrangeFloat(float):\n",
    "    '''A class for extending float functionality'''\n",
    "    \n",
    "    \n",
    "    def __getattr__(self, attr):\n",
    "        '''Deals with unnown attributes\n",
    "        \n",
    "        Parameters:\n",
    "            attr (str): operation and number written via _\n",
    "            \n",
    "        Returns: operation result in StrangeFloat() format\n",
    "        '''\n",
    "        \n",
    "        \n",
    "        operation, number = attr.split('_')\n",
    "        operations = ['add', 'subtract', 'multiply', 'divide']\n",
    "        \n",
    "        if operation not in operations:\n",
    "            raise Exception(\"Unacceptaaaaaaaaaable operation for StrangeFloat, try add, substract, multiply, or divide\")\n",
    "                \n",
    "        if operation == 'add':\n",
    "            return type(self)(self + float(number))\n",
    "        elif operation == 'subtract':\n",
    "            return type(self)(self - float(number))\n",
    "        elif operation == 'multiply':\n",
    "            return type(self)(self * float(number))\n",
    "        elif operation == 'divide':\n",
    "            return type(self)(self / float(number))"
   ]
  },
  {
   "cell_type": "code",
   "execution_count": 33,
   "id": "f730c9c0-7d90-4037-97c6-e926dcbc1ea3",
   "metadata": {},
   "outputs": [],
   "source": [
    "number = StrangeFloat(3.5)"
   ]
  },
  {
   "cell_type": "code",
   "execution_count": 34,
   "id": "b2756368-a489-486d-a0f1-244697f8503c",
   "metadata": {},
   "outputs": [
    {
     "data": {
      "text/plain": [
       "4.5"
      ]
     },
     "execution_count": 34,
     "metadata": {},
     "output_type": "execute_result"
    }
   ],
   "source": [
    "number.add_1"
   ]
  },
  {
   "cell_type": "code",
   "execution_count": 35,
   "id": "c6799592-3cb6-4c7d-af62-9c0a48a76c1d",
   "metadata": {},
   "outputs": [
    {
     "data": {
      "text/plain": [
       "-16.5"
      ]
     },
     "execution_count": 35,
     "metadata": {},
     "output_type": "execute_result"
    }
   ],
   "source": [
    "number.subtract_20"
   ]
  },
  {
   "cell_type": "code",
   "execution_count": 36,
   "id": "130027b5-017a-4c70-b072-1fdc6acf670f",
   "metadata": {},
   "outputs": [
    {
     "data": {
      "text/plain": [
       "17.5"
      ]
     },
     "execution_count": 36,
     "metadata": {},
     "output_type": "execute_result"
    }
   ],
   "source": [
    "number.multiply_5"
   ]
  },
  {
   "cell_type": "code",
   "execution_count": 37,
   "id": "2b901e5c-5a51-4788-b15b-9b20a074e1a4",
   "metadata": {},
   "outputs": [
    {
     "data": {
      "text/plain": [
       "0.14"
      ]
     },
     "execution_count": 37,
     "metadata": {},
     "output_type": "execute_result"
    }
   ],
   "source": [
    "number.divide_25"
   ]
  },
  {
   "cell_type": "code",
   "execution_count": 38,
   "id": "ea52c492-b0ce-4d73-8aba-a0ea51ed0b60",
   "metadata": {},
   "outputs": [
    {
     "data": {
      "text/plain": [
       "-4.125"
      ]
     },
     "execution_count": 38,
     "metadata": {},
     "output_type": "execute_result"
    }
   ],
   "source": [
    "number.add_1.add_2.multiply_6.divide_8.subtract_9"
   ]
  },
  {
   "cell_type": "code",
   "execution_count": 39,
   "id": "e26ef411-a5df-46c7-bb9d-e77a1fad3cec",
   "metadata": {},
   "outputs": [
    {
     "data": {
      "text/plain": [
       "1.0"
      ]
     },
     "execution_count": 39,
     "metadata": {},
     "output_type": "execute_result"
    }
   ],
   "source": [
    "getattr(number, \"add_-2.5\")   # Используем getattr, так как не можем написать number.add_-2.5 - это SyntaxError"
   ]
  },
  {
   "cell_type": "code",
   "execution_count": 40,
   "id": "7a57bb29-1105-4df1-a4c4-5fbf62eef11d",
   "metadata": {},
   "outputs": [
    {
     "data": {
      "text/plain": [
       "11.5"
      ]
     },
     "execution_count": 40,
     "metadata": {},
     "output_type": "execute_result"
    }
   ],
   "source": [
    "number + 8   # Стандартные для float операции работают также"
   ]
  },
  {
   "cell_type": "code",
   "execution_count": 41,
   "id": "f0246b31-c55a-4bb8-ac15-46509bd8b340",
   "metadata": {
    "tags": []
   },
   "outputs": [
    {
     "data": {
      "text/plain": [
       "(7, 2)"
      ]
     },
     "execution_count": 41,
     "metadata": {},
     "output_type": "execute_result"
    }
   ],
   "source": [
    "number.as_integer_ratio()   # Стандартные для float операции работают также  (это встроенный метод float, писать его НЕ НАДО)"
   ]
  },
  {
   "cell_type": "markdown",
   "id": "3635bceb-723c-4b2f-82e3-269bd914c46c",
   "metadata": {},
   "source": [
    "# Задание 4 (3 балла)"
   ]
  },
  {
   "cell_type": "markdown",
   "id": "31d35f82-1e20-4bf5-b896-7b8163f8386f",
   "metadata": {},
   "source": [
    "В данном задании мы немного отдохнём и повеселимся. От вас требуется заменить в данном коде максимально возможное количество синтаксических конструкций на вызовы dunder методов, dunder атрибутов и dunder переменных.\n",
    "\n",
    "Маленькая заметка: полностью всё заменить невозможно. Например, `function()` можно записать как `function.__call__()`, но при этом мы всё ещё не избавляемся от скобочек, так что можно делать так до бесконечности `function.__call__.__call__.__call__.__call__.....__call__()` и при всём при этом мы ещё не избавляемся от `.` для доступа к атрибутам. В общем, замените всё, что получится, не закапываясь в повторы, как в приведённом примере. Чем больше разных методов вы найдёте и используете, тем лучше и тем выше будет балл\n",
    "\n",
    "Код по итогу дожен работать и печатать число **4420.0**, как в примере. Структуру кода менять нельзя, просто изменяем конструкции на синонимичные\n",
    "\n",
    "И ещё маленькая подсказка. Заменить здесь можно всё кроме:\n",
    "+ Конструкции `for ... in ...`:\n",
    "+ Синтаксиса создания лямбда функции\n",
    "+ Оператора присваивания `=`\n",
    "+ Конструкции `if-else`"
   ]
  },
  {
   "cell_type": "code",
   "execution_count": 42,
   "id": "a87cff2a-7168-470d-b38f-1cb5a60ac0c4",
   "metadata": {},
   "outputs": [
    {
     "name": "stdout",
     "output_type": "stream",
     "text": [
      "4420.0\n"
     ]
    }
   ],
   "source": [
    "import numpy as np\n",
    "\n",
    "\n",
    "matrix = []\n",
    "for idx in range(0, 100, 10):\n",
    "    matrix += [list(range(idx, idx + 10))]\n",
    "    \n",
    "selected_columns_indices = list(filter(lambda x: x in range(1, 5, 2), range(len(matrix))))\n",
    "selected_columns = map(lambda x: [x[col] for col in selected_columns_indices], matrix)\n",
    "\n",
    "arr = np.array(list(selected_columns))\n",
    "\n",
    "mask = arr[:, 1] % 3 == 0\n",
    "new_arr = arr[mask]\n",
    "\n",
    "product = new_arr @ new_arr.T\n",
    "\n",
    "if (product[0] < 1000).all() and (product[2] > 1000).any():\n",
    "    print.__call__(product.mean())"
   ]
  },
  {
   "cell_type": "markdown",
   "id": "24b3d58b-b514-4558-95d4-df1770f7fd09",
   "metadata": {},
   "source": [
    "My solution for Task4."
   ]
  },
  {
   "cell_type": "code",
   "execution_count": 43,
   "id": "9e29cc00-c8db-4cc4-a93b-2908352d9344",
   "metadata": {},
   "outputs": [
    {
     "name": "stdout",
     "output_type": "stream",
     "text": [
      "4420.0\n"
     ]
    }
   ],
   "source": [
    "import numpy as np\n",
    "\n",
    "\n",
    "matrix = list.__call__()\n",
    "for idx in range.__call__(0, 100, 10):\n",
    "    # __iadd__ created 1D list and I did not find the way to transform it in right shape (10, 10)\n",
    "    matrix.__getattribute__(\"append\")(list.__call__(range.__call__(idx, idx.__add__(10))))\n",
    "    \n",
    "selected_columns_indices = list.__call__(filter.__call__(\n",
    "    lambda x: x in range.__call__(1, 5, 2), range.__call__(matrix.__len__())))\n",
    "selected_columns = map.__call__(\n",
    "    lambda x: list.__call__(x.__getitem__(col) for col in selected_columns_indices), matrix)\n",
    "\n",
    "arr = np.array.__call__(list.__call__(selected_columns))\n",
    "\n",
    "# here I decided to use __getattribute__ for T\n",
    "# my method for matrix transposition results in two tuples (for rows), which have not got\n",
    "# neither __mod__ nor __sub__ magic methods (my matrix transposition is chown below)\n",
    "mask = arr.__getattribute__(\"T\").__getitem__(1).__mod__(3).__eq__(0)\n",
    "new_arr = arr.__getitem__(mask)\n",
    "\n",
    "# yes, here I used my matrix transposition\n",
    "product = new_arr.__matmul__(list.__call__(zip.__call__(*new_arr)))\n",
    "\n",
    "if product.__getitem__(0).__lt__(1000).__contains__(False).__eq__(False).__and__(\n",
    "    product.__getitem__(2).__gt__(1000).__contains__(True)):\n",
    "    print(sum.__call__(sum.__call__(product)).__truediv__(\n",
    "        product.__len__().__mul__(product.__getitem__(0).__len__())))"
   ]
  },
  {
   "cell_type": "markdown",
   "id": "e90e5938-cabe-4ee1-9a88-73f25b3b67c3",
   "metadata": {},
   "source": [
    "# Задание 5 (10 баллов)"
   ]
  },
  {
   "cell_type": "markdown",
   "id": "0e58f6a8-7bb8-45f0-b14d-3bcd1f1ba5a9",
   "metadata": {},
   "source": [
    "Напишите абстрактный класс `BiologicalSequence`, который задаёт следующий интерфейс:\n",
    "+ Работа с функцией `len`\n",
    "+ Возможность получать элементы по индексу и делать срезы последовательности (аналогично строкам)\n",
    "+ Вывод на печать в удобном виде и возможность конвертации в строку\n",
    "+ Возможность проверить алфавит последовательности на корректность\n",
    "\n",
    "Напишите класс `NucleicAcidSequence`:\n",
    "+ Данный класс реализует интерфейс `BiologicalSequence`\n",
    "+ Данный класс имеет новый метод `complement`, возвращающий комплементарную последовательность\n",
    "+ Данный класс имеет новый метод `gc_content`, возвращающий GC-состав (без разницы, в процентах или в долях)\n",
    "\n",
    "Напишите классы наследники `NucleicAcidSequence`: `DNASequence` и `RNASequence`\n",
    "+ `DNASequence` должен иметь метод `transcribe`, возвращающий транскрибированную РНК-последовательность\n",
    "+ Данные классы не должны иметь <ins>публичных методов</ins> `complement` и метода для проверки алфавита, так как они уже должны быть реализованы в `NucleicAcidSequence`.\n",
    "\n",
    "Напишите класс `AminoAcidSequence`:\n",
    "+ Данный класс реализует интерфейс `BiologicalSequence`\n",
    "+ Добавьте этому классу один любой метод, подходящий по смыслу к аминокислотной последовательности. Например, метод для нахождения изоэлектрической точки, молекулярного веса и т.д.\n",
    "\n",
    "Комментарий по поводу метода `NucleicAcidSequence.complement`, так как я хочу, чтобы вы сделали его опредедённым образом:\n",
    "\n",
    "При вызове `dna.complement()` или условного `dna.check_alphabet()` должны будут вызываться соответствующие методы из `NucleicAcidSequence`. При этом, данный метод должен обладать свойством полиморфизма, иначе говоря, внутри `complement` не надо делать условия а-ля `if seuqence_type == \"DNA\": return self.complement_dna()`, это крайне не гибко. Данный метод должен опираться на какой-то общий интерфейс между ДНК и РНК. Создание экземпляров `NucleicAcidSequence` не подразумевается, поэтому код `NucleicAcidSequence(\"ATGC\").complement()` не обязан работать, а в идеале должен кидать исключение `NotImplementedError` при вызове от экземпляра `NucleicAcidSequence`\n",
    "\n",
    "Вся сложность задания в том, чтобы правильно организовать код. Если у вас есть повторяющийся код в сестринских классах или родительском и дочернем, значит вы что-то делаете не так.\n",
    "\n",
    "\n",
    "Маленькое замечание: По-хорошему, между классом `BiologicalSequence` и классами `NucleicAcidSequence` и `AminoAcidSequence`, ещё должен быть класс-прослойка, частично реализующий интерфейс `BiologicalSequence`, но его писать не обязательно, так как задание и так довольно большое (правда из-за этого у вас неминуемо возникнет повторяющийся код в классах `NucleicAcidSequence` и `AminoAcidSequence`)"
   ]
  },
  {
   "cell_type": "code",
   "execution_count": 58,
   "id": "f17d5d3f-9982-4271-a987-3af7bc071c42",
   "metadata": {},
   "outputs": [
    {
     "name": "stdout",
     "output_type": "stream",
     "text": [
      "ACGTACGTACGT\n",
      "ACGTA A\n",
      "TGCATGCATGCA\n",
      "ACGUACGUACGU\n",
      "UGCAUGCAUGCA\n",
      "PAVLIMCFYWHKRQNEDST\n",
      "7115\n",
      "True False\n"
     ]
    }
   ],
   "source": [
    "from abc import ABC, abstractmethod\n",
    "\n",
    "\n",
    "class BiologicalSequence(ABC):\n",
    "    '''An abstract class for biological sequences\n",
    "    \n",
    "    Abstract methods:\n",
    "        __init__(): class constructor\n",
    "        __getitem__(): gets item by slice or index\n",
    "        __len__(): returns sequence length\n",
    "        __str__(): makes readable sequence version\n",
    "        __repr__(): for class representation\n",
    "        check_alphabet(): checks if sequence correspondes to class alphabet\n",
    "    '''\n",
    "    \n",
    "    @abstractmethod\n",
    "    def __init__(self, seq):\n",
    "        pass\n",
    "     \n",
    "        \n",
    "    @abstractmethod\n",
    "    def __getitem__(self, els):\n",
    "        pass\n",
    "    \n",
    "    \n",
    "    @abstractmethod\n",
    "    def __len__(self):\n",
    "        pass\n",
    "    \n",
    "    \n",
    "    @abstractmethod\n",
    "    def __str__(self):\n",
    "        pass\n",
    "    \n",
    "    \n",
    "    @abstractmethod\n",
    "    def __repr__(self):\n",
    "        pass\n",
    "    \n",
    "    \n",
    "    @abstractmethod\n",
    "    def check_alphabet(self):\n",
    "        pass\n",
    "    \n",
    "\n",
    "class AminoNucSequence(BiologicalSequence):\n",
    "    '''A class for implementation of BiologicalSequence interface'''\n",
    "    \n",
    "    def __init__(self, seq):\n",
    "        if isinstance(seq, str):\n",
    "            self.seq = seq.upper()\n",
    "        else:\n",
    "            raise NotImplementedError('NotImplemented')\n",
    "        \n",
    "     \n",
    "    def __getitem__(self, els):\n",
    "        return self.seq[els]\n",
    "    \n",
    "    \n",
    "    def __len__(self):\n",
    "        return len(self.seq)\n",
    "    \n",
    "    \n",
    "    def __str__(self):\n",
    "        return self.seq\n",
    "    \n",
    "    \n",
    "    def __repr__(self):\n",
    "        return f'{type(self).__name__}:\\n{self.seq}'\n",
    "    \n",
    "    \n",
    "    def check_alphabet(self):\n",
    "        for letter in self.seq:\n",
    "            if letter not in self.alphabet:\n",
    "                return False\n",
    "        return True\n",
    "    \n",
    "    \n",
    "class NucleicAcidSequence(AminoNucSequence):\n",
    "    '''A class for nucleic acid sequences\n",
    "    \n",
    "    Methods:\n",
    "        complement(): makes coplement for nucleic acid\n",
    "        gc_content(): counts GC-content of nucleic acid\n",
    "    '''\n",
    "    \n",
    "    \n",
    "    def complement(self):\n",
    "        '''To complement nucleic acid sequence\n",
    "        \n",
    "        Returns: str, complemented nucleic acid sequence    \n",
    "        '''\n",
    "        \n",
    "        \n",
    "        assert self.check_alphabet(), 'Wrong alphabet'\n",
    "        if hasattr(self, 'alphabet'):\n",
    "             return self.seq.translate(str.maketrans(self.alphabet))\n",
    "        else:\n",
    "            raise NotImplementedError('NotImplemented')\n",
    "    \n",
    "    \n",
    "    def gc_content(self):\n",
    "        '''To calculate GC-content of nucleic acid sequence\n",
    "        \n",
    "        Returns: float, GC-share in nucleic acid sequence\n",
    "        '''\n",
    "        \n",
    "        \n",
    "        assert self.check_alphabet(), 'Wrong alphabet'\n",
    "        return (self.seq.count('G') + self.seq.count('C')) / len(self.seq)\n",
    "\n",
    "    \n",
    "class DNASequence(NucleicAcidSequence):\n",
    "    '''A class for DNA sequences\n",
    "    \n",
    "    Attributes:\n",
    "        alphabet (dict): contains complement DNA nucleotides pairs\n",
    "        \n",
    "    Methods:\n",
    "        transcribe(): transcribes nucleic acid sequence\n",
    "    '''\n",
    "    \n",
    "    \n",
    "    alphabet = {'A': 'T', 'T': 'A',\n",
    "                'G': 'C', 'C': 'G'}\n",
    "    \n",
    "    def transcribe(self):\n",
    "        '''To transcribe nucleic acid sequence\n",
    "        \n",
    "        Returns: str, transcribed nucleic acid sequence\n",
    "        '''\n",
    "        \n",
    "        \n",
    "        assert self.check_alphabet(), 'Wrong alphabet'\n",
    "        return self.seq.replace('T', 'U')\n",
    "\n",
    "\n",
    "class RNASequence(NucleicAcidSequence):\n",
    "    '''A class for RNA sequences\n",
    "    \n",
    "    Attributes:\n",
    "        alphabet (dict): contains complement RNA nucleotides pairs\n",
    "    '''\n",
    "    \n",
    "    \n",
    "    alphabet = {'A': 'U', 'U': 'A',\n",
    "                'G': 'C', 'C': 'G'}\n",
    "\n",
    "    \n",
    "class AminoAcidSequence(AminoNucSequence):\n",
    "    '''A class for amino acid sequences\n",
    "    \n",
    "    Attributes:\n",
    "        alphabet (frozen): contains all amino acids\n",
    "        \n",
    "    Methods:\n",
    "        extinction_coef(): calculates extinction coefficient for amino acid sequence\n",
    "    '''\n",
    "\n",
    "    \n",
    "    alphabet = frozenset('GPAVLIMCFYWHKRQNEDST')\n",
    "    \n",
    "    \n",
    "    def extinction_coef(self):\n",
    "        '''Calculates extinction coefficient, \n",
    "        asuming all Cys (C) is in disulfide bonds\n",
    "        \n",
    "        Returns: int, calculated extinction coefficient\n",
    "        '''\n",
    "        \n",
    "        \n",
    "        assert self.check_alphabet, 'Wrong alphabet'\n",
    "        n_W = self.seq.count('W')\n",
    "        n_Y = self.seq.count('Y')\n",
    "        n_C = self.seq.count('C')\n",
    "        return n_W * 5500 + n_Y * 1490 + n_C * 125\n",
    "    \n",
    "\n",
    "if __name__ == '__main__':\n",
    "    seq1 = DNASequence('ACGTACGTACGT')\n",
    "    seq2 = RNASequence('ACGUACGUACGU')\n",
    "    seq3 = AminoAcidSequence('GPAVLIMCFYWHKRQNEDST')\n",
    "    seq4  = AminoAcidSequence('ZZZGPAVLIMCFYWZZZZHKRQNEDSTZZZ')\n",
    "    print(seq1)\n",
    "    print(seq1[:5], seq1[0])\n",
    "    print(seq1.complement())\n",
    "    print(seq1.transcribe())\n",
    "    print(seq2.complement())\n",
    "    print(seq3[1:])\n",
    "    print(seq3.extinction_coef())\n",
    "    print(seq3.check_alphabet(), seq4.check_alphabet())"
   ]
  }
 ],
 "metadata": {
  "kernelspec": {
   "display_name": "Python 3 (ipykernel)",
   "language": "python",
   "name": "python3"
  },
  "language_info": {
   "codemirror_mode": {
    "name": "ipython",
    "version": 3
   },
   "file_extension": ".py",
   "mimetype": "text/x-python",
   "name": "python",
   "nbconvert_exporter": "python",
   "pygments_lexer": "ipython3",
   "version": "3.9.13"
  }
 },
 "nbformat": 4,
 "nbformat_minor": 5
}
